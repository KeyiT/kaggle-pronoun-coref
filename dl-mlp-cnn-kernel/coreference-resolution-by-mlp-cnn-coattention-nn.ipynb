{
 "cells": [
  {
   "cell_type": "markdown",
   "metadata": {
    "_uuid": "2440b4a26da21815c0b967d0a3b8d6b9d734add2"
   },
   "source": [
    "This kernel implements 4 DL models for coreference resolution. All the model in this kernel are Non-RNN Based DL models.\n",
    "\n",
    "Features extraction used in this kernel follows Clark and Mannings work: https://nlp.stanford.edu/pubs/clark2016improving.pdf\n",
    "If you are interested in RNN based End2End coreference solution model, please check this kernel: https://www.kaggle.com/keyit92/end2end-coref-resolution-by-attention-rnn."
   ]
  },
  {
   "cell_type": "code",
   "execution_count": 1,
   "metadata": {
    "_cell_guid": "b1076dfc-b9ad-4769-8c92-a6c4dae69d19",
    "_uuid": "8f2839f25d086af736a60e9eeb907d3b93b6e0e5"
   },
   "outputs": [
    {
     "name": "stdout",
     "output_type": "stream",
     "text": [
      "['gap-coreference', 'gendered-pronoun-resolution', 'fasttext-crawl-300d-2m']\n"
     ]
    }
   ],
   "source": [
    "# This Python 3 environment comes with many helpful analytics libraries installed\n",
    "# It is defined by the kaggle/python docker image: https://github.com/kaggle/docker-python\n",
    "# For example, here's several helpful packages to load in \n",
    "\n",
    "import numpy as np # linear algebra\n",
    "import pandas as pd # data processing, CSV file I/O (e.g. pd.read_csv)\n",
    "\n",
    "# Input data files are available in the \"../input/\" directory.\n",
    "# For example, running this (by clicking run or pressing Shift+Enter) will list the files in the input directory\n",
    "\n",
    "import os\n",
    "import gc\n",
    "print(os.listdir(\"../input\"))\n",
    "\n",
    "# Any results you write to the current directory are saved as output."
   ]
  },
  {
   "cell_type": "code",
   "execution_count": 2,
   "metadata": {
    "_cell_guid": "79c7e3d0-c299-4dcb-8224-4455121ee9b0",
    "_uuid": "d629ff2d2480ee46fbb7e2d37f6b5fab8052498a"
   },
   "outputs": [],
   "source": [
    "DATA_ROOT = '../input/'\n",
    "GAP_DATA_FOLDER = os.path.join(DATA_ROOT, 'gap-coreference')\n",
    "SUB_DATA_FOLDER = os.path.join(DATA_ROOT, 'gendered-pronoun-resolution')\n",
    "FAST_TEXT_DATA_FOLDER = os.path.join(DATA_ROOT, 'fasttext-crawl-300d-2m')"
   ]
  },
  {
   "cell_type": "markdown",
   "metadata": {
    "_uuid": "461cb23b791e2d210e712c933e62de59d19aa20d"
   },
   "source": [
    "# Import Data"
   ]
  },
  {
   "cell_type": "code",
   "execution_count": 3,
   "metadata": {
    "_uuid": "e42e2e7f636cf0702cc472f3d855b451554927dd"
   },
   "outputs": [],
   "source": [
    "test_df_path = os.path.join(GAP_DATA_FOLDER, 'gap-development.tsv')\n",
    "train_df_path = os.path.join(GAP_DATA_FOLDER, 'gap-test.tsv')\n",
    "dev_df_path = os.path.join(GAP_DATA_FOLDER, 'gap-validation.tsv')\n",
    "\n",
    "train_df = pd.read_csv(train_df_path, sep='\\t')\n",
    "test_df = pd.read_csv(test_df_path, sep='\\t')\n",
    "dev_df = pd.read_csv(dev_df_path, sep='\\t')\n",
    "\n",
    "#pd.options.display.max_colwidth = 1000"
   ]
  },
  {
   "cell_type": "code",
   "execution_count": 4,
   "metadata": {
    "_uuid": "2eb32fae335b77dae0a60ade52b7ea0a32d8cb3d"
   },
   "outputs": [
    {
     "data": {
      "text/html": [
       "<div>\n",
       "<style scoped>\n",
       "    .dataframe tbody tr th:only-of-type {\n",
       "        vertical-align: middle;\n",
       "    }\n",
       "\n",
       "    .dataframe tbody tr th {\n",
       "        vertical-align: top;\n",
       "    }\n",
       "\n",
       "    .dataframe thead th {\n",
       "        text-align: right;\n",
       "    }\n",
       "</style>\n",
       "<table border=\"1\" class=\"dataframe\">\n",
       "  <thead>\n",
       "    <tr style=\"text-align: right;\">\n",
       "      <th></th>\n",
       "      <th>ID</th>\n",
       "      <th>Text</th>\n",
       "      <th>Pronoun</th>\n",
       "      <th>Pronoun-offset</th>\n",
       "      <th>A</th>\n",
       "      <th>A-offset</th>\n",
       "      <th>A-coref</th>\n",
       "      <th>B</th>\n",
       "      <th>B-offset</th>\n",
       "      <th>B-coref</th>\n",
       "      <th>URL</th>\n",
       "    </tr>\n",
       "  </thead>\n",
       "  <tbody>\n",
       "    <tr>\n",
       "      <th>0</th>\n",
       "      <td>test-1</td>\n",
       "      <td>Upon their acceptance into the Kontinental Hoc...</td>\n",
       "      <td>His</td>\n",
       "      <td>383</td>\n",
       "      <td>Bob Suter</td>\n",
       "      <td>352</td>\n",
       "      <td>False</td>\n",
       "      <td>Dehner</td>\n",
       "      <td>366</td>\n",
       "      <td>True</td>\n",
       "      <td>http://en.wikipedia.org/wiki/Jeremy_Dehner</td>\n",
       "    </tr>\n",
       "    <tr>\n",
       "      <th>1</th>\n",
       "      <td>test-2</td>\n",
       "      <td>Between the years 1979-1981, River won four lo...</td>\n",
       "      <td>him</td>\n",
       "      <td>430</td>\n",
       "      <td>Alonso</td>\n",
       "      <td>353</td>\n",
       "      <td>True</td>\n",
       "      <td>Alfredo Di St*fano</td>\n",
       "      <td>390</td>\n",
       "      <td>False</td>\n",
       "      <td>http://en.wikipedia.org/wiki/Norberto_Alonso</td>\n",
       "    </tr>\n",
       "    <tr>\n",
       "      <th>2</th>\n",
       "      <td>test-3</td>\n",
       "      <td>Though his emigration from the country has aff...</td>\n",
       "      <td>He</td>\n",
       "      <td>312</td>\n",
       "      <td>Ali Aladhadh</td>\n",
       "      <td>256</td>\n",
       "      <td>True</td>\n",
       "      <td>Saddam</td>\n",
       "      <td>295</td>\n",
       "      <td>False</td>\n",
       "      <td>http://en.wikipedia.org/wiki/Aladhadh</td>\n",
       "    </tr>\n",
       "    <tr>\n",
       "      <th>3</th>\n",
       "      <td>test-4</td>\n",
       "      <td>At the trial, Pisciotta said: ``Those who have...</td>\n",
       "      <td>his</td>\n",
       "      <td>526</td>\n",
       "      <td>Alliata</td>\n",
       "      <td>377</td>\n",
       "      <td>False</td>\n",
       "      <td>Pisciotta</td>\n",
       "      <td>536</td>\n",
       "      <td>True</td>\n",
       "      <td>http://en.wikipedia.org/wiki/Gaspare_Pisciotta</td>\n",
       "    </tr>\n",
       "    <tr>\n",
       "      <th>4</th>\n",
       "      <td>test-5</td>\n",
       "      <td>It is about a pair of United States Navy shore...</td>\n",
       "      <td>his</td>\n",
       "      <td>406</td>\n",
       "      <td>Eddie</td>\n",
       "      <td>421</td>\n",
       "      <td>True</td>\n",
       "      <td>Rock Reilly</td>\n",
       "      <td>559</td>\n",
       "      <td>False</td>\n",
       "      <td>http://en.wikipedia.org/wiki/Chasers</td>\n",
       "    </tr>\n",
       "  </tbody>\n",
       "</table>\n",
       "</div>"
      ],
      "text/plain": [
       "       ID                       ...                                                                   URL\n",
       "0  test-1                       ...                            http://en.wikipedia.org/wiki/Jeremy_Dehner\n",
       "1  test-2                       ...                          http://en.wikipedia.org/wiki/Norberto_Alonso\n",
       "2  test-3                       ...                                 http://en.wikipedia.org/wiki/Aladhadh\n",
       "3  test-4                       ...                        http://en.wikipedia.org/wiki/Gaspare_Pisciotta\n",
       "4  test-5                       ...                                  http://en.wikipedia.org/wiki/Chasers\n",
       "\n",
       "[5 rows x 11 columns]"
      ]
     },
     "execution_count": 4,
     "metadata": {},
     "output_type": "execute_result"
    }
   ],
   "source": [
    "train_df.head()"
   ]
  },
  {
   "cell_type": "markdown",
   "metadata": {
    "_uuid": "d60addb918fc181bd736f5497c3114dbf3d3bfd4"
   },
   "source": [
    "# Explore Features for Building Mention-Pair Distributed Representation"
   ]
  },
  {
   "cell_type": "markdown",
   "metadata": {
    "_uuid": "29aa143f16f3aa13fc8b6bdc6bd785c05a3059da"
   },
   "source": [
    "## Embedding Features"
   ]
  },
  {
   "cell_type": "markdown",
   "metadata": {
    "_uuid": "f8cef73c1ec7c1cb47bd0471cda9a31c3c297f20"
   },
   "source": [
    "Follow the idea from the work by Clark and Manning, extract word embedding of head word, dependency parent, first word, last word, two preceding words and two following words of the mention.  Average word embeding of the five preceding words, five following words, all words in the mention, all words in the sentences."
   ]
  },
  {
   "cell_type": "markdown",
   "metadata": {
    "_uuid": "c89b58ad8418cb71f6bec672e5787c71b4905ea9"
   },
   "source": [
    "### Parse Text"
   ]
  },
  {
   "cell_type": "code",
   "execution_count": 5,
   "metadata": {
    "_uuid": "177d5f8cca6584d7e542ea1ed6112e091e78d787"
   },
   "outputs": [],
   "source": [
    "from spacy.lang.en import English\n",
    "from spacy.pipeline import DependencyParser\n",
    "import spacy\n",
    "from nltk import Tree"
   ]
  },
  {
   "cell_type": "code",
   "execution_count": 6,
   "metadata": {
    "_uuid": "d6b32ea0633dd9cceb551115f56f0ef94ee5b91c"
   },
   "outputs": [],
   "source": [
    "nlp = spacy.load('en_core_web_sm')\n",
    "\n",
    "def to_nltk_tree(node):\n",
    "    if node.n_lefts + node.n_rights > 0:\n",
    "        return Tree(node.orth_, [to_nltk_tree(child) for child in node.children])\n",
    "    else:\n",
    "        return node.orth_\n",
    "\n",
    "def bs(list_, target_):\n",
    "    lo, hi = 0, len(list_) -1\n",
    "    \n",
    "    while lo < hi:\n",
    "        mid = lo + int((hi - lo) / 2)\n",
    "        \n",
    "        if target_ < list_[mid]:\n",
    "            hi = mid\n",
    "        elif target_ > list_[mid]:\n",
    "            lo = mid + 1\n",
    "        else:\n",
    "            return mid + 1\n",
    "    return lo\n",
    "\n",
    "def _get_preceding_words(tokens, offset, k):\n",
    "    start = offset - k\n",
    "    \n",
    "    precedings = [None] * max(0, 0-start)\n",
    "    start = max(0, start)\n",
    "    precedings += tokens[start: offset]\n",
    "    \n",
    "    return precedings\n",
    "\n",
    "def _get_following_words(tokens, offset, k):\n",
    "    end = offset + k\n",
    "    \n",
    "    followings = [None] * max(0, end - len(tokens))\n",
    "    end = min(len(tokens), end)\n",
    "    followings += tokens[offset: end]\n",
    "    \n",
    "    return followings\n",
    "        \n",
    "\n",
    "def extrac_embed_features_tokens(text, char_offset):\n",
    "    doc = nlp(text)\n",
    "    \n",
    "    # char offset to token offset\n",
    "    lens = [token.idx for token in doc]\n",
    "    mention_offset = bs(lens, char_offset) - 1\n",
    "    # mention_word\n",
    "    mention = doc[mention_offset]\n",
    "    \n",
    "    # token offset to sentence offset\n",
    "    lens = [len(sent) for sent in doc.sents]\n",
    "    acc_lens = [len_ for len_ in lens]\n",
    "    pre_len = 0\n",
    "    for i in range(0, len(acc_lens)):\n",
    "        pre_len += acc_lens[i]\n",
    "        acc_lens[i] = pre_len\n",
    "    sent_index = bs(acc_lens, mention_offset)\n",
    "    # mention sentence\n",
    "    sent = list(doc.sents)[sent_index]\n",
    "    \n",
    "    # dependency parent\n",
    "    head = mention.head\n",
    "    \n",
    "    offset = mention_offset\n",
    "    if sent_index > 0:\n",
    "        offset = mention_offset - acc_lens[sent_index-1]\n",
    "    \n",
    "    # last word and first word\n",
    "    first_word, last_word = sent[0], sent[-2]\n",
    "    \n",
    "    # two preceding words and two following words\n",
    "    tokens = list(doc)\n",
    "    precedings2 = _get_preceding_words(tokens, mention_offset, 2)\n",
    "    followings2 = _get_following_words(tokens, mention_offset, 2)\n",
    "    \n",
    "    # five preceding words and five following words\n",
    "    precedings5 = _get_preceding_words(tokens, mention_offset, 5)\n",
    "    followings5 = _get_following_words(tokens, mention_offset, 5)\n",
    "    \n",
    "    # sentence words\n",
    "    sent_tokens = [token for token in sent]\n",
    "    \n",
    "    return mention, head, first_word, last_word, precedings2, followings2, precedings5, followings5, sent_tokens"
   ]
  },
  {
   "cell_type": "markdown",
   "metadata": {
    "_uuid": "2b791ce0f258c4dbdd1cd2d58b1d0a102a1ab3cc"
   },
   "source": [
    "Example:"
   ]
  },
  {
   "cell_type": "code",
   "execution_count": 7,
   "metadata": {
    "_uuid": "ec45a77382b6840d6986589300efabbbc7d1eb69"
   },
   "outputs": [
    {
     "name": "stdout",
     "output_type": "stream",
     "text": [
      "Texts: \n",
      "Zoe Telford -- played the police officer girlfriend of Simon, Maggie. Dumped by Simon in the final episode of series 1, after he slept with Jenny, and is not seen again. Phoebe Thomas played Cheryl Cassidy, Pauline's friend and also a year 11 pupil in Simon's class. Dumped her boyfriend following Simon's advice after he wouldn't have sex with her but later realised this was due to him catching crabs off her friend Pauline.\n",
      "\n",
      "Dependency parsing trees: \n",
      "                    played                                           \n",
      "  ____________________|_______________________                        \n",
      " |         |                              girlfriend                 \n",
      " |         |                   _______________|____________           \n",
      " |         |                  |                            of        \n",
      " |         |                  |                            |          \n",
      " |      Telford            officer                       Simon       \n",
      " |    _____|_____      _______|______                  ____|_____     \n",
      " .  Zoe          --  the           police             ,        Maggie\n",
      "\n",
      "                                 Dumped                                   \n",
      "  _________________________________|______________                         \n",
      " |   |    |          in                           |                       \n",
      " |   |    |          |                            |                        \n",
      " |   |    |       episode                         |                       \n",
      " |   |    |     _____|______                      |                        \n",
      " |   |    |    |     |      of                  slept                     \n",
      " |   |    |    |     |      |       ______________|______________          \n",
      " |   |    by   |     |    series   |     |   |    |    with     seen      \n",
      " |   |    |    |     |      |      |     |   |    |     |     ___|_____    \n",
      " ,   .  Simon the  final    1    after   he  ,   and  Jenny  is not  again\n",
      "\n",
      "                      played                              \n",
      "  ______________________|_______                           \n",
      " |    |                      Cassidy                      \n",
      " |    |       __________________|___________               \n",
      " |    |      |     |    |       |         pupil           \n",
      " |    |      |     |    |       |      _____|__________    \n",
      " |    |      |     |    |       |     |     |    |     in \n",
      " |    |      |     |    |       |     |     |    |     |   \n",
      " |    |      |     |    |     friend  |     |    |   class\n",
      " |    |      |     |    |       |     |     |    |     |   \n",
      " |  Thomas   |     |    |    Pauline  |     |   year Simon\n",
      " |    |      |     |    |       |     |     |    |     |   \n",
      " .  Phoebe Cheryl  ,   and      's   also   a    11    's \n",
      "\n",
      "                                            Dumped                                                               \n",
      "  ____________________________________________|_________                                                          \n",
      " |      |         |                                    have                                                      \n",
      " |      |         |        _____________________________|_________________                                        \n",
      " |      |         |       |    |    |    |    |     |   |              realised                                  \n",
      " |      |         |       |    |    |    |    |     |   |      ___________|_______                                \n",
      " |      |         |       |    |    |    |    |     |   |     |                  was                             \n",
      " |      |         |       |    |    |    |    |     |   |     |     ______________|____                           \n",
      " |      |         |       |    |    |    |    |     |   |     |    |                  due                        \n",
      " |      |         |       |    |    |    |    |     |   |     |    |       ____________|_____                     \n",
      " |      |     following   |    |    |    |    |     |   |     |    |      |               catching               \n",
      " |      |         |       |    |    |    |    |     |   |     |    |      |        __________|_______             \n",
      " |      |       advice    |    |    |    |    |     |   |     |    |      |       |                 off          \n",
      " |      |         |       |    |    |    |    |     |   |     |    |      |       |                  |            \n",
      " |  boyfriend   Simon     |    |    |    |    |     |  with   |    |      to      |                friend        \n",
      " |      |         |       |    |    |    |    |     |   |     |    |      |       |           _______|_______     \n",
      " .     her        's    after  he would n't  sex   but her  later this   him    crabs       her           Pauline\n",
      "\n",
      "\n",
      "Features:\n"
     ]
    },
    {
     "data": {
      "text/plain": [
       "mention                                                      her\n",
       "parent                                                 boyfriend\n",
       "first_word                                                Dumped\n",
       "last_word                                                Pauline\n",
       "precedings2                                          [., Dumped]\n",
       "followings2                                     [her, boyfriend]\n",
       "precedings5                        [Simon, 's, class, ., Dumped]\n",
       "followings5               [her, boyfriend, following, Simon, 's]\n",
       "sent_tokens    [Dumped, her, boyfriend, following, Simon, 's,...\n",
       "dtype: object"
      ]
     },
     "execution_count": 7,
     "metadata": {},
     "output_type": "execute_result"
    }
   ],
   "source": [
    "print(\"Texts: \")\n",
    "text = u\"Zoe Telford -- played the police officer girlfriend of Simon, Maggie. Dumped by Simon in the final episode of series 1, after he slept with Jenny, and is not seen again. Phoebe Thomas played Cheryl Cassidy, Pauline's friend and also a year 11 pupil in Simon's class. Dumped her boyfriend following Simon's advice after he wouldn't have sex with her but later realised this was due to him catching crabs off her friend Pauline.\"\n",
    "print(text)\n",
    "\n",
    "print(\"\\nDependency parsing trees: \")\n",
    "doc = nlp(text)\n",
    "[to_nltk_tree(sent.root).pretty_print() for sent in doc.sents]\n",
    "\n",
    "print(\"\\nFeatures:\")\n",
    "mention, parent, first_word, last_word, precedings2, followings2, precedings5, followings5, sent_tokens = extrac_embed_features_tokens(text, 274)\n",
    "features = pd.Series([str(feature) for feature in (mention, parent, first_word, last_word, precedings2, followings2, precedings5, followings5, sent_tokens)], index=['mention', 'parent', 'first_word', 'last_word', 'precedings2', 'followings2', 'precedings5', 'followings5', 'sent_tokens'])\n",
    "features"
   ]
  },
  {
   "cell_type": "markdown",
   "metadata": {
    "_uuid": "bfcd994bd7d0e7ec44248efb5370fe69fb201040"
   },
   "source": [
    "### Generate Embedding Features"
   ]
  },
  {
   "cell_type": "code",
   "execution_count": 8,
   "metadata": {
    "_uuid": "0207e42f6dfaf422c1af0494a314fe8c2d78e21a"
   },
   "outputs": [],
   "source": [
    "num_embed_features = 11\n",
    "embed_dim = 384"
   ]
  },
  {
   "cell_type": "code",
   "execution_count": 9,
   "metadata": {
    "_uuid": "c9704c8a0b69ffe9ddd011190e738084101c1da9"
   },
   "outputs": [],
   "source": [
    "def create_embedding_features(df, text_column, offset_column):\n",
    "    text_offset_list = df[[text_column, offset_column]].values.tolist()\n",
    "    num_features = num_embed_features\n",
    "    \n",
    "    embed_feature_matrix = np.zeros(shape=(len(text_offset_list), num_features, embed_dim))\n",
    "    for text_offset_index in range(len(text_offset_list)):\n",
    "        text_offset = text_offset_list[text_offset_index]\n",
    "        mention, parent, first_word, last_word, precedings2, followings2, precedings5, followings5, sent_tokens = extrac_embed_features_tokens(text_offset[0], text_offset[1])\n",
    "        \n",
    "        feature_index = 0\n",
    "        embed_feature_matrix[text_offset_index, feature_index, :] = mention.vector\n",
    "        feature_index += 1\n",
    "        embed_feature_matrix[text_offset_index, feature_index, :] = parent.vector\n",
    "        feature_index += 1\n",
    "        embed_feature_matrix[text_offset_index, feature_index, :] = first_word.vector\n",
    "        feature_index += 1\n",
    "        embed_feature_matrix[text_offset_index, feature_index, :] = last_word.vector\n",
    "        feature_index += 1\n",
    "        embed_feature_matrix[text_offset_index, feature_index:feature_index+2, :] = np.asarray([token.vector if token is not None else np.zeros((embed_dim,)) for token in precedings2])\n",
    "        feature_index += len(precedings2)\n",
    "        embed_feature_matrix[text_offset_index, feature_index:feature_index+2, :] = np.asarray([token.vector if token is not None else np.zeros((embed_dim,)) for token in followings2])\n",
    "        feature_index += len(followings2)\n",
    "        embed_feature_matrix[text_offset_index, feature_index, :] = np.mean(np.asarray([token.vector if token is not None else np.zeros((embed_dim,)) for token in precedings5]), axis=0)\n",
    "        feature_index += 1\n",
    "        embed_feature_matrix[text_offset_index, feature_index, :] = np.mean(np.asarray([token.vector if token is not None else np.zeros((embed_dim,)) for token in followings5]), axis=0)\n",
    "        feature_index += 1\n",
    "        embed_feature_matrix[text_offset_index, feature_index, :] = np.mean(np.asarray([token.vector for token in sent_tokens]), axis=0) if len(sent_tokens) > 0 else np.zeros(embed_dim)\n",
    "        feature_index += 1\n",
    "    \n",
    "    return embed_feature_matrix"
   ]
  },
  {
   "cell_type": "markdown",
   "metadata": {
    "_uuid": "2755927ba88262427347c567ae777c92510ffa68"
   },
   "source": [
    " ##  Position Features"
   ]
  },
  {
   "cell_type": "markdown",
   "metadata": {
    "_uuid": "15165f2b90503a90de589b37558ebcea28daa867"
   },
   "source": [
    "Encode the absolute positions in the sentence and the relative position between the pronoun and the entities."
   ]
  },
  {
   "cell_type": "code",
   "execution_count": 10,
   "metadata": {
    "_uuid": "c1c14436f57e74e80ac4425f77df98768c71f7b9"
   },
   "outputs": [],
   "source": [
    "num_pos_features = 3"
   ]
  },
  {
   "cell_type": "code",
   "execution_count": 11,
   "metadata": {
    "_uuid": "9f3d21e9a626a3290c81c6bc98b817c3e47275be"
   },
   "outputs": [],
   "source": [
    "def extrac_positional_features(text, char_offset1, char_offset2):\n",
    "    doc = nlp(text)\n",
    "    max_len = 64\n",
    "    \n",
    "    # char offset to token offset\n",
    "    lens = [token.idx for token in doc]\n",
    "    mention_offset1 = bs(lens, char_offset1) - 1\n",
    "    mention_offset2 = bs(lens, char_offset2) - 1\n",
    "    \n",
    "    # token offset to sentence offset\n",
    "    lens = [len(sent) for sent in doc.sents]\n",
    "    acc_lens = [len_ for len_ in lens]\n",
    "    pre_len = 0\n",
    "    for i in range(0, len(acc_lens)):\n",
    "        pre_len += acc_lens[i]\n",
    "        acc_lens[i] = pre_len\n",
    "    sent_index1 = bs(acc_lens, mention_offset1)\n",
    "    sent_index2 = bs(acc_lens, mention_offset1)\n",
    "    \n",
    "    sent1 = list(doc.sents)[sent_index1]\n",
    "    sent2 = list(doc.sents)[sent_index2]\n",
    "    \n",
    "    # relative distance\n",
    "    dist = mention_offset2 - mention_offset1\n",
    "    dist = dist if abs(dist) <= max_len else max_len * (dist / abs(dist))\n",
    "    dist /= max_len\n",
    "    \n",
    "    # absolute position in the sentence\n",
    "    sent_pos1 = mention_offset1 + 1\n",
    "    if sent_index1 > 0:\n",
    "        sent_pos1 = mention_offset1 - acc_lens[sent_index1-1]\n",
    "    \n",
    "    sent_pos2 = mention_offset2 + 1\n",
    "    if sent_index2 > 0:\n",
    "        sent_pos2 = mention_offset2 - acc_lens[sent_index2-1]\n",
    "    \n",
    "    sent_pos_ratio1 = sent_pos1 / len(sent1)\n",
    "    sent_pos_ratio2 = sent_pos2 / len(sent2)\n",
    "    \n",
    "    return dist, sent_pos_ratio1, sent_pos_ratio2"
   ]
  },
  {
   "cell_type": "code",
   "execution_count": 12,
   "metadata": {
    "_uuid": "4a9ec346bff260b62ebea6d9223c6a11e683a9ee"
   },
   "outputs": [],
   "source": [
    "def create_dist_features(df, text_column, pronoun_offset_column, name_offset_column):\n",
    "    text_offset_list = df[[text_column, pronoun_offset_column, name_offset_column]].values.tolist()\n",
    "    num_features = num_pos_features\n",
    "    \n",
    "    pos_feature_matrix = np.zeros(shape=(len(text_offset_list), num_features))\n",
    "    for text_offset_index in range(len(text_offset_list)):\n",
    "        text_offset = text_offset_list[text_offset_index]\n",
    "        dist, sent_pos_ratio1, sent_pos_ratio2 = extrac_positional_features(text_offset[0], text_offset[1], text_offset[2])\n",
    "        \n",
    "        feature_index = 0\n",
    "        pos_feature_matrix[text_offset_index, feature_index] = dist\n",
    "        feature_index += 1\n",
    "        pos_feature_matrix[text_offset_index, feature_index] = sent_pos_ratio1\n",
    "        feature_index += 1\n",
    "        pos_feature_matrix[text_offset_index, feature_index] = sent_pos_ratio2\n",
    "        feature_index += 1\n",
    "    \n",
    "    return pos_feature_matrix"
   ]
  },
  {
   "cell_type": "markdown",
   "metadata": {
    "_uuid": "f61ce2fb9b0cad8b34832c56a0e7d24a2cbc7117"
   },
   "source": [
    "# Define DL Models"
   ]
  },
  {
   "cell_type": "code",
   "execution_count": 13,
   "metadata": {
    "_uuid": "17c1f6e65072a302ef0186032433105c72dafffe"
   },
   "outputs": [
    {
     "name": "stderr",
     "output_type": "stream",
     "text": [
      "Using TensorFlow backend.\n"
     ]
    }
   ],
   "source": [
    "import numpy as np\n",
    "from keras import backend\n",
    "from keras import layers\n",
    "from keras import models"
   ]
  },
  {
   "cell_type": "markdown",
   "metadata": {
    "_uuid": "059a938af1c45abaa8ea05181a41dc4431b7ec28"
   },
   "source": [
    "## Baseline Model MLP"
   ]
  },
  {
   "cell_type": "code",
   "execution_count": 14,
   "metadata": {
    "_uuid": "f955f5dd9603b4148ab3054aafa0ff0caeea7eeb"
   },
   "outputs": [],
   "source": [
    "def build_mlp_model(\n",
    "    num_feature_channels1, num_feature_channels2, num_features1, num_features2, feature_dim1, output_dim, \n",
    "    model_dim, mlp_dim, mlp_depth=1, drop_out=0.5, return_customized_layers=False):\n",
    "    \"\"\"\n",
    "    Create A Multi-Layer Perceptron Model.\n",
    "    \n",
    "    inputs: \n",
    "        embeddings: [batch, num_embed_feature, embed_dims] * 3 ## pronoun, A, B\n",
    "        positional_features: [batch, num_pos_feature] * 2 ## pronoun-A, pronoun-B\n",
    "        \n",
    "    outputs: \n",
    "        [batch, num_classes] # in our case there should be 3 output classes: A, B, None\n",
    "        \n",
    "    :param output_dim: the output dimension size\n",
    "    :param model_dim: rrn dimension size\n",
    "    :param mlp_dim: the dimension size of fully connected layer\n",
    "    :param mlp_depth: the depth of fully connected layers\n",
    "    :param drop_out: dropout rate of fully connected layers\n",
    "    :param return_customized_layers: boolean, default=False\n",
    "        If True, return model and customized object dictionary, otherwise return model only\n",
    "    :return: keras model\n",
    "    \"\"\"\n",
    "    \n",
    "    def _mlp_channel1(feature_dropout_layer, feature_map_layer, flatten_layer, x):\n",
    "        x = feature_dropout_layer(x)\n",
    "        x = feature_map_layer(x)\n",
    "        x = flatten_layer(x)\n",
    "        return x\n",
    "    \n",
    "    def _mlp_channel2(feature_map_layer, x):\n",
    "        x = feature_map_layer(x)\n",
    "        return x\n",
    "\n",
    "    # inputs\n",
    "    inputs1 = list()\n",
    "    for fi in range(num_feature_channels1):\n",
    "        inputs1.append(models.Input(shape=(num_features1, feature_dim1), dtype='float32', name='input1_' + str(fi)))\n",
    "        \n",
    "    inputs2 = list()\n",
    "    for fi in range(num_feature_channels2):\n",
    "        inputs2.append(models.Input(shape=(num_features2, ), dtype='float32', name='input2_' + str(fi)))\n",
    "    \n",
    "    # define feature map layers\n",
    "    # MLP Layers\n",
    "    feature_dropout_layer1 = layers.TimeDistributed(layers.Dropout(rate=drop_out, name=\"input_dropout_layer\"))\n",
    "    feature_map_layer1 = layers.TimeDistributed(layers.Dense(model_dim, name=\"feature_map_layer1\", activation=\"relu\"))\n",
    "    flatten_layer1 = layers.Flatten(name=\"feature_flatten_layer1\")\n",
    "    feature_map_layer2 = layers.Dense(model_dim, name=\"feature_map_layer2\", activation=\"relu\")\n",
    "    \n",
    "    x1 = [_mlp_channel1(feature_dropout_layer1, feature_map_layer1, flatten_layer1, input_) for input_ in inputs1]\n",
    "    x2 = [_mlp_channel2(feature_map_layer2, input_) for input_ in inputs2]\n",
    "    \n",
    "    x = layers.Concatenate(axis=1, name=\"concate_layer\")(x1+x2)\n",
    "    \n",
    "    # MLP Layers\n",
    "    x = layers.BatchNormalization(name='batch_norm_layer')(x)\n",
    "    x = layers.Dropout(rate=drop_out, name=\"dropout_layer\")(x)\n",
    "        \n",
    "    for i in range(mlp_depth - 1):\n",
    "        x = layers.Dense(mlp_dim, activation='selu', kernel_initializer='lecun_normal', name='selu_layer' + str(i))(x)\n",
    "        x = layers.AlphaDropout(drop_out, name='alpha_layer' + str(i))(x)\n",
    "\n",
    "    outputs = layers.Dense(output_dim, activation=\"softmax\", name=\"softmax_layer0\")(x)\n",
    "\n",
    "    model = models.Model(inputs1 + inputs2, outputs)\n",
    "\n",
    "    if return_customized_layers:\n",
    "        return model, {}\n",
    "\n",
    "    return model"
   ]
  },
  {
   "cell_type": "markdown",
   "metadata": {
    "_uuid": "e115f778df21f57b068e629608b83de383336f66"
   },
   "source": [
    "## Multi-Channel CNN"
   ]
  },
  {
   "cell_type": "code",
   "execution_count": 15,
   "metadata": {
    "_uuid": "998df73ae9a04d269039876194a880c45f6b36e3"
   },
   "outputs": [],
   "source": [
    "def build_multi_channel_cnn_model(\n",
    "    num_feature_channels1, num_feature_channels2, num_features1, num_features2, feature_dim1, output_dim, \n",
    "    num_filters, filter_sizes, model_dim, mlp_dim, \n",
    "    mlp_depth=1, drop_out=0.5, pooling='max', padding='valid', return_customized_layers=False):\n",
    "    \"\"\"\n",
    "    Create A Multi-Layer Perceptron Model.\n",
    "    \n",
    "    inputs: \n",
    "        embeddings: [batch, num_embed_feature, embed_dims] * 3 ## pronoun, A, B\n",
    "        positional_features: [batch, num_pos_feature] * 2 ## pronoun-A, pronoun-B\n",
    "        \n",
    "    outputs: \n",
    "        [batch, num_classes] # in our case there should be 3 output classes: A, B, None\n",
    "        \n",
    "    :param output_dim: the output dimension size\n",
    "    :param num_filters: list of integers\n",
    "        The number of filters.\n",
    "    :param filter_sizes: list of integers\n",
    "        The kernel size.\n",
    "    :param pooling: str, either 'max' or 'average'\n",
    "        Pooling method.\n",
    "    :param padding: One of \"valid\", \"causal\" or \"same\" (case-insensitive).\n",
    "        Padding method.\n",
    "    :param model_dim: rrn dimension size\n",
    "    :param mlp_dim: the dimension size of fully connected layer\n",
    "    :param mlp_depth: the depth of fully connected layers\n",
    "    :param drop_out: dropout rate of fully connected layers\n",
    "    :param return_customized_layers: boolean, default=False\n",
    "        If True, return model and customized object dictionary, otherwise return model only\n",
    "    :return: keras model\n",
    "    \"\"\"\n",
    "    \n",
    "    def _mlp_channel1(feature_dropout_layer, cnns, pools, concate_layer1, x):\n",
    "        x = feature_dropout_layer(x)\n",
    "        pooled_outputs = []\n",
    "        for i in range(len(cnns)):\n",
    "            conv = cnns[i](x)\n",
    "            if pooling == 'max':\n",
    "                conv = pools[i](conv)\n",
    "            else:\n",
    "                conv = pools[i](conv)\n",
    "            pooled_outputs.append(conv)\n",
    "        \n",
    "        if len(cnns) == 1:\n",
    "            x = conv\n",
    "        else:\n",
    "            x = concate_layer1(pooled_outputs)\n",
    "        return x\n",
    "    \n",
    "    def _mlp_channel2(feature_map_layer, x):\n",
    "        x = feature_map_layer(x)\n",
    "        return x\n",
    "\n",
    "    # inputs\n",
    "    inputs1 = list()\n",
    "    for fi in range(num_feature_channels1):\n",
    "        inputs1.append(models.Input(shape=(num_features1, feature_dim1), dtype='float32', name='input1_' + str(fi)))\n",
    "        \n",
    "    inputs2 = list()\n",
    "    for fi in range(num_feature_channels2):\n",
    "        inputs2.append(models.Input(shape=(num_features2, ), dtype='float32', name='input2_' + str(fi)))\n",
    "    \n",
    "    # define feature map layers\n",
    "    # CNN Layers\n",
    "    cnns = []\n",
    "    pools = []\n",
    "    feature_dropout_layer1 = layers.TimeDistributed(layers.Dropout(rate=drop_out, name=\"input_dropout_layer\"))\n",
    "    for i in range(len(filter_sizes)):\n",
    "        cnns.append(layers.Conv1D(num_filters[i], kernel_size=filter_sizes[i], padding=padding, activation='relu', name=\"cc_layer1\" + str(i)))\n",
    "        if pooling == 'max':\n",
    "            pools.append(layers.GlobalMaxPooling1D(name='global_pooling_layer1' + str(i)))\n",
    "        else:\n",
    "            pools.append(layers.GlobalAveragePooling1D(name='global_pooling_layer1' + str(i)))\n",
    "    concate_layer1 = layers.Concatenate(name='concated_layer')\n",
    "    \n",
    "    feature_map_layer2 = layers.Dense(model_dim, name=\"feature_map_layer2\", activation=\"relu\")\n",
    "    \n",
    "    x1 = [_mlp_channel1(feature_dropout_layer1, cnns, pools, concate_layer1, input_) for input_ in inputs1]\n",
    "    x2 = [_mlp_channel2(feature_map_layer2, input_) for input_ in inputs2]\n",
    "    \n",
    "    x = layers.Concatenate(axis=1, name=\"concate_layer\")(x1+x2)\n",
    "    \n",
    "    # MLP Layers\n",
    "    x = layers.BatchNormalization(name='batch_norm_layer')(x)\n",
    "    x = layers.Dropout(rate=drop_out, name=\"dropout_layer\")(x)\n",
    "        \n",
    "    for i in range(mlp_depth - 1):\n",
    "        x = layers.Dense(mlp_dim, activation='selu', kernel_initializer='lecun_normal', name='selu_layer' + str(i))(x)\n",
    "        x = layers.AlphaDropout(drop_out, name='alpha_layer' + str(i))(x)\n",
    "\n",
    "    outputs = layers.Dense(output_dim, activation=\"softmax\", name=\"softmax_layer0\")(x)\n",
    "\n",
    "    model = models.Model(inputs1 + inputs2, outputs)\n",
    "\n",
    "    if return_customized_layers:\n",
    "        return model, {}\n",
    "\n",
    "    return model"
   ]
  },
  {
   "cell_type": "markdown",
   "metadata": {
    "_uuid": "33ee19bc3e355ea58dd27bd5c373a13682536dd4"
   },
   "source": [
    "## Coattention Model"
   ]
  },
  {
   "cell_type": "markdown",
   "metadata": {
    "_uuid": "0a640bb122b0821206432fa99d39cd8fe70eecbb"
   },
   "source": [
    "#### Define Co-attention Layer"
   ]
  },
  {
   "cell_type": "code",
   "execution_count": 16,
   "metadata": {
    "_uuid": "cb3cacc8e7dc332a6b5cacf3d733f314b7f03cba"
   },
   "outputs": [],
   "source": [
    "from keras import initializers, regularizers, constraints, activations\n",
    "from keras.engine import Layer\n",
    "import keras.backend as K\n",
    "from keras.layers import merge"
   ]
  },
  {
   "cell_type": "code",
   "execution_count": 17,
   "metadata": {
    "_uuid": "3830a23390eaf527992b3676e03857699969957e"
   },
   "outputs": [],
   "source": [
    "def _dot_product(x, kernel):\n",
    "    \"\"\"\n",
    "    Wrapper for dot product operation, in order to be compatible with both\n",
    "    Theano and Tensorflow\n",
    "    Args:\n",
    "        x (): input\n",
    "        kernel (): weights\n",
    "    Returns:\n",
    "    \"\"\"\n",
    "    if K.backend() == 'tensorflow':\n",
    "        # todo: check that this is correct\n",
    "        return K.squeeze(K.dot(x, K.expand_dims(kernel)), axis=-1)\n",
    "    else:\n",
    "        return K.dot(x, kernel)\n",
    "    \n",
    "class RemappedCoAttentionWeight(merge._Merge):\n",
    "    \"\"\"\n",
    "        Unnormalized Co-Attention operation for temporal data.\n",
    "        Supports Masking.\n",
    "        Follows the work of Ankur et al. [https://aclweb.org/anthology/D16-1244]\n",
    "        \"A Decomposable Attention Model for Natural Language Inference\"\n",
    "        # Input shape\n",
    "            List of 2 3D tensor with shape: `(samples, steps1, features1)` and `(samples, steps2, features2)`.\n",
    "        # Output shape\n",
    "            3D tensor with shape: `(samples, steps1, step2)`.\n",
    "        :param kwargs:\n",
    "        \"\"\"\n",
    "\n",
    "    def __init__(self, model_size, activation='sigmoid',\n",
    "                 W1_regularizer=None,  b1_regularizer=None,\n",
    "                 W1_constraint=None, b1_constraint=None,\n",
    "                 bias1=True, **kwargs):\n",
    "\n",
    "        self.model_size = model_size\n",
    "        self.init = initializers.get('glorot_uniform')\n",
    "\n",
    "        self.W1_regularizer = regularizers.get(W1_regularizer)\n",
    "        self.b1_regularizer = regularizers.get(b1_regularizer)\n",
    "\n",
    "        self.W1_constraint = constraints.get(W1_constraint)\n",
    "        self.b1_constraint = constraints.get(b1_constraint)\n",
    "\n",
    "        self.bias1 = bias1\n",
    "        self.activation = activations.get(activation)\n",
    "        super(RemappedCoAttentionWeight, self).__init__(**kwargs)\n",
    "\n",
    "    def build(self, input_shape):\n",
    "\n",
    "        super(RemappedCoAttentionWeight, self).build(input_shape)\n",
    "        if len(input_shape) != 2:\n",
    "            raise ValueError(\"input must be a size two list which contains two tensors\")\n",
    "\n",
    "        shape1 = list(input_shape[0])\n",
    "        shape2 = list(input_shape[1])\n",
    "\n",
    "        self.W1 = self.add_weight((self.model_size, shape1[-1]),\n",
    "                                 initializer=self.init,\n",
    "                                 name='{}_W1'.format(self.name),\n",
    "                                 regularizer=self.W1_regularizer,\n",
    "                                 constraint=self.W1_constraint)\n",
    "\n",
    "        self.W2 = self.W1\n",
    "\n",
    "        if self.bias1:\n",
    "            self.b1 = self.add_weight((self.model_size,),\n",
    "                                     initializer='zero',\n",
    "                                     name='{}_b1'.format(self.name),\n",
    "                                     regularizer=self.b1_regularizer,\n",
    "                                     constraint=self.b1_constraint)\n",
    "\n",
    "        if self.bias1:\n",
    "            self.b2 = self.b1\n",
    "\n",
    "    def compute_mask(self, input, input_mask=None):\n",
    "        # pass the mask to the next layers\n",
    "        return input_mask\n",
    "\n",
    "    def _merge_function(self, inputs):\n",
    "        if len(inputs) != 2:\n",
    "            raise ValueError('A `Subtract` layer should be called '\n",
    "                             'on exactly 2 inputs')\n",
    "\n",
    "        x1, x2 = inputs[0], inputs[1]\n",
    "\n",
    "        # u = Wx + b\n",
    "        u1 = _dot_product(x1, self.W1)\n",
    "        if self.bias1:\n",
    "            u1 += self.b1\n",
    "\n",
    "        u2 = _dot_product(x2, self.W2)\n",
    "        if self.bias1:\n",
    "            u2 += self.b2\n",
    "\n",
    "        # u = Activation(Wx + b)\n",
    "        u1 = self.activation(u1)\n",
    "        u2 = self.activation(u2)\n",
    "\n",
    "        # atten = exp(u1 u2^T)\n",
    "        atten = K.batch_dot(u1, u2, axes=[2, 2])\n",
    "        atten = K.exp(atten)\n",
    "\n",
    "        return atten\n",
    "\n",
    "    def compute_output_shape(self, input_shape):\n",
    "        if not isinstance(input_shape, list) or len(input_shape) != 2:\n",
    "            raise ValueError('A `Dot` layer should be called '\n",
    "                             'on a list of 2 inputs.')\n",
    "        shape1 = list(input_shape[0])\n",
    "        shape2 = list(input_shape[1])\n",
    "\n",
    "        if shape1[0] != shape2[0]:\n",
    "            raise ValueError(\"batch size must be same\")\n",
    "\n",
    "        return shape1[0], shape1[1], shape2[1]\n",
    "\n",
    "    def get_config(self):\n",
    "        config = {\n",
    "            'activation': self.activation,\n",
    "            'model_size': self.model_size,\n",
    "            'W1_regularizer': regularizers.serialize(self.W1_regularizer),\n",
    "            'b1_regularizer': regularizers.serialize(self.b1_regularizer),\n",
    "            'W1_constraint': constraints.serialize(self.W1_constraint),\n",
    "            'b1_constraint': constraints.serialize(self.b1_constraint),\n",
    "            'bias1': self.bias1,\n",
    "        }\n",
    "        base_config = super(RemappedCoAttentionWeight, self).get_config()\n",
    "        return dict(list(base_config.items()) + list(config.items()))\n",
    "    \n",
    "class FeatureNormalization(Layer):\n",
    "    \"\"\"\n",
    "        Normalize feature along a specific axis.\n",
    "        Supports Masking.\n",
    "\n",
    "        # Input shape\n",
    "            A ND tensor with shape: `(samples, feature1 ... featuresN).\n",
    "        # Output shape\n",
    "            ND tensor with shape: `(samples, feature1 ... featuresN)`.\n",
    "        :param kwargs:\n",
    "        \"\"\"\n",
    "\n",
    "    def __init__(self, axis=-1, **kwargs):\n",
    "\n",
    "        self.axis = axis\n",
    "        self.supports_masking = True\n",
    "        super(FeatureNormalization, self).__init__(**kwargs)\n",
    "\n",
    "    def build(self, input_shape):\n",
    "\n",
    "        super(FeatureNormalization, self).build(input_shape)\n",
    "\n",
    "    def compute_mask(self, input, input_mask=None):\n",
    "        # don't pass the mask to the next layers\n",
    "        return None\n",
    "\n",
    "    def call(self, inputs, mask=None):\n",
    "        # apply mask after the exp. will be re-normalized next\n",
    "        if mask is not None:\n",
    "            # Cast the mask to floatX to avoid float64 upcasting in theano\n",
    "            a = K.cast(mask, K.floatx()) * inputs\n",
    "        else:\n",
    "            a = inputs\n",
    "\n",
    "        # in some cases especially in the early stages of training the sum may be almost zero\n",
    "        # and this results in NaN's. A workaround is to add a very small positive number ε to the sum.\n",
    "        # a /= K.cast(K.sum(a, axis=1, keepdims=True), K.floatx())\n",
    "        a /= K.cast(K.sum(a, axis=self.axis, keepdims=True) + K.epsilon(), K.floatx())\n",
    "        \n",
    "        return a\n",
    "\n",
    "    def compute_output_shape(self, input_shape):\n",
    "        return input_shape\n",
    "\n",
    "    def get_config(self):\n",
    "        config = {\n",
    "            'axis': self.axis\n",
    "        }\n",
    "        base_config = super(FeatureNormalization, self).get_config()\n",
    "        return dict(list(base_config.items()) + list(config.items()))"
   ]
  },
  {
   "cell_type": "markdown",
   "metadata": {
    "_uuid": "d9dccecb2fe30ca9db7eb797336edc8ecd2fa2f8"
   },
   "source": [
    "#### Define Inter-Mention-Pair Coattention Model"
   ]
  },
  {
   "cell_type": "code",
   "execution_count": 18,
   "metadata": {
    "_uuid": "cb1ca5cc8f8044552afa697c2e8bfbb22bac4420"
   },
   "outputs": [],
   "source": [
    "def build_inter_coattention_cnn_model(\n",
    "    num_feature_channels1, num_feature_channels2, num_features1, num_features2, feature_dim1, output_dim, \n",
    "    num_filters, filter_sizes, atten_dim, model_dim, mlp_dim, \n",
    "    mlp_depth=1, drop_out=0.5, pooling='max', padding='valid', return_customized_layers=False):\n",
    "    \"\"\"\n",
    "    Create A Multi-Layer Perceptron Model with Coattention Mechanism.\n",
    "    \n",
    "    inputs: \n",
    "        embeddings: [batch, num_embed_feature, embed_dims] * 3 ## pronoun, A, B\n",
    "        positional_features: [batch, num_pos_feature] * 2 ## pronoun-A, pronoun-B\n",
    "        \n",
    "    outputs: \n",
    "        [batch, num_classes] # in our case there should be 3 output classes: A, B, None\n",
    "        \n",
    "    :param output_dim: the output dimension size\n",
    "    :param model_dim: rrn dimension size\n",
    "    :param mlp_dim: the dimension size of fully connected layer\n",
    "    :param mlp_depth: the depth of fully connected layers\n",
    "    :param drop_out: dropout rate of fully connected layers\n",
    "    :param return_customized_layers: boolean, default=False\n",
    "        If True, return model and customized object dictionary, otherwise return model only\n",
    "    :return: keras model\n",
    "    \"\"\"\n",
    "    \n",
    "    def _mlp_channel1(feature_dropout_layer, x):\n",
    "        #x = feature_dropout_layer(x)\n",
    "        return x\n",
    "    \n",
    "    def _mlp_channel2(feature_map_layer, x):\n",
    "        x = feature_map_layer(x)\n",
    "        return x\n",
    "\n",
    "    # inputs\n",
    "    inputs1 = list()\n",
    "    for fi in range(num_feature_channels1):\n",
    "        inputs1.append(models.Input(shape=(num_features1, feature_dim1), dtype='float32', name='input1_' + str(fi)))\n",
    "        \n",
    "    inputs2 = list()\n",
    "    for fi in range(num_feature_channels2):\n",
    "        inputs2.append(models.Input(shape=(num_features2, ), dtype='float32', name='input2_' + str(fi)))\n",
    "    \n",
    "    # define feature map layers\n",
    "    # MLP Layers\n",
    "    feature_dropout_layer1 = layers.TimeDistributed(layers.Dropout(rate=drop_out, name=\"input_dropout_layer\"))\n",
    "    feature_map_layer2 = layers.Dense(feature_dim1, name=\"feature_map_layer2\", activation=\"relu\")\n",
    "    \n",
    "    x1 = [_mlp_channel1(feature_dropout_layer1, input_) for input_ in inputs1]\n",
    "    x2 = [_mlp_channel2(feature_map_layer2, input_) for input_ in inputs2]\n",
    "    \n",
    "    # From mention-pair embeddings\n",
    "    reshape_layer = layers.Reshape((1, feature_dim1), name=\"reshape_layer\")\n",
    "    x2 = [reshape_layer(x2_) for x2_ in x2]\n",
    "    pair1 = layers.Concatenate(axis=1, name=\"concate_pair1_layer\")([x1[0], x1[1], x2[0]])\n",
    "    pair2 = layers.Concatenate(axis=1, name=\"concate_pair2_layer\")([x1[0], x1[2], x2[1]])\n",
    "    \n",
    "    coatten_layer = RemappedCoAttentionWeight(atten_dim, name=\"coattention_weights_layer\")\n",
    "    featnorm_layer1 = FeatureNormalization(name=\"normalized_coattention_weights_layer1\", axis=1)\n",
    "    featnorm_layer2 = FeatureNormalization(name=\"normalized_coattention_weights_layer2\", axis=2)\n",
    "    focus_layer1 = layers.Dot((1, 1), name=\"focus_layer1\")\n",
    "    focus_layer2 = layers.Dot((2, 1), name=\"focus_layer2\")\n",
    "    pair_layer1 = layers.Concatenate(axis=-1, name=\"pair_layer1\")\n",
    "    pair_layer2 = layers.Concatenate(axis=-1, name=\"pair_layer2\")\n",
    "    \n",
    "    # attention\n",
    "    attens = coatten_layer([pair1, pair2])\n",
    "    attens1 = featnorm_layer1(attens)\n",
    "    attens2 = featnorm_layer2(attens)\n",
    "    # compare\n",
    "    focus1 = focus_layer1([attens1, pair1])\n",
    "    focus2 = focus_layer2([attens2, pair2])\n",
    "    pair1 = pair_layer1([pair1, focus2])\n",
    "    pair2 = pair_layer2([pair2, focus1])\n",
    "    \n",
    "    x = layers.Concatenate(axis=1, name=\"concate_layer\")([pair1, pair2])\n",
    "    x = layers.TimeDistributed(layers.Dropout(rate=drop_out, name=\"pair_dropout_layer\"))(x)\n",
    "    x = layers.TimeDistributed(layers.Dense(mlp_dim, name=\"pair_feature_map_layer\", activation=\"relu\"))(x)\n",
    "    x = layers.Flatten(name=\"pair_feature_flatten_layer1\")(x)\n",
    "    \n",
    "#     pooled_outputs = []\n",
    "#     for i in range(len(filter_sizes)):\n",
    "#         conv = layers.Conv1D(num_filters[i], kernel_size=filter_sizes[i], padding=padding, activation='relu')(x)\n",
    "#         if pooling == 'max':\n",
    "#             conv = layers.GlobalMaxPooling1D(name='global_pooling_layer' + str(i))(conv)\n",
    "#         else:\n",
    "#             conv = layers.GlobalAveragePooling1D(name='global_pooling_layer' + str(i))(conv)\n",
    "#         pooled_outputs.append(conv)\n",
    "#     if len(pooled_outputs) > 1:\n",
    "#         x = layers.Concatenate(name='concated_layer')(pooled_outputs)\n",
    "#     else:\n",
    "#         x = conv\n",
    "    \n",
    "    # MLP Layers\n",
    "    x = layers.BatchNormalization(name='batch_norm_layer')(x)\n",
    "    x = layers.Dropout(rate=drop_out, name=\"dropout_layer\")(x)\n",
    "        \n",
    "    for i in range(mlp_depth - 1):\n",
    "        x = layers.Dense(mlp_dim, activation='selu', kernel_initializer='lecun_normal', name='selu_layer' + str(i))(x)\n",
    "        x = layers.AlphaDropout(drop_out, name='alpha_layer' + str(i))(x)\n",
    "\n",
    "    outputs = layers.Dense(output_dim, activation=\"softmax\", name=\"softmax_layer0\")(x)\n",
    "\n",
    "    model = models.Model(inputs1 + inputs2, outputs)\n",
    "\n",
    "    if return_customized_layers:\n",
    "        return model, {'RemappedCoAttentionWeight': RemappedCoAttentionWeight,\n",
    "                       \"FeatureNormalization\": FeatureNormalization}\n",
    "\n",
    "    return model"
   ]
  },
  {
   "cell_type": "markdown",
   "metadata": {
    "_uuid": "00c9b579aa067775bd3790872d4c89c76e3d24d9"
   },
   "source": [
    "#### Intra-Mention-Pair Coattention Model"
   ]
  },
  {
   "cell_type": "code",
   "execution_count": 19,
   "metadata": {
    "_uuid": "da9b469cd8795644e1d1a8bb0986f466ec8f630e"
   },
   "outputs": [],
   "source": [
    "def build_intra_coattention_cnn_model(\n",
    "    num_feature_channels1, num_feature_channels2, num_features1, num_features2, feature_dim1, output_dim, \n",
    "    num_filters, filter_sizes, atten_dim, model_dim, mlp_dim, \n",
    "    mlp_depth=1, drop_out=0.5, pooling='max', padding='valid', return_customized_layers=False):\n",
    "    \"\"\"\n",
    "    Create A Multi-Layer Perceptron Model with Coattention Mechanism.\n",
    "    \n",
    "    inputs: \n",
    "        embeddings: [batch, num_embed_feature, embed_dims] * 3 ## pronoun, A, B\n",
    "        positional_features: [batch, num_pos_feature] * 2 ## pronoun-A, pronoun-B\n",
    "        \n",
    "    outputs: \n",
    "        [batch, num_classes] # in our case there should be 3 output classes: A, B, None\n",
    "        \n",
    "    :param output_dim: the output dimension size\n",
    "    :param model_dim: rrn dimension size\n",
    "    :param mlp_dim: the dimension size of fully connected layer\n",
    "    :param mlp_depth: the depth of fully connected layers\n",
    "    :param drop_out: dropout rate of fully connected layers\n",
    "    :param return_customized_layers: boolean, default=False\n",
    "        If True, return model and customized object dictionary, otherwise return model only\n",
    "    :return: keras model\n",
    "    \"\"\"\n",
    "    \n",
    "    def _mlp_channel1(feature_dropout_layer, x):\n",
    "        #x = feature_dropout_layer(x)\n",
    "        return x\n",
    "    \n",
    "    def _mlp_channel2(feature_map_layer, x):\n",
    "        x = feature_map_layer(x)\n",
    "        return x\n",
    "    \n",
    "    def coatten_compare(\n",
    "        feature_concat_layer, coatten_layer, \n",
    "        featnorm_layer1, featnorm_layer2, \n",
    "        focus_layer1, focus_layer2, \n",
    "        pair_layer1, pair_layer2, \n",
    "        mention, entity, mention_entity_feature):\n",
    "        \n",
    "        x1 = feature_concat_layer([entity, mention_entity_feature])\n",
    "        x2 = feature_concat_layer([mention, mention_entity_feature])\n",
    "        \n",
    "        # attention\n",
    "        attens = coatten_layer([x1, x2])\n",
    "        attens1 = featnorm_layer1(attens)\n",
    "        attens2 = featnorm_layer2(attens)\n",
    "        # compare\n",
    "        focus1 = focus_layer1([attens1, x1])\n",
    "        focus2 = focus_layer2([attens2, x2])\n",
    "        x1 = pair_layer1([x1, focus2])\n",
    "        x2 = pair_layer2([x2, focus1])\n",
    "        \n",
    "        return x1, x2\n",
    "\n",
    "    # inputs\n",
    "    inputs1 = list()\n",
    "    for fi in range(num_feature_channels1):\n",
    "        inputs1.append(models.Input(shape=(num_features1, feature_dim1), dtype='float32', name='input1_' + str(fi)))\n",
    "        \n",
    "    inputs2 = list()\n",
    "    for fi in range(num_feature_channels2):\n",
    "        inputs2.append(models.Input(shape=(num_features2, ), dtype='float32', name='input2_' + str(fi)))\n",
    "    \n",
    "    # define feature map layers\n",
    "    # MLP Layers\n",
    "    feature_dropout_layer1 = layers.TimeDistributed(layers.Dropout(rate=drop_out, name=\"input_dropout_layer\"))\n",
    "    feature_map_layer2 = layers.Dense(feature_dim1, name=\"feature_map_layer2\", activation=\"relu\")\n",
    "    \n",
    "    x1 = [_mlp_channel1(feature_dropout_layer1, input_) for input_ in inputs1]\n",
    "    x2 = [_mlp_channel2(feature_map_layer2, input_) for input_ in inputs2]\n",
    "    \n",
    "    # From mention-pair embeddings\n",
    "    reshape_layer = layers.Reshape((1, feature_dim1), name=\"reshape_layer\")\n",
    "    x2 = [reshape_layer(x2_) for x2_ in x2]\n",
    "    \n",
    "    feature_concat_layer = layers.Concatenate(axis=1, name=\"concate_pair_layer\")\n",
    "    coatten_layer = RemappedCoAttentionWeight(atten_dim, name=\"coattention_weights_layer\")\n",
    "    featnorm_layer1 = FeatureNormalization(name=\"normalized_coattention_weights_layer1\", axis=1)\n",
    "    featnorm_layer2 = FeatureNormalization(name=\"normalized_coattention_weights_layer2\", axis=2)\n",
    "    focus_layer1 = layers.Dot((1, 1), name=\"focus_layer1\")\n",
    "    focus_layer2 = layers.Dot((2, 1), name=\"focus_layer2\")\n",
    "    pair_layer1 = layers.Concatenate(axis=-1, name=\"pair_layer1\")\n",
    "    pair_layer2 = layers.Concatenate(axis=-1, name=\"pair_layer2\")\n",
    "    \n",
    "    pairs = list()\n",
    "    \n",
    "    pairs += list(coatten_compare(\n",
    "        feature_concat_layer, coatten_layer,\n",
    "        featnorm_layer1, featnorm_layer2, \n",
    "        focus_layer1, focus_layer2, \n",
    "        pair_layer1, pair_layer2, \n",
    "        x1[0], x1[1], x2[0]))\n",
    "    \n",
    "    pairs += list(coatten_compare(\n",
    "        feature_concat_layer, coatten_layer,\n",
    "        featnorm_layer1, featnorm_layer2, \n",
    "        focus_layer1, focus_layer2, \n",
    "        pair_layer1, pair_layer2, \n",
    "        x1[0], x1[2], x2[1]))\n",
    "    \n",
    "    x = layers.Concatenate(axis=1, name=\"concate_layer\")(pairs)\n",
    "    x = layers.TimeDistributed(layers.Dropout(rate=drop_out, name=\"pair_dropout_layer\"))(x)\n",
    "    x = layers.TimeDistributed(layers.Dense(mlp_dim, name=\"pair_feature_map_layer\", activation=\"relu\"))(x)\n",
    "    x = layers.Flatten(name=\"pair_feature_flatten_layer1\")(x)\n",
    "    \n",
    "#     pooled_outputs = []\n",
    "#     for i in range(len(filter_sizes)):\n",
    "#         conv = layers.Conv1D(num_filters[i], kernel_size=filter_sizes[i], padding=padding, activation='relu')(x)\n",
    "#         if pooling == 'max':\n",
    "#             conv = layers.GlobalMaxPooling1D(name='global_pooling_layer' + str(i))(conv)\n",
    "#         else:\n",
    "#             conv = layers.GlobalAveragePooling1D(name='global_pooling_layer' + str(i))(conv)\n",
    "#         pooled_outputs.append(conv)\n",
    "#     if len(pooled_outputs) > 1:\n",
    "#         x = layers.Concatenate(name='concated_layer')(pooled_outputs)\n",
    "#     else:\n",
    "#         x = conv\n",
    "    \n",
    "    # MLP Layers\n",
    "    x = layers.BatchNormalization(name='batch_norm_layer')(x)\n",
    "    x = layers.Dropout(rate=drop_out, name=\"dropout_layer\")(x)\n",
    "        \n",
    "    for i in range(mlp_depth - 1):\n",
    "        x = layers.Dense(mlp_dim, activation='selu', kernel_initializer='lecun_normal', name='selu_layer' + str(i))(x)\n",
    "        x = layers.AlphaDropout(drop_out, name='alpha_layer' + str(i))(x)\n",
    "\n",
    "    outputs = layers.Dense(output_dim, activation=\"softmax\", name=\"softmax_layer0\")(x)\n",
    "\n",
    "    model = models.Model(inputs1 + inputs2, outputs)\n",
    "\n",
    "    if return_customized_layers:\n",
    "        return model, {'RemappedCoAttentionWeight': RemappedCoAttentionWeight,\n",
    "                       \"FeatureNormalization\": FeatureNormalization}\n",
    "\n",
    "    return model"
   ]
  },
  {
   "cell_type": "markdown",
   "metadata": {
    "_uuid": "bf87bf600dac037777be8e3dda560ec65b6640a2"
   },
   "source": [
    "# Build and Train Model"
   ]
  },
  {
   "cell_type": "markdown",
   "metadata": {
    "_uuid": "fa9f4206711bd9b79e543f9d0b48f79c9bf49054"
   },
   "source": [
    "## Baseline Model MLP"
   ]
  },
  {
   "cell_type": "code",
   "execution_count": 20,
   "metadata": {
    "_uuid": "03e8297383ee57a4a23c707a4a6c1cca13da1868"
   },
   "outputs": [],
   "source": [
    "from keras import callbacks as kc\n",
    "from keras import optimizers as ko\n",
    "from keras import initializers, regularizers, constraints\n",
    "\n",
    "import matplotlib.pyplot as plt\n",
    "from IPython.display import SVG\n",
    "\n",
    "\n",
    "histories = list()"
   ]
  },
  {
   "cell_type": "markdown",
   "metadata": {
    "_uuid": "fba6b5bd600789437a97bfafde4a68b76eaac03b"
   },
   "source": [
    "### Build Model "
   ]
  },
  {
   "cell_type": "code",
   "execution_count": 21,
   "metadata": {
    "_uuid": "569aa2476fe1cf893ba878b5c83cc37713f2460a"
   },
   "outputs": [],
   "source": [
    "num_feature_channels1 = 3\n",
    "num_feature_channels2 = 2\n",
    "\n",
    "num_embed_features = 11\n",
    "embed_dim = 384\n",
    "num_features1 = num_embed_features\n",
    "num_features2 = num_pos_features\n",
    "feature_dim1 = embed_dim\n",
    "output_dim = 3\n",
    "model_dim = 10 \n",
    "mlp_dim = 60\n",
    "mlp_depth=1\n",
    "drop_out=0.5\n",
    "return_customized_layers=True\n",
    "\n",
    "model, co_mlp = build_mlp_model(\n",
    "    num_feature_channels1, num_feature_channels2, num_features1, num_features2, feature_dim1, output_dim, \n",
    "    model_dim, mlp_dim, mlp_depth, drop_out, return_customized_layers\n",
    ")"
   ]
  },
  {
   "cell_type": "code",
   "execution_count": 22,
   "metadata": {
    "_uuid": "13dc8379c35b5b5cf24ee5a32a7358b934ce56ce"
   },
   "outputs": [
    {
     "name": "stdout",
     "output_type": "stream",
     "text": [
      "__________________________________________________________________________________________________\n",
      "Layer (type)                    Output Shape         Param #     Connected to                     \n",
      "==================================================================================================\n",
      "input1_0 (InputLayer)           (None, 11, 384)      0                                            \n",
      "__________________________________________________________________________________________________\n",
      "input1_1 (InputLayer)           (None, 11, 384)      0                                            \n",
      "__________________________________________________________________________________________________\n",
      "input1_2 (InputLayer)           (None, 11, 384)      0                                            \n",
      "__________________________________________________________________________________________________\n",
      "time_distributed_1 (TimeDistrib (None, 11, 384)      0           input1_0[0][0]                   \n",
      "                                                                 input1_1[0][0]                   \n",
      "                                                                 input1_2[0][0]                   \n",
      "__________________________________________________________________________________________________\n",
      "time_distributed_2 (TimeDistrib (None, 11, 10)       3850        time_distributed_1[0][0]         \n",
      "                                                                 time_distributed_1[1][0]         \n",
      "                                                                 time_distributed_1[2][0]         \n",
      "__________________________________________________________________________________________________\n",
      "input2_0 (InputLayer)           (None, 3)            0                                            \n",
      "__________________________________________________________________________________________________\n",
      "input2_1 (InputLayer)           (None, 3)            0                                            \n",
      "__________________________________________________________________________________________________\n",
      "feature_flatten_layer1 (Flatten (None, 110)          0           time_distributed_2[0][0]         \n",
      "                                                                 time_distributed_2[1][0]         \n",
      "                                                                 time_distributed_2[2][0]         \n",
      "__________________________________________________________________________________________________\n",
      "feature_map_layer2 (Dense)      (None, 10)           40          input2_0[0][0]                   \n",
      "                                                                 input2_1[0][0]                   \n",
      "__________________________________________________________________________________________________\n",
      "concate_layer (Concatenate)     (None, 350)          0           feature_flatten_layer1[0][0]     \n",
      "                                                                 feature_flatten_layer1[1][0]     \n",
      "                                                                 feature_flatten_layer1[2][0]     \n",
      "                                                                 feature_map_layer2[0][0]         \n",
      "                                                                 feature_map_layer2[1][0]         \n",
      "__________________________________________________________________________________________________\n",
      "batch_norm_layer (BatchNormaliz (None, 350)          1400        concate_layer[0][0]              \n",
      "__________________________________________________________________________________________________\n",
      "dropout_layer (Dropout)         (None, 350)          0           batch_norm_layer[0][0]           \n",
      "__________________________________________________________________________________________________\n",
      "softmax_layer0 (Dense)          (None, 3)            1053        dropout_layer[0][0]              \n",
      "==================================================================================================\n",
      "Total params: 6,343\n",
      "Trainable params: 5,643\n",
      "Non-trainable params: 700\n",
      "__________________________________________________________________________________________________\n",
      "None\n"
     ]
    }
   ],
   "source": [
    "print(model.summary())"
   ]
  },
  {
   "cell_type": "markdown",
   "metadata": {
    "_uuid": "89203775726cd6d361161680c83a278717fd926e"
   },
   "source": [
    "### Generate Training, Validation and Testing Data"
   ]
  },
  {
   "cell_type": "code",
   "execution_count": 23,
   "metadata": {
    "_uuid": "a6cd42d52bda7aaa12654031ec335c827cc104b2"
   },
   "outputs": [],
   "source": [
    "p_emb_tra = create_embedding_features(train_df, 'Text', 'Pronoun-offset')\n",
    "p_emb_dev = create_embedding_features(dev_df, 'Text', 'Pronoun-offset')\n",
    "p_emb_test = create_embedding_features(test_df, 'Text', 'Pronoun-offset')\n",
    "\n",
    "a_emb_tra = create_embedding_features(train_df, 'Text', 'A-offset')\n",
    "a_emb_dev = create_embedding_features(dev_df, 'Text', 'A-offset')\n",
    "a_emb_test = create_embedding_features(test_df, 'Text', 'A-offset')\n",
    "\n",
    "b_emb_tra = create_embedding_features(train_df, 'Text', 'B-offset')\n",
    "b_emb_dev = create_embedding_features(dev_df, 'Text', 'B-offset')\n",
    "b_emb_test = create_embedding_features(test_df, 'Text', 'B-offset')\n",
    "\n",
    "pa_pos_tra = create_dist_features(train_df, 'Text', 'Pronoun-offset', 'A-offset')\n",
    "pa_pos_dev = create_dist_features(dev_df, 'Text', 'Pronoun-offset', 'A-offset')\n",
    "pa_pos_test = create_dist_features(test_df, 'Text', 'Pronoun-offset', 'A-offset')\n",
    "\n",
    "pb_pos_tra = create_dist_features(train_df, 'Text', 'Pronoun-offset', 'B-offset')\n",
    "pb_pos_dev = create_dist_features(dev_df, 'Text', 'Pronoun-offset', 'B-offset')\n",
    "pb_pos_test = create_dist_features(test_df, 'Text', 'Pronoun-offset', 'B-offset')"
   ]
  },
  {
   "cell_type": "code",
   "execution_count": 24,
   "metadata": {
    "_uuid": "a9c813e2dcddb0c4746f72b4521263ff9737669d"
   },
   "outputs": [],
   "source": [
    "def _row_to_y(row):\n",
    "    if row.loc['A-coref']:\n",
    "        return 0\n",
    "    if row.loc['B-coref']:\n",
    "        return 1\n",
    "    return 2\n",
    "\n",
    "y_tra = train_df.apply(_row_to_y, axis=1)\n",
    "y_dev = dev_df.apply(_row_to_y, axis=1)\n",
    "y_test = test_df.apply(_row_to_y, axis=1)"
   ]
  },
  {
   "cell_type": "code",
   "execution_count": 25,
   "metadata": {
    "_uuid": "dcf1a4a4d3deb6710d3e099e91279fb1392921af"
   },
   "outputs": [],
   "source": [
    "X_train = [p_emb_tra, a_emb_tra, b_emb_tra, pa_pos_tra, pb_pos_tra]\n",
    "X_dev = [p_emb_dev, a_emb_dev, b_emb_dev, pa_pos_dev, pb_pos_dev]\n",
    "X_test = [p_emb_test, a_emb_test, b_emb_test, pa_pos_test, pb_pos_test]"
   ]
  },
  {
   "cell_type": "markdown",
   "metadata": {
    "_uuid": "fd91fac5c5a6a233f87b04702893bbb7c00991d3"
   },
   "source": [
    "### Train Model"
   ]
  },
  {
   "cell_type": "code",
   "execution_count": 26,
   "metadata": {
    "_uuid": "06a0d8ced3f0959cec05212bd5fa51f373aacd83"
   },
   "outputs": [
    {
     "name": "stdout",
     "output_type": "stream",
     "text": [
      "Train on 2000 samples, validate on 454 samples\n",
      "Epoch 1/20\n",
      "2000/2000 [==============================] - 1s 697us/step - loss: 1.4462 - sparse_categorical_accuracy: 0.4675 - val_loss: 0.9303 - val_sparse_categorical_accuracy: 0.5903\n",
      "\n",
      "Epoch 00001: val_loss improved from inf to 0.93029, saving model to best_mlp_model.hdf5\n",
      "Epoch 2/20\n",
      "2000/2000 [==============================] - 1s 354us/step - loss: 1.0249 - sparse_categorical_accuracy: 0.5850 - val_loss: 0.8887 - val_sparse_categorical_accuracy: 0.5947\n",
      "\n",
      "Epoch 00002: val_loss improved from 0.93029 to 0.88870, saving model to best_mlp_model.hdf5\n",
      "Epoch 3/20\n",
      "2000/2000 [==============================] - 1s 351us/step - loss: 0.9245 - sparse_categorical_accuracy: 0.6005 - val_loss: 0.8650 - val_sparse_categorical_accuracy: 0.6013\n",
      "\n",
      "Epoch 00003: val_loss improved from 0.88870 to 0.86498, saving model to best_mlp_model.hdf5\n",
      "Epoch 4/20\n",
      "2000/2000 [==============================] - 1s 347us/step - loss: 0.8565 - sparse_categorical_accuracy: 0.6330 - val_loss: 0.8292 - val_sparse_categorical_accuracy: 0.6079\n",
      "\n",
      "Epoch 00004: val_loss improved from 0.86498 to 0.82922, saving model to best_mlp_model.hdf5\n",
      "Epoch 5/20\n",
      "2000/2000 [==============================] - 1s 327us/step - loss: 0.8132 - sparse_categorical_accuracy: 0.6530 - val_loss: 0.8100 - val_sparse_categorical_accuracy: 0.6344\n",
      "\n",
      "Epoch 00005: val_loss improved from 0.82922 to 0.81003, saving model to best_mlp_model.hdf5\n",
      "Epoch 6/20\n",
      "2000/2000 [==============================] - 1s 315us/step - loss: 0.7767 - sparse_categorical_accuracy: 0.6525 - val_loss: 0.7992 - val_sparse_categorical_accuracy: 0.6542\n",
      "\n",
      "Epoch 00006: val_loss improved from 0.81003 to 0.79921, saving model to best_mlp_model.hdf5\n",
      "Epoch 7/20\n",
      "2000/2000 [==============================] - 1s 304us/step - loss: 0.7526 - sparse_categorical_accuracy: 0.6620 - val_loss: 0.7963 - val_sparse_categorical_accuracy: 0.6344\n",
      "\n",
      "Epoch 00007: val_loss improved from 0.79921 to 0.79627, saving model to best_mlp_model.hdf5\n",
      "Epoch 8/20\n",
      "2000/2000 [==============================] - 1s 335us/step - loss: 0.7469 - sparse_categorical_accuracy: 0.6750 - val_loss: 0.7952 - val_sparse_categorical_accuracy: 0.6498\n",
      "\n",
      "Epoch 00008: val_loss improved from 0.79627 to 0.79518, saving model to best_mlp_model.hdf5\n",
      "Epoch 9/20\n",
      "2000/2000 [==============================] - 1s 332us/step - loss: 0.7390 - sparse_categorical_accuracy: 0.6845 - val_loss: 0.7952 - val_sparse_categorical_accuracy: 0.6344\n",
      "\n",
      "Epoch 00009: val_loss did not improve from 0.79518\n",
      "Epoch 10/20\n",
      "2000/2000 [==============================] - 1s 337us/step - loss: 0.7415 - sparse_categorical_accuracy: 0.6760 - val_loss: 0.7872 - val_sparse_categorical_accuracy: 0.6410\n",
      "\n",
      "Epoch 00010: val_loss improved from 0.79518 to 0.78723, saving model to best_mlp_model.hdf5\n",
      "Epoch 11/20\n",
      "2000/2000 [==============================] - 1s 310us/step - loss: 0.7450 - sparse_categorical_accuracy: 0.6765 - val_loss: 0.7783 - val_sparse_categorical_accuracy: 0.6542\n",
      "\n",
      "Epoch 00011: val_loss improved from 0.78723 to 0.77831, saving model to best_mlp_model.hdf5\n",
      "Epoch 12/20\n",
      "2000/2000 [==============================] - 1s 318us/step - loss: 0.7308 - sparse_categorical_accuracy: 0.6800 - val_loss: 0.7858 - val_sparse_categorical_accuracy: 0.6476\n",
      "\n",
      "Epoch 00012: val_loss did not improve from 0.77831\n",
      "Epoch 13/20\n",
      "2000/2000 [==============================] - 1s 310us/step - loss: 0.6940 - sparse_categorical_accuracy: 0.7035 - val_loss: 0.7920 - val_sparse_categorical_accuracy: 0.6454\n",
      "\n",
      "Epoch 00013: val_loss did not improve from 0.77831\n",
      "Epoch 14/20\n",
      "2000/2000 [==============================] - 1s 319us/step - loss: 0.7138 - sparse_categorical_accuracy: 0.6915 - val_loss: 0.7666 - val_sparse_categorical_accuracy: 0.6586\n",
      "\n",
      "Epoch 00014: val_loss improved from 0.77831 to 0.76659, saving model to best_mlp_model.hdf5\n",
      "Epoch 15/20\n",
      "2000/2000 [==============================] - 1s 306us/step - loss: 0.7078 - sparse_categorical_accuracy: 0.6925 - val_loss: 0.7852 - val_sparse_categorical_accuracy: 0.6498\n",
      "\n",
      "Epoch 00015: val_loss did not improve from 0.76659\n",
      "Epoch 16/20\n",
      "2000/2000 [==============================] - 1s 280us/step - loss: 0.7122 - sparse_categorical_accuracy: 0.6860 - val_loss: 0.7936 - val_sparse_categorical_accuracy: 0.6586\n",
      "\n",
      "Epoch 00016: val_loss did not improve from 0.76659\n",
      "Epoch 17/20\n",
      "2000/2000 [==============================] - 1s 280us/step - loss: 0.7013 - sparse_categorical_accuracy: 0.6975 - val_loss: 0.7846 - val_sparse_categorical_accuracy: 0.6542\n",
      "\n",
      "Epoch 00017: val_loss did not improve from 0.76659\n"
     ]
    },
    {
     "data": {
      "text/plain": [
       "60"
      ]
     },
     "execution_count": 26,
     "metadata": {},
     "output_type": "execute_result"
    }
   ],
   "source": [
    "adam = ko.Nadam()\n",
    "model.compile(adam, loss=\"sparse_categorical_crossentropy\", metrics=[\"sparse_categorical_accuracy\"])\n",
    "\n",
    "file_path = \"best_mlp_model.hdf5\"\n",
    "check_point = kc.ModelCheckpoint(file_path, monitor = \"val_loss\", verbose = 1, save_best_only = True, mode = \"min\")\n",
    "early_stop = kc.EarlyStopping(monitor = \"val_loss\", mode = \"min\", patience=3)\n",
    "history = model.fit(X_train, y_tra, batch_size=20, epochs=20, validation_data=(X_dev, y_dev), callbacks = [check_point, early_stop])\n",
    "\n",
    "histories.append(np.min(np.asarray(history.history['val_loss'])))\n",
    "\n",
    "del model, history\n",
    "gc.collect()"
   ]
  },
  {
   "cell_type": "markdown",
   "metadata": {
    "_uuid": "8c6523f1ccf3ef9b05176b6b7f851faff180b0e9"
   },
   "source": [
    "## Multi-Channel CNN "
   ]
  },
  {
   "cell_type": "markdown",
   "metadata": {
    "_uuid": "36ed7f737f689f2150a4796eab55059d0f31aef2"
   },
   "source": [
    "### Build Model"
   ]
  },
  {
   "cell_type": "code",
   "execution_count": 27,
   "metadata": {
    "_uuid": "c76e572a0121902eb9d855949ed824dd6013a3bd"
   },
   "outputs": [],
   "source": [
    "num_feature_channels1 = 3\n",
    "num_feature_channels2 = 2\n",
    "\n",
    "num_embed_features = 11\n",
    "embed_dim = 384\n",
    "num_features1 = num_embed_features\n",
    "num_features2 = num_pos_features\n",
    "feature_dim1 = embed_dim\n",
    "output_dim = 3\n",
    "model_dim = 10 \n",
    "filter_sizes = [3, 5]\n",
    "num_filters = [model_dim] * len(filter_sizes)\n",
    "mlp_dim = 60\n",
    "mlp_depth=1\n",
    "pooling='max'\n",
    "padding='valid'\n",
    "drop_out=0.5\n",
    "return_customized_layers=True\n",
    "\n",
    "model, co_mccnn = build_multi_channel_cnn_model(\n",
    "    num_feature_channels1, num_feature_channels2, num_features1, num_features2, feature_dim1, output_dim, \n",
    "    num_filters, filter_sizes, model_dim, mlp_dim, mlp_depth, drop_out, pooling, padding, return_customized_layers\n",
    ")"
   ]
  },
  {
   "cell_type": "code",
   "execution_count": 28,
   "metadata": {
    "_uuid": "aab9555300c202aabd0a3e1ed23084bad624a9ac"
   },
   "outputs": [
    {
     "name": "stdout",
     "output_type": "stream",
     "text": [
      "__________________________________________________________________________________________________\n",
      "Layer (type)                    Output Shape         Param #     Connected to                     \n",
      "==================================================================================================\n",
      "input1_0 (InputLayer)           (None, 11, 384)      0                                            \n",
      "__________________________________________________________________________________________________\n",
      "input1_1 (InputLayer)           (None, 11, 384)      0                                            \n",
      "__________________________________________________________________________________________________\n",
      "input1_2 (InputLayer)           (None, 11, 384)      0                                            \n",
      "__________________________________________________________________________________________________\n",
      "time_distributed_3 (TimeDistrib (None, 11, 384)      0           input1_0[0][0]                   \n",
      "                                                                 input1_1[0][0]                   \n",
      "                                                                 input1_2[0][0]                   \n",
      "__________________________________________________________________________________________________\n",
      "cc_layer10 (Conv1D)             (None, 9, 10)        11530       time_distributed_3[0][0]         \n",
      "                                                                 time_distributed_3[1][0]         \n",
      "                                                                 time_distributed_3[2][0]         \n",
      "__________________________________________________________________________________________________\n",
      "cc_layer11 (Conv1D)             (None, 7, 10)        19210       time_distributed_3[0][0]         \n",
      "                                                                 time_distributed_3[1][0]         \n",
      "                                                                 time_distributed_3[2][0]         \n",
      "__________________________________________________________________________________________________\n",
      "global_pooling_layer10 (GlobalM (None, 10)           0           cc_layer10[0][0]                 \n",
      "                                                                 cc_layer10[1][0]                 \n",
      "                                                                 cc_layer10[2][0]                 \n",
      "__________________________________________________________________________________________________\n",
      "global_pooling_layer11 (GlobalM (None, 10)           0           cc_layer11[0][0]                 \n",
      "                                                                 cc_layer11[1][0]                 \n",
      "                                                                 cc_layer11[2][0]                 \n",
      "__________________________________________________________________________________________________\n",
      "input2_0 (InputLayer)           (None, 3)            0                                            \n",
      "__________________________________________________________________________________________________\n",
      "input2_1 (InputLayer)           (None, 3)            0                                            \n",
      "__________________________________________________________________________________________________\n",
      "concated_layer (Concatenate)    (None, 20)           0           global_pooling_layer10[0][0]     \n",
      "                                                                 global_pooling_layer11[0][0]     \n",
      "                                                                 global_pooling_layer10[1][0]     \n",
      "                                                                 global_pooling_layer11[1][0]     \n",
      "                                                                 global_pooling_layer10[2][0]     \n",
      "                                                                 global_pooling_layer11[2][0]     \n",
      "__________________________________________________________________________________________________\n",
      "feature_map_layer2 (Dense)      (None, 10)           40          input2_0[0][0]                   \n",
      "                                                                 input2_1[0][0]                   \n",
      "__________________________________________________________________________________________________\n",
      "concate_layer (Concatenate)     (None, 80)           0           concated_layer[0][0]             \n",
      "                                                                 concated_layer[1][0]             \n",
      "                                                                 concated_layer[2][0]             \n",
      "                                                                 feature_map_layer2[0][0]         \n",
      "                                                                 feature_map_layer2[1][0]         \n",
      "__________________________________________________________________________________________________\n",
      "batch_norm_layer (BatchNormaliz (None, 80)           320         concate_layer[0][0]              \n",
      "__________________________________________________________________________________________________\n",
      "dropout_layer (Dropout)         (None, 80)           0           batch_norm_layer[0][0]           \n",
      "__________________________________________________________________________________________________\n",
      "softmax_layer0 (Dense)          (None, 3)            243         dropout_layer[0][0]              \n",
      "==================================================================================================\n",
      "Total params: 31,343\n",
      "Trainable params: 31,183\n",
      "Non-trainable params: 160\n",
      "__________________________________________________________________________________________________\n",
      "None\n"
     ]
    }
   ],
   "source": [
    "print(model.summary())"
   ]
  },
  {
   "cell_type": "markdown",
   "metadata": {
    "_uuid": "e6e3b24891f298ba9fd075973562e492f95a56ab"
   },
   "source": [
    "### Train Model"
   ]
  },
  {
   "cell_type": "code",
   "execution_count": 29,
   "metadata": {
    "_uuid": "a73d70bf362849c16ad30aa14527ab058cc676ea"
   },
   "outputs": [
    {
     "name": "stdout",
     "output_type": "stream",
     "text": [
      "Train on 2000 samples, validate on 454 samples\n",
      "Epoch 1/20\n",
      "2000/2000 [==============================] - 2s 1ms/step - loss: 1.2900 - sparse_categorical_accuracy: 0.4905 - val_loss: 0.8967 - val_sparse_categorical_accuracy: 0.6057\n",
      "\n",
      "Epoch 00001: val_loss improved from inf to 0.89667, saving model to best_mc_cnn_model.hdf5\n",
      "Epoch 2/20\n",
      "2000/2000 [==============================] - 1s 484us/step - loss: 0.8971 - sparse_categorical_accuracy: 0.6170 - val_loss: 0.8194 - val_sparse_categorical_accuracy: 0.6300\n",
      "\n",
      "Epoch 00002: val_loss improved from 0.89667 to 0.81936, saving model to best_mc_cnn_model.hdf5\n",
      "Epoch 3/20\n",
      "2000/2000 [==============================] - 1s 461us/step - loss: 0.8342 - sparse_categorical_accuracy: 0.6445 - val_loss: 0.7975 - val_sparse_categorical_accuracy: 0.6123\n",
      "\n",
      "Epoch 00003: val_loss improved from 0.81936 to 0.79749, saving model to best_mc_cnn_model.hdf5\n",
      "Epoch 4/20\n",
      "2000/2000 [==============================] - 1s 453us/step - loss: 0.7734 - sparse_categorical_accuracy: 0.6615 - val_loss: 0.7810 - val_sparse_categorical_accuracy: 0.6322\n",
      "\n",
      "Epoch 00004: val_loss improved from 0.79749 to 0.78105, saving model to best_mc_cnn_model.hdf5\n",
      "Epoch 5/20\n",
      "2000/2000 [==============================] - 1s 455us/step - loss: 0.7519 - sparse_categorical_accuracy: 0.6745 - val_loss: 0.7680 - val_sparse_categorical_accuracy: 0.6432\n",
      "\n",
      "Epoch 00005: val_loss improved from 0.78105 to 0.76797, saving model to best_mc_cnn_model.hdf5\n",
      "Epoch 6/20\n",
      "2000/2000 [==============================] - 1s 462us/step - loss: 0.7341 - sparse_categorical_accuracy: 0.6800 - val_loss: 0.7684 - val_sparse_categorical_accuracy: 0.6388\n",
      "\n",
      "Epoch 00006: val_loss did not improve from 0.76797\n",
      "Epoch 7/20\n",
      "2000/2000 [==============================] - 1s 450us/step - loss: 0.7150 - sparse_categorical_accuracy: 0.6880 - val_loss: 0.7402 - val_sparse_categorical_accuracy: 0.6432\n",
      "\n",
      "Epoch 00007: val_loss improved from 0.76797 to 0.74023, saving model to best_mc_cnn_model.hdf5\n",
      "Epoch 8/20\n",
      "2000/2000 [==============================] - 1s 436us/step - loss: 0.7010 - sparse_categorical_accuracy: 0.6960 - val_loss: 0.7374 - val_sparse_categorical_accuracy: 0.6718\n",
      "\n",
      "Epoch 00008: val_loss improved from 0.74023 to 0.73738, saving model to best_mc_cnn_model.hdf5\n",
      "Epoch 9/20\n",
      "2000/2000 [==============================] - 1s 427us/step - loss: 0.6807 - sparse_categorical_accuracy: 0.7165 - val_loss: 0.7531 - val_sparse_categorical_accuracy: 0.6454\n",
      "\n",
      "Epoch 00009: val_loss did not improve from 0.73738\n",
      "Epoch 10/20\n",
      "2000/2000 [==============================] - 1s 434us/step - loss: 0.6611 - sparse_categorical_accuracy: 0.7270 - val_loss: 0.7451 - val_sparse_categorical_accuracy: 0.6388\n",
      "\n",
      "Epoch 00010: val_loss did not improve from 0.73738\n",
      "Epoch 11/20\n",
      "2000/2000 [==============================] - 1s 435us/step - loss: 0.6462 - sparse_categorical_accuracy: 0.7240 - val_loss: 0.7591 - val_sparse_categorical_accuracy: 0.6520\n",
      "\n",
      "Epoch 00011: val_loss did not improve from 0.73738\n"
     ]
    },
    {
     "data": {
      "text/plain": [
       "169"
      ]
     },
     "execution_count": 29,
     "metadata": {},
     "output_type": "execute_result"
    }
   ],
   "source": [
    "adam = ko.Nadam()\n",
    "model.compile(adam, loss=\"sparse_categorical_crossentropy\", metrics=[\"sparse_categorical_accuracy\"])\n",
    "\n",
    "file_path = \"best_mc_cnn_model.hdf5\"\n",
    "check_point = kc.ModelCheckpoint(file_path, monitor = \"val_loss\", verbose = 1, save_best_only = True, mode = \"min\")\n",
    "early_stop = kc.EarlyStopping(monitor = \"val_loss\", mode = \"min\", patience=3)\n",
    "history = model.fit(X_train, y_tra, batch_size=20, epochs=20, validation_data=(X_dev, y_dev), callbacks = [check_point, early_stop])\n",
    "\n",
    "histories.append(np.min(np.asarray(history.history['val_loss'])))\n",
    "\n",
    "del model, history\n",
    "gc.collect()"
   ]
  },
  {
   "cell_type": "markdown",
   "metadata": {
    "_uuid": "940e49e9be72833cdd94c7e27508d9d136567aa6"
   },
   "source": [
    "## Inter-Mention-Pair Coattention  Model"
   ]
  },
  {
   "cell_type": "markdown",
   "metadata": {
    "_uuid": "b691f2f96bf47489ba6a6555e8bfe944dc9e6ffb"
   },
   "source": [
    "### Build Model"
   ]
  },
  {
   "cell_type": "code",
   "execution_count": 30,
   "metadata": {
    "_uuid": "9647e346ce25e22e54edd6c2d4c1106eaeea9903"
   },
   "outputs": [],
   "source": [
    "num_feature_channels1 = 3\n",
    "num_feature_channels2 = 2\n",
    "\n",
    "num_embed_features = 11\n",
    "embed_dim = 384\n",
    "num_features1 = num_embed_features\n",
    "num_features2 = num_pos_features\n",
    "feature_dim1 = embed_dim\n",
    "output_dim = 3\n",
    "atten_dim = 10\n",
    "model_dim = 10\n",
    "filter_sizes = [1]\n",
    "num_filters = [20] * len(filter_sizes)\n",
    "mlp_dim = 5\n",
    "mlp_depth=1\n",
    "pooling='max'\n",
    "padding='valid'\n",
    "drop_out=0.5\n",
    "return_customized_layers=True\n",
    "\n",
    "model, co_cacnn = build_inter_coattention_cnn_model(\n",
    "    num_feature_channels1, num_feature_channels2, num_features1, num_features2, feature_dim1, output_dim, \n",
    "    num_filters, filter_sizes, atten_dim, model_dim, mlp_dim, mlp_depth, drop_out, pooling, padding, return_customized_layers\n",
    ")"
   ]
  },
  {
   "cell_type": "code",
   "execution_count": 31,
   "metadata": {
    "_uuid": "5abf1671f6b502345303d5d14e19aa6c8e7b04bd"
   },
   "outputs": [
    {
     "name": "stdout",
     "output_type": "stream",
     "text": [
      "__________________________________________________________________________________________________\n",
      "Layer (type)                    Output Shape         Param #     Connected to                     \n",
      "==================================================================================================\n",
      "input2_0 (InputLayer)           (None, 3)            0                                            \n",
      "__________________________________________________________________________________________________\n",
      "input2_1 (InputLayer)           (None, 3)            0                                            \n",
      "__________________________________________________________________________________________________\n",
      "feature_map_layer2 (Dense)      (None, 384)          1536        input2_0[0][0]                   \n",
      "                                                                 input2_1[0][0]                   \n",
      "__________________________________________________________________________________________________\n",
      "input1_0 (InputLayer)           (None, 11, 384)      0                                            \n",
      "__________________________________________________________________________________________________\n",
      "input1_1 (InputLayer)           (None, 11, 384)      0                                            \n",
      "__________________________________________________________________________________________________\n",
      "reshape_layer (Reshape)         (None, 1, 384)       0           feature_map_layer2[0][0]         \n",
      "                                                                 feature_map_layer2[1][0]         \n",
      "__________________________________________________________________________________________________\n",
      "input1_2 (InputLayer)           (None, 11, 384)      0                                            \n",
      "__________________________________________________________________________________________________\n",
      "concate_pair1_layer (Concatenat (None, 23, 384)      0           input1_0[0][0]                   \n",
      "                                                                 input1_1[0][0]                   \n",
      "                                                                 reshape_layer[0][0]              \n",
      "__________________________________________________________________________________________________\n",
      "concate_pair2_layer (Concatenat (None, 23, 384)      0           input1_0[0][0]                   \n",
      "                                                                 input1_2[0][0]                   \n",
      "                                                                 reshape_layer[1][0]              \n",
      "__________________________________________________________________________________________________\n",
      "coattention_weights_layer (Rema (None, 23, 23)       3850        concate_pair1_layer[0][0]        \n",
      "                                                                 concate_pair2_layer[0][0]        \n",
      "__________________________________________________________________________________________________\n",
      "normalized_coattention_weights_ (None, 23, 23)       0           coattention_weights_layer[0][0]  \n",
      "__________________________________________________________________________________________________\n",
      "normalized_coattention_weights_ (None, 23, 23)       0           coattention_weights_layer[0][0]  \n",
      "__________________________________________________________________________________________________\n",
      "focus_layer2 (Dot)              (None, 23, 384)      0           normalized_coattention_weights_la\n",
      "                                                                 concate_pair2_layer[0][0]        \n",
      "__________________________________________________________________________________________________\n",
      "focus_layer1 (Dot)              (None, 23, 384)      0           normalized_coattention_weights_la\n",
      "                                                                 concate_pair1_layer[0][0]        \n",
      "__________________________________________________________________________________________________\n",
      "pair_layer1 (Concatenate)       (None, 23, 768)      0           concate_pair1_layer[0][0]        \n",
      "                                                                 focus_layer2[0][0]               \n",
      "__________________________________________________________________________________________________\n",
      "pair_layer2 (Concatenate)       (None, 23, 768)      0           concate_pair2_layer[0][0]        \n",
      "                                                                 focus_layer1[0][0]               \n",
      "__________________________________________________________________________________________________\n",
      "concate_layer (Concatenate)     (None, 46, 768)      0           pair_layer1[0][0]                \n",
      "                                                                 pair_layer2[0][0]                \n",
      "__________________________________________________________________________________________________\n",
      "time_distributed_5 (TimeDistrib (None, 46, 768)      0           concate_layer[0][0]              \n",
      "__________________________________________________________________________________________________\n",
      "time_distributed_6 (TimeDistrib (None, 46, 5)        3845        time_distributed_5[0][0]         \n",
      "__________________________________________________________________________________________________\n",
      "pair_feature_flatten_layer1 (Fl (None, 230)          0           time_distributed_6[0][0]         \n",
      "__________________________________________________________________________________________________\n",
      "batch_norm_layer (BatchNormaliz (None, 230)          920         pair_feature_flatten_layer1[0][0]\n",
      "__________________________________________________________________________________________________\n",
      "dropout_layer (Dropout)         (None, 230)          0           batch_norm_layer[0][0]           \n",
      "__________________________________________________________________________________________________\n",
      "softmax_layer0 (Dense)          (None, 3)            693         dropout_layer[0][0]              \n",
      "==================================================================================================\n",
      "Total params: 10,844\n",
      "Trainable params: 10,384\n",
      "Non-trainable params: 460\n",
      "__________________________________________________________________________________________________\n",
      "None\n"
     ]
    }
   ],
   "source": [
    "print(model.summary())"
   ]
  },
  {
   "cell_type": "markdown",
   "metadata": {
    "_uuid": "c2fc445fba502d4b6d656db81b703b9e40b0bb9d"
   },
   "source": [
    "### Train Model"
   ]
  },
  {
   "cell_type": "code",
   "execution_count": 32,
   "metadata": {
    "_uuid": "bd7ad5d8869d2422e9590acf5e73bc5dde368163"
   },
   "outputs": [
    {
     "name": "stdout",
     "output_type": "stream",
     "text": [
      "Train on 2000 samples, validate on 454 samples\n",
      "Epoch 1/40\n",
      "2000/2000 [==============================] - 2s 1ms/step - loss: 1.5731 - sparse_categorical_accuracy: 0.4260 - val_loss: 0.9147 - val_sparse_categorical_accuracy: 0.5749\n",
      "\n",
      "Epoch 00001: val_loss improved from inf to 0.91471, saving model to best_coatt_cnn_model.hdf5\n",
      "Epoch 2/40\n",
      "2000/2000 [==============================] - 1s 725us/step - loss: 1.0655 - sparse_categorical_accuracy: 0.5595 - val_loss: 0.8583 - val_sparse_categorical_accuracy: 0.6013\n",
      "\n",
      "Epoch 00002: val_loss improved from 0.91471 to 0.85830, saving model to best_coatt_cnn_model.hdf5\n",
      "Epoch 3/40\n",
      "2000/2000 [==============================] - 1s 720us/step - loss: 0.8907 - sparse_categorical_accuracy: 0.6185 - val_loss: 0.8190 - val_sparse_categorical_accuracy: 0.6123\n",
      "\n",
      "Epoch 00003: val_loss improved from 0.85830 to 0.81901, saving model to best_coatt_cnn_model.hdf5\n",
      "Epoch 4/40\n",
      "2000/2000 [==============================] - 1s 733us/step - loss: 0.8416 - sparse_categorical_accuracy: 0.6300 - val_loss: 0.8044 - val_sparse_categorical_accuracy: 0.6123\n",
      "\n",
      "Epoch 00004: val_loss improved from 0.81901 to 0.80442, saving model to best_coatt_cnn_model.hdf5\n",
      "Epoch 5/40\n",
      "2000/2000 [==============================] - 1s 718us/step - loss: 0.7837 - sparse_categorical_accuracy: 0.6695 - val_loss: 0.8062 - val_sparse_categorical_accuracy: 0.6189\n",
      "\n",
      "Epoch 00005: val_loss did not improve from 0.80442\n",
      "Epoch 6/40\n",
      "2000/2000 [==============================] - 1s 723us/step - loss: 0.7614 - sparse_categorical_accuracy: 0.6670 - val_loss: 0.7986 - val_sparse_categorical_accuracy: 0.6300\n",
      "\n",
      "Epoch 00006: val_loss improved from 0.80442 to 0.79857, saving model to best_coatt_cnn_model.hdf5\n",
      "Epoch 7/40\n",
      "2000/2000 [==============================] - 1s 726us/step - loss: 0.7483 - sparse_categorical_accuracy: 0.6745 - val_loss: 0.7789 - val_sparse_categorical_accuracy: 0.6432\n",
      "\n",
      "Epoch 00007: val_loss improved from 0.79857 to 0.77886, saving model to best_coatt_cnn_model.hdf5\n",
      "Epoch 8/40\n",
      "2000/2000 [==============================] - 1s 719us/step - loss: 0.7357 - sparse_categorical_accuracy: 0.6880 - val_loss: 0.7779 - val_sparse_categorical_accuracy: 0.6388\n",
      "\n",
      "Epoch 00008: val_loss improved from 0.77886 to 0.77793, saving model to best_coatt_cnn_model.hdf5\n",
      "Epoch 9/40\n",
      "2000/2000 [==============================] - 1s 729us/step - loss: 0.7140 - sparse_categorical_accuracy: 0.6985 - val_loss: 0.7763 - val_sparse_categorical_accuracy: 0.6278\n",
      "\n",
      "Epoch 00009: val_loss improved from 0.77793 to 0.77626, saving model to best_coatt_cnn_model.hdf5\n",
      "Epoch 10/40\n",
      "2000/2000 [==============================] - 2s 808us/step - loss: 0.7107 - sparse_categorical_accuracy: 0.6895 - val_loss: 0.7721 - val_sparse_categorical_accuracy: 0.6410\n",
      "\n",
      "Epoch 00010: val_loss improved from 0.77626 to 0.77214, saving model to best_coatt_cnn_model.hdf5\n",
      "Epoch 11/40\n",
      "2000/2000 [==============================] - 1s 706us/step - loss: 0.6910 - sparse_categorical_accuracy: 0.7080 - val_loss: 0.7738 - val_sparse_categorical_accuracy: 0.6498\n",
      "\n",
      "Epoch 00011: val_loss did not improve from 0.77214\n",
      "Epoch 12/40\n",
      "2000/2000 [==============================] - 1s 715us/step - loss: 0.6797 - sparse_categorical_accuracy: 0.7045 - val_loss: 0.7666 - val_sparse_categorical_accuracy: 0.6432\n",
      "\n",
      "Epoch 00012: val_loss improved from 0.77214 to 0.76663, saving model to best_coatt_cnn_model.hdf5\n",
      "Epoch 13/40\n",
      "2000/2000 [==============================] - 1s 715us/step - loss: 0.6506 - sparse_categorical_accuracy: 0.7165 - val_loss: 0.7696 - val_sparse_categorical_accuracy: 0.6410\n",
      "\n",
      "Epoch 00013: val_loss did not improve from 0.76663\n",
      "Epoch 14/40\n",
      "2000/2000 [==============================] - 1s 715us/step - loss: 0.6212 - sparse_categorical_accuracy: 0.7365 - val_loss: 0.7765 - val_sparse_categorical_accuracy: 0.6454\n",
      "\n",
      "Epoch 00014: val_loss did not improve from 0.76663\n",
      "Epoch 15/40\n",
      "2000/2000 [==============================] - 1s 719us/step - loss: 0.6461 - sparse_categorical_accuracy: 0.7315 - val_loss: 0.7663 - val_sparse_categorical_accuracy: 0.6476\n",
      "\n",
      "Epoch 00015: val_loss improved from 0.76663 to 0.76631, saving model to best_coatt_cnn_model.hdf5\n",
      "Epoch 16/40\n",
      "2000/2000 [==============================] - 1s 715us/step - loss: 0.6132 - sparse_categorical_accuracy: 0.7530 - val_loss: 0.7741 - val_sparse_categorical_accuracy: 0.6520\n",
      "\n",
      "Epoch 00016: val_loss did not improve from 0.76631\n",
      "Epoch 17/40\n",
      "2000/2000 [==============================] - 1s 710us/step - loss: 0.6280 - sparse_categorical_accuracy: 0.7400 - val_loss: 0.7740 - val_sparse_categorical_accuracy: 0.6608\n",
      "\n",
      "Epoch 00017: val_loss did not improve from 0.76631\n",
      "Epoch 18/40\n",
      "2000/2000 [==============================] - 1s 731us/step - loss: 0.5862 - sparse_categorical_accuracy: 0.7590 - val_loss: 0.7969 - val_sparse_categorical_accuracy: 0.6410\n",
      "\n",
      "Epoch 00018: val_loss did not improve from 0.76631\n",
      "Epoch 19/40\n",
      "2000/2000 [==============================] - 1s 705us/step - loss: 0.5824 - sparse_categorical_accuracy: 0.7535 - val_loss: 0.8117 - val_sparse_categorical_accuracy: 0.6410\n",
      "\n",
      "Epoch 00019: val_loss did not improve from 0.76631\n",
      "Epoch 20/40\n",
      "2000/2000 [==============================] - 1s 721us/step - loss: 0.5818 - sparse_categorical_accuracy: 0.7560 - val_loss: 0.7977 - val_sparse_categorical_accuracy: 0.6344\n",
      "\n",
      "Epoch 00020: val_loss did not improve from 0.76631\n"
     ]
    },
    {
     "data": {
      "text/plain": [
       "188"
      ]
     },
     "execution_count": 32,
     "metadata": {},
     "output_type": "execute_result"
    }
   ],
   "source": [
    "adam = ko.Nadam()\n",
    "model.compile(adam, loss=\"sparse_categorical_crossentropy\", metrics=[\"sparse_categorical_accuracy\"])\n",
    "\n",
    "file_path = \"best_coatt_cnn_model.hdf5\"\n",
    "check_point = kc.ModelCheckpoint(file_path, monitor = \"val_loss\", verbose = 1, save_best_only = True, mode = \"min\")\n",
    "early_stop = kc.EarlyStopping(monitor = \"val_loss\", mode = \"min\", patience=5)\n",
    "history = model.fit(X_train, y_tra, batch_size=30, epochs=40, validation_data=(X_dev, y_dev), callbacks = [check_point, early_stop])\n",
    "\n",
    "histories.append(np.min(np.asarray(history.history['val_loss'])))\n",
    "\n",
    "del model, history\n",
    "gc.collect()"
   ]
  },
  {
   "cell_type": "markdown",
   "metadata": {
    "_uuid": "9e6029af87a9ff37df869e2508ad18b97f2f50ba"
   },
   "source": [
    "## Intra-Mention-Pair Coattention Model"
   ]
  },
  {
   "cell_type": "markdown",
   "metadata": {
    "_uuid": "d76f495a534d482070c7b0f186d3bf49a5c749e7"
   },
   "source": [
    "### Build Model"
   ]
  },
  {
   "cell_type": "code",
   "execution_count": 33,
   "metadata": {
    "_uuid": "b2205088e1a863a991931d4ccb10a75be86b8ed9"
   },
   "outputs": [],
   "source": [
    "num_feature_channels1 = 3\n",
    "num_feature_channels2 = 2\n",
    "\n",
    "num_embed_features = 11\n",
    "embed_dim = 384\n",
    "num_features1 = num_embed_features\n",
    "num_features2 = num_pos_features\n",
    "feature_dim1 = embed_dim\n",
    "output_dim = 3\n",
    "atten_dim = 10\n",
    "model_dim = 10\n",
    "filter_sizes = [1]\n",
    "num_filters = [20] * len(filter_sizes)\n",
    "mlp_dim = 5\n",
    "mlp_depth=1\n",
    "pooling='max'\n",
    "padding='valid'\n",
    "drop_out=0.5\n",
    "return_customized_layers=True\n",
    "\n",
    "model, intra_co_cacnn = build_intra_coattention_cnn_model(\n",
    "    num_feature_channels1, num_feature_channels2, num_features1, num_features2, feature_dim1, output_dim, \n",
    "    num_filters, filter_sizes, atten_dim, model_dim, mlp_dim, mlp_depth, drop_out, pooling, padding, return_customized_layers\n",
    ")"
   ]
  },
  {
   "cell_type": "code",
   "execution_count": 34,
   "metadata": {
    "_uuid": "19bdf0ff3437f39910463329d0aa2effa110f579"
   },
   "outputs": [
    {
     "name": "stdout",
     "output_type": "stream",
     "text": [
      "__________________________________________________________________________________________________\n",
      "Layer (type)                    Output Shape         Param #     Connected to                     \n",
      "==================================================================================================\n",
      "input2_0 (InputLayer)           (None, 3)            0                                            \n",
      "__________________________________________________________________________________________________\n",
      "input2_1 (InputLayer)           (None, 3)            0                                            \n",
      "__________________________________________________________________________________________________\n",
      "feature_map_layer2 (Dense)      (None, 384)          1536        input2_0[0][0]                   \n",
      "                                                                 input2_1[0][0]                   \n",
      "__________________________________________________________________________________________________\n",
      "input1_1 (InputLayer)           (None, 11, 384)      0                                            \n",
      "__________________________________________________________________________________________________\n",
      "reshape_layer (Reshape)         (None, 1, 384)       0           feature_map_layer2[0][0]         \n",
      "                                                                 feature_map_layer2[1][0]         \n",
      "__________________________________________________________________________________________________\n",
      "input1_0 (InputLayer)           (None, 11, 384)      0                                            \n",
      "__________________________________________________________________________________________________\n",
      "input1_2 (InputLayer)           (None, 11, 384)      0                                            \n",
      "__________________________________________________________________________________________________\n",
      "concate_pair_layer (Concatenate (None, 12, 384)      0           input1_1[0][0]                   \n",
      "                                                                 reshape_layer[0][0]              \n",
      "                                                                 input1_0[0][0]                   \n",
      "                                                                 reshape_layer[0][0]              \n",
      "                                                                 input1_2[0][0]                   \n",
      "                                                                 reshape_layer[1][0]              \n",
      "                                                                 input1_0[0][0]                   \n",
      "                                                                 reshape_layer[1][0]              \n",
      "__________________________________________________________________________________________________\n",
      "coattention_weights_layer (Rema (None, 12, 12)       3850        concate_pair_layer[0][0]         \n",
      "                                                                 concate_pair_layer[1][0]         \n",
      "                                                                 concate_pair_layer[2][0]         \n",
      "                                                                 concate_pair_layer[3][0]         \n",
      "__________________________________________________________________________________________________\n",
      "normalized_coattention_weights_ (None, 12, 12)       0           coattention_weights_layer[0][0]  \n",
      "                                                                 coattention_weights_layer[1][0]  \n",
      "__________________________________________________________________________________________________\n",
      "normalized_coattention_weights_ (None, 12, 12)       0           coattention_weights_layer[0][0]  \n",
      "                                                                 coattention_weights_layer[1][0]  \n",
      "__________________________________________________________________________________________________\n",
      "focus_layer2 (Dot)              (None, 12, 384)      0           normalized_coattention_weights_la\n",
      "                                                                 concate_pair_layer[1][0]         \n",
      "                                                                 normalized_coattention_weights_la\n",
      "                                                                 concate_pair_layer[3][0]         \n",
      "__________________________________________________________________________________________________\n",
      "focus_layer1 (Dot)              (None, 12, 384)      0           normalized_coattention_weights_la\n",
      "                                                                 concate_pair_layer[0][0]         \n",
      "                                                                 normalized_coattention_weights_la\n",
      "                                                                 concate_pair_layer[2][0]         \n",
      "__________________________________________________________________________________________________\n",
      "pair_layer1 (Concatenate)       (None, 12, 768)      0           concate_pair_layer[0][0]         \n",
      "                                                                 focus_layer2[0][0]               \n",
      "                                                                 concate_pair_layer[2][0]         \n",
      "                                                                 focus_layer2[1][0]               \n",
      "__________________________________________________________________________________________________\n",
      "pair_layer2 (Concatenate)       (None, 12, 768)      0           concate_pair_layer[1][0]         \n",
      "                                                                 focus_layer1[0][0]               \n",
      "                                                                 concate_pair_layer[3][0]         \n",
      "                                                                 focus_layer1[1][0]               \n",
      "__________________________________________________________________________________________________\n",
      "concate_layer (Concatenate)     (None, 48, 768)      0           pair_layer1[0][0]                \n",
      "                                                                 pair_layer2[0][0]                \n",
      "                                                                 pair_layer1[1][0]                \n",
      "                                                                 pair_layer2[1][0]                \n",
      "__________________________________________________________________________________________________\n",
      "time_distributed_8 (TimeDistrib (None, 48, 768)      0           concate_layer[0][0]              \n",
      "__________________________________________________________________________________________________\n",
      "time_distributed_9 (TimeDistrib (None, 48, 5)        3845        time_distributed_8[0][0]         \n",
      "__________________________________________________________________________________________________\n",
      "pair_feature_flatten_layer1 (Fl (None, 240)          0           time_distributed_9[0][0]         \n",
      "__________________________________________________________________________________________________\n",
      "batch_norm_layer (BatchNormaliz (None, 240)          960         pair_feature_flatten_layer1[0][0]\n",
      "__________________________________________________________________________________________________\n",
      "dropout_layer (Dropout)         (None, 240)          0           batch_norm_layer[0][0]           \n",
      "__________________________________________________________________________________________________\n",
      "softmax_layer0 (Dense)          (None, 3)            723         dropout_layer[0][0]              \n",
      "==================================================================================================\n",
      "Total params: 10,914\n",
      "Trainable params: 10,434\n",
      "Non-trainable params: 480\n",
      "__________________________________________________________________________________________________\n",
      "None\n"
     ]
    }
   ],
   "source": [
    "print(model.summary())"
   ]
  },
  {
   "cell_type": "markdown",
   "metadata": {
    "_uuid": "760912bfa6ee6edcfe5d45fbb0db49f99e1266ba"
   },
   "source": [
    "### Train Model"
   ]
  },
  {
   "cell_type": "code",
   "execution_count": 35,
   "metadata": {
    "_uuid": "3c1434deb08877a3f8bee9ce77235e2f63885dbe"
   },
   "outputs": [
    {
     "name": "stdout",
     "output_type": "stream",
     "text": [
      "Train on 2000 samples, validate on 454 samples\n",
      "Epoch 1/40\n",
      "2000/2000 [==============================] - 3s 1ms/step - loss: 1.4985 - sparse_categorical_accuracy: 0.4455 - val_loss: 0.9836 - val_sparse_categorical_accuracy: 0.5661\n",
      "\n",
      "Epoch 00001: val_loss improved from inf to 0.98356, saving model to best_intra_coatt_cnn_model.hdf5\n",
      "Epoch 2/40\n",
      "2000/2000 [==============================] - 1s 692us/step - loss: 1.0541 - sparse_categorical_accuracy: 0.5770 - val_loss: 0.9119 - val_sparse_categorical_accuracy: 0.5969\n",
      "\n",
      "Epoch 00002: val_loss improved from 0.98356 to 0.91194, saving model to best_intra_coatt_cnn_model.hdf5\n",
      "Epoch 3/40\n",
      "2000/2000 [==============================] - 1s 707us/step - loss: 0.9142 - sparse_categorical_accuracy: 0.6025 - val_loss: 0.8623 - val_sparse_categorical_accuracy: 0.5991\n",
      "\n",
      "Epoch 00003: val_loss improved from 0.91194 to 0.86226, saving model to best_intra_coatt_cnn_model.hdf5\n",
      "Epoch 4/40\n",
      "2000/2000 [==============================] - 1s 711us/step - loss: 0.8170 - sparse_categorical_accuracy: 0.6365 - val_loss: 0.8127 - val_sparse_categorical_accuracy: 0.6035\n",
      "\n",
      "Epoch 00004: val_loss improved from 0.86226 to 0.81267, saving model to best_intra_coatt_cnn_model.hdf5\n",
      "Epoch 5/40\n",
      "2000/2000 [==============================] - 1s 692us/step - loss: 0.7927 - sparse_categorical_accuracy: 0.6585 - val_loss: 0.8222 - val_sparse_categorical_accuracy: 0.6145\n",
      "\n",
      "Epoch 00005: val_loss did not improve from 0.81267\n",
      "Epoch 6/40\n",
      "2000/2000 [==============================] - 1s 699us/step - loss: 0.7464 - sparse_categorical_accuracy: 0.6700 - val_loss: 0.7871 - val_sparse_categorical_accuracy: 0.6410\n",
      "\n",
      "Epoch 00006: val_loss improved from 0.81267 to 0.78706, saving model to best_intra_coatt_cnn_model.hdf5\n",
      "Epoch 7/40\n",
      "2000/2000 [==============================] - 1s 715us/step - loss: 0.7276 - sparse_categorical_accuracy: 0.6820 - val_loss: 0.8023 - val_sparse_categorical_accuracy: 0.6366\n",
      "\n",
      "Epoch 00007: val_loss did not improve from 0.78706\n",
      "Epoch 8/40\n",
      "2000/2000 [==============================] - 1s 728us/step - loss: 0.7100 - sparse_categorical_accuracy: 0.7035 - val_loss: 0.7814 - val_sparse_categorical_accuracy: 0.6322\n",
      "\n",
      "Epoch 00008: val_loss improved from 0.78706 to 0.78137, saving model to best_intra_coatt_cnn_model.hdf5\n",
      "Epoch 9/40\n",
      "2000/2000 [==============================] - 1s 712us/step - loss: 0.6963 - sparse_categorical_accuracy: 0.7035 - val_loss: 0.7936 - val_sparse_categorical_accuracy: 0.6322\n",
      "\n",
      "Epoch 00009: val_loss did not improve from 0.78137\n",
      "Epoch 10/40\n",
      "2000/2000 [==============================] - 1s 683us/step - loss: 0.6929 - sparse_categorical_accuracy: 0.7095 - val_loss: 0.7726 - val_sparse_categorical_accuracy: 0.6432\n",
      "\n",
      "Epoch 00010: val_loss improved from 0.78137 to 0.77259, saving model to best_intra_coatt_cnn_model.hdf5\n",
      "Epoch 11/40\n",
      "2000/2000 [==============================] - 1s 696us/step - loss: 0.6733 - sparse_categorical_accuracy: 0.7005 - val_loss: 0.7932 - val_sparse_categorical_accuracy: 0.6322\n",
      "\n",
      "Epoch 00011: val_loss did not improve from 0.77259\n",
      "Epoch 12/40\n",
      "2000/2000 [==============================] - 2s 782us/step - loss: 0.6710 - sparse_categorical_accuracy: 0.7130 - val_loss: 0.8090 - val_sparse_categorical_accuracy: 0.6366\n",
      "\n",
      "Epoch 00012: val_loss did not improve from 0.77259\n",
      "Epoch 13/40\n",
      "2000/2000 [==============================] - 1s 698us/step - loss: 0.6537 - sparse_categorical_accuracy: 0.7240 - val_loss: 0.7913 - val_sparse_categorical_accuracy: 0.6542\n",
      "\n",
      "Epoch 00013: val_loss did not improve from 0.77259\n",
      "Epoch 14/40\n",
      "2000/2000 [==============================] - 1s 691us/step - loss: 0.6522 - sparse_categorical_accuracy: 0.7185 - val_loss: 0.7711 - val_sparse_categorical_accuracy: 0.6520\n",
      "\n",
      "Epoch 00014: val_loss improved from 0.77259 to 0.77108, saving model to best_intra_coatt_cnn_model.hdf5\n",
      "Epoch 15/40\n",
      "2000/2000 [==============================] - 1s 701us/step - loss: 0.6222 - sparse_categorical_accuracy: 0.7450 - val_loss: 0.7855 - val_sparse_categorical_accuracy: 0.6432\n",
      "\n",
      "Epoch 00015: val_loss did not improve from 0.77108\n",
      "Epoch 16/40\n",
      "2000/2000 [==============================] - 1s 709us/step - loss: 0.6234 - sparse_categorical_accuracy: 0.7430 - val_loss: 0.8296 - val_sparse_categorical_accuracy: 0.6344\n",
      "\n",
      "Epoch 00016: val_loss did not improve from 0.77108\n",
      "Epoch 17/40\n",
      "2000/2000 [==============================] - 1s 698us/step - loss: 0.6251 - sparse_categorical_accuracy: 0.7300 - val_loss: 0.7952 - val_sparse_categorical_accuracy: 0.6410\n",
      "\n",
      "Epoch 00017: val_loss did not improve from 0.77108\n",
      "Epoch 18/40\n",
      "2000/2000 [==============================] - 1s 681us/step - loss: 0.5924 - sparse_categorical_accuracy: 0.7470 - val_loss: 0.7788 - val_sparse_categorical_accuracy: 0.6630\n",
      "\n",
      "Epoch 00018: val_loss did not improve from 0.77108\n",
      "Epoch 19/40\n",
      "2000/2000 [==============================] - 1s 724us/step - loss: 0.6106 - sparse_categorical_accuracy: 0.7365 - val_loss: 0.7712 - val_sparse_categorical_accuracy: 0.6608\n",
      "\n",
      "Epoch 00019: val_loss did not improve from 0.77108\n"
     ]
    },
    {
     "data": {
      "text/plain": [
       "230"
      ]
     },
     "execution_count": 35,
     "metadata": {},
     "output_type": "execute_result"
    }
   ],
   "source": [
    "adam = ko.Nadam()\n",
    "model.compile(adam, loss=\"sparse_categorical_crossentropy\", metrics=[\"sparse_categorical_accuracy\"])\n",
    "\n",
    "file_path = \"best_intra_coatt_cnn_model.hdf5\"\n",
    "check_point = kc.ModelCheckpoint(file_path, monitor = \"val_loss\", verbose = 1, save_best_only = True, mode = \"min\")\n",
    "early_stop = kc.EarlyStopping(monitor = \"val_loss\", mode = \"min\", patience=5)\n",
    "history = model.fit(X_train, y_tra, batch_size=30, epochs=40, validation_data=(X_dev, y_dev), callbacks = [check_point, early_stop])\n",
    "\n",
    "histories.append(np.min(np.asarray(history.history['val_loss'])))\n",
    "\n",
    "del model, history\n",
    "gc.collect()"
   ]
  },
  {
   "cell_type": "markdown",
   "metadata": {
    "_uuid": "8bb147615d4920a2f3500a0fba12d31cb0869304"
   },
   "source": [
    "###  Make Prediction"
   ]
  },
  {
   "cell_type": "code",
   "execution_count": 36,
   "metadata": {
    "_uuid": "79cb8d339da04ad2d52e3675a4295f55a6ccd148"
   },
   "outputs": [
    {
     "name": "stdout",
     "output_type": "stream",
     "text": [
      "load best model: best_mc_cnn_model.hdf5\n"
     ]
    }
   ],
   "source": [
    "model_paths = [\n",
    "    \"best_mlp_model.hdf5\",\n",
    "    \"best_mc_cnn_model.hdf5\",\n",
    "    \"best_coatt_cnn_model.hdf5\",\n",
    "    \"best_intra_coatt_cnn_model.hdf5\"\n",
    "]\n",
    "\n",
    "cls_ =[\n",
    "    co_mlp, co_mccnn, co_cacnn, intra_co_cacnn\n",
    "]\n",
    "\n",
    "print(\"load best model: \" + str(model_paths[np.argmin(histories)]))\n",
    "model = models.load_model(\n",
    "    model_paths[np.argmin(histories)], cls_[np.argmin(histories)])"
   ]
  },
  {
   "cell_type": "code",
   "execution_count": 37,
   "metadata": {
    "_uuid": "4c465342c3a99a4996a104fdb00ceab4e85b9649"
   },
   "outputs": [
    {
     "name": "stdout",
     "output_type": "stream",
     "text": [
      "2000/2000 [==============================] - 1s 573us/step\n"
     ]
    },
    {
     "data": {
      "text/html": [
       "<div>\n",
       "<style scoped>\n",
       "    .dataframe tbody tr th:only-of-type {\n",
       "        vertical-align: middle;\n",
       "    }\n",
       "\n",
       "    .dataframe tbody tr th {\n",
       "        vertical-align: top;\n",
       "    }\n",
       "\n",
       "    .dataframe thead th {\n",
       "        text-align: right;\n",
       "    }\n",
       "</style>\n",
       "<table border=\"1\" class=\"dataframe\">\n",
       "  <thead>\n",
       "    <tr style=\"text-align: right;\">\n",
       "      <th></th>\n",
       "      <th>ID</th>\n",
       "      <th>A</th>\n",
       "      <th>B</th>\n",
       "      <th>NEITHER</th>\n",
       "    </tr>\n",
       "  </thead>\n",
       "  <tbody>\n",
       "    <tr>\n",
       "      <th>0</th>\n",
       "      <td>development-1</td>\n",
       "      <td>0.335556</td>\n",
       "      <td>0.459822</td>\n",
       "      <td>0.204623</td>\n",
       "    </tr>\n",
       "    <tr>\n",
       "      <th>1</th>\n",
       "      <td>development-2</td>\n",
       "      <td>0.849667</td>\n",
       "      <td>0.115306</td>\n",
       "      <td>0.035027</td>\n",
       "    </tr>\n",
       "    <tr>\n",
       "      <th>2</th>\n",
       "      <td>development-3</td>\n",
       "      <td>0.192500</td>\n",
       "      <td>0.536205</td>\n",
       "      <td>0.271295</td>\n",
       "    </tr>\n",
       "    <tr>\n",
       "      <th>3</th>\n",
       "      <td>development-4</td>\n",
       "      <td>0.240773</td>\n",
       "      <td>0.517119</td>\n",
       "      <td>0.242108</td>\n",
       "    </tr>\n",
       "    <tr>\n",
       "      <th>4</th>\n",
       "      <td>development-5</td>\n",
       "      <td>0.082214</td>\n",
       "      <td>0.811930</td>\n",
       "      <td>0.105856</td>\n",
       "    </tr>\n",
       "  </tbody>\n",
       "</table>\n",
       "</div>"
      ],
      "text/plain": [
       "              ID         A         B   NEITHER\n",
       "0  development-1  0.335556  0.459822  0.204623\n",
       "1  development-2  0.849667  0.115306  0.035027\n",
       "2  development-3  0.192500  0.536205  0.271295\n",
       "3  development-4  0.240773  0.517119  0.242108\n",
       "4  development-5  0.082214  0.811930  0.105856"
      ]
     },
     "execution_count": 37,
     "metadata": {},
     "output_type": "execute_result"
    }
   ],
   "source": [
    "y_preds = model.predict(X_test, batch_size = 1024, verbose = 1)\n",
    "\n",
    "sub_df_path = os.path.join(SUB_DATA_FOLDER, 'sample_submission_stage_1.csv')\n",
    "sub_df = pd.read_csv(sub_df_path)\n",
    "sub_df.loc[:, 'A'] = pd.Series(y_preds[:, 0])\n",
    "sub_df.loc[:, 'B'] = pd.Series(y_preds[:, 1])\n",
    "sub_df.loc[:, 'NEITHER'] = pd.Series(y_preds[:, 2])\n",
    "\n",
    "sub_df.head()"
   ]
  },
  {
   "cell_type": "code",
   "execution_count": 38,
   "metadata": {
    "_uuid": "6cfa1933801af3de8d5d6cfc1cd9c3e23481e0bd"
   },
   "outputs": [],
   "source": [
    "sub_df.to_csv(\"submission.csv\", index=False)"
   ]
  }
 ],
 "metadata": {
  "kernelspec": {
   "display_name": "Python 3",
   "language": "python",
   "name": "python3"
  },
  "language_info": {
   "codemirror_mode": {
    "name": "ipython",
    "version": 3
   },
   "file_extension": ".py",
   "mimetype": "text/x-python",
   "name": "python",
   "nbconvert_exporter": "python",
   "pygments_lexer": "ipython3",
   "version": "3.6.6"
  }
 },
 "nbformat": 4,
 "nbformat_minor": 1
}
