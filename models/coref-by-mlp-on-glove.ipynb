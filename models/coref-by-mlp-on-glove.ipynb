{
 "cells": [
  {
   "cell_type": "markdown",
   "metadata": {
    "_uuid": "2440b4a26da21815c0b967d0a3b8d6b9d734add2"
   },
   "source": [
    "This kernel implements 2 DL models for coreference resolution. All the model in this kernel are Non-RNN Based DL models.\n",
    "\n",
    "Features extraction used in this kernel follows Clark and Mannings work: https://nlp.stanford.edu/pubs/clark2016improving.pdf\n",
    "If you are interested in RNN based End2End coreference solution model, please check this kernel: https://www.kaggle.com/keyit92/end2end-coref-resolution-by-attention-rnn."
   ]
  },
  {
   "cell_type": "code",
   "execution_count": 1,
   "metadata": {
    "_cell_guid": "b1076dfc-b9ad-4769-8c92-a6c4dae69d19",
    "_uuid": "8f2839f25d086af736a60e9eeb907d3b93b6e0e5"
   },
   "outputs": [
    {
     "name": "stdout",
     "output_type": "stream",
     "text": [
      "['gendered-pronoun-resolution', 'gap-data', 'gap-coreference']\n"
     ]
    },
    {
     "name": "stderr",
     "output_type": "stream",
     "text": [
      "Using TensorFlow backend.\n"
     ]
    }
   ],
   "source": [
    "# This Python 3 environment comes with many helpful analytics libraries installed\n",
    "# It is defined by the kaggle/python docker image: https://github.com/kaggle/docker-python\n",
    "# For example, here's several helpful packages to load in \n",
    "\n",
    "import numpy as np # linear algebra\n",
    "import pandas as pd # data processing, CSV file I/O (e.g. pd.read_csv)\n",
    "\n",
    "# Input data files are available in the \"../input/\" directory.\n",
    "# For example, running this (by clicking run or pressing Shift+Enter) will list the files in the input directory\n",
    "\n",
    "import os\n",
    "import gc\n",
    "print(os.listdir(\"../input\"))\n",
    "\n",
    "from spacy.lang.en import English\n",
    "from spacy.pipeline import DependencyParser\n",
    "import spacy\n",
    "from nltk import Tree\n",
    "from category_encoders.one_hot import OneHotEncoder\n",
    "from gensim.models import Word2Vec\n",
    "import time\n",
    "\n",
    "import numpy as np\n",
    "from keras import backend\n",
    "from keras import layers\n",
    "from keras import models\n",
    "from keras import initializers, regularizers, constraints, activations\n",
    "from keras.engine import Layer\n",
    "import keras.backend as K\n",
    "from keras.layers import merge\n",
    "from keras import callbacks as kc\n",
    "from keras import optimizers as ko\n",
    "from keras import initializers, regularizers, constraints\n",
    "import matplotlib.pyplot as plt\n",
    "from sklearn.model_selection import cross_val_score, KFold, train_test_split\n",
    "import sklearn.metrics as skm\n",
    "\n",
    "# Any results you write to the current directory are saved as output.\n",
    "#plt.ioff()"
   ]
  },
  {
   "cell_type": "code",
   "execution_count": 2,
   "metadata": {},
   "outputs": [],
   "source": [
    "def measure_log_loss(ground, preds):\n",
    "    preds = preds.tolist()\n",
    "    return skm.log_loss(ground, preds, labels=[0, 1, 2], eps=10**-15)"
   ]
  },
  {
   "cell_type": "code",
   "execution_count": 3,
   "metadata": {},
   "outputs": [],
   "source": [
    "def add_results(df, probs):\n",
    "    df.loc[:, 'A'] = pd.Series(probs[:, 0])\n",
    "    df.loc[:, 'B'] = pd.Series(probs[:, 1])\n",
    "    df.loc[:, 'NEITHER'] = pd.Series(probs[:, 2])\n",
    "    \n",
    "def drop_results(df):\n",
    "    df.drop(columns=['A', 'B', 'NEITHER'], inplace=True)"
   ]
  },
  {
   "cell_type": "markdown",
   "metadata": {
    "_uuid": "461cb23b791e2d210e712c933e62de59d19aa20d"
   },
   "source": [
    "# Import Data"
   ]
  },
  {
   "cell_type": "code",
   "execution_count": 4,
   "metadata": {
    "_uuid": "e42e2e7f636cf0702cc472f3d855b451554927dd"
   },
   "outputs": [],
   "source": [
    "DATA_ROOT = '../input/'\n",
    "GAP_DATA_FOLDER = os.path.join(DATA_ROOT, 'gap-data')\n",
    "\n",
    "df_path1 = os.path.join(GAP_DATA_FOLDER, 'gap-phase1.csv')\n",
    "df_path2 = os.path.join(GAP_DATA_FOLDER, 'gap-phase2.csv')\n",
    "\n",
    "df = pd.read_csv(df_path1)\n",
    "test_df = pd.read_csv(df_path2)\n",
    "\n",
    "# split development data\n",
    "dev_size = 454\n",
    "dev_df = df.iloc[:dev_size]\n",
    "train_df = df.iloc[dev_size:].reset_index()"
   ]
  },
  {
   "cell_type": "code",
   "execution_count": 5,
   "metadata": {
    "_uuid": "2eb32fae335b77dae0a60ade52b7ea0a32d8cb3d"
   },
   "outputs": [
    {
     "name": "stdout",
     "output_type": "stream",
     "text": [
      "(4454, 11)\n"
     ]
    },
    {
     "data": {
      "text/html": [
       "<div>\n",
       "<style scoped>\n",
       "    .dataframe tbody tr th:only-of-type {\n",
       "        vertical-align: middle;\n",
       "    }\n",
       "\n",
       "    .dataframe tbody tr th {\n",
       "        vertical-align: top;\n",
       "    }\n",
       "\n",
       "    .dataframe thead th {\n",
       "        text-align: right;\n",
       "    }\n",
       "</style>\n",
       "<table border=\"1\" class=\"dataframe\">\n",
       "  <thead>\n",
       "    <tr style=\"text-align: right;\">\n",
       "      <th></th>\n",
       "      <th>ID</th>\n",
       "      <th>Text</th>\n",
       "      <th>Pronoun</th>\n",
       "      <th>Pronoun-offset</th>\n",
       "      <th>A</th>\n",
       "      <th>A-offset</th>\n",
       "      <th>A-coref</th>\n",
       "      <th>B</th>\n",
       "      <th>B-offset</th>\n",
       "      <th>B-coref</th>\n",
       "      <th>URL</th>\n",
       "    </tr>\n",
       "  </thead>\n",
       "  <tbody>\n",
       "    <tr>\n",
       "      <th>0</th>\n",
       "      <td>development-636</td>\n",
       "      <td>In 2001, it was performed at the Royal Festiva...</td>\n",
       "      <td>her</td>\n",
       "      <td>281</td>\n",
       "      <td>John</td>\n",
       "      <td>209</td>\n",
       "      <td>False</td>\n",
       "      <td>Bob</td>\n",
       "      <td>273</td>\n",
       "      <td>True</td>\n",
       "      <td>http://en.wikipedia.org/wiki/George_Stiles</td>\n",
       "    </tr>\n",
       "    <tr>\n",
       "      <th>1</th>\n",
       "      <td>test-1300</td>\n",
       "      <td>Charles Gore Bob, 20th Earl of John and 3rd Ba...</td>\n",
       "      <td>his</td>\n",
       "      <td>241</td>\n",
       "      <td>John</td>\n",
       "      <td>185</td>\n",
       "      <td>True</td>\n",
       "      <td>Bob</td>\n",
       "      <td>213</td>\n",
       "      <td>False</td>\n",
       "      <td>http://en.wikipedia.org/wiki/Charles_Hay,_20th...</td>\n",
       "    </tr>\n",
       "    <tr>\n",
       "      <th>2</th>\n",
       "      <td>development-1247</td>\n",
       "      <td>Lester and Davis shared some crucial scenes in...</td>\n",
       "      <td>he</td>\n",
       "      <td>434</td>\n",
       "      <td>John</td>\n",
       "      <td>347</td>\n",
       "      <td>False</td>\n",
       "      <td>Bob</td>\n",
       "      <td>404</td>\n",
       "      <td>True</td>\n",
       "      <td>http://en.wikipedia.org/wiki/Bruce_Lester</td>\n",
       "    </tr>\n",
       "    <tr>\n",
       "      <th>3</th>\n",
       "      <td>development-1559</td>\n",
       "      <td>This is about getting Apple healthy, and this ...</td>\n",
       "      <td>he</td>\n",
       "      <td>375</td>\n",
       "      <td>John</td>\n",
       "      <td>220</td>\n",
       "      <td>False</td>\n",
       "      <td>Bob</td>\n",
       "      <td>274</td>\n",
       "      <td>True</td>\n",
       "      <td>http://en.wikipedia.org/wiki/Stevenote</td>\n",
       "    </tr>\n",
       "    <tr>\n",
       "      <th>4</th>\n",
       "      <td>development-1957</td>\n",
       "      <td>Bob is also very proud of the liner note her i...</td>\n",
       "      <td>she</td>\n",
       "      <td>259</td>\n",
       "      <td>John</td>\n",
       "      <td>188</td>\n",
       "      <td>False</td>\n",
       "      <td>Bob</td>\n",
       "      <td>205</td>\n",
       "      <td>True</td>\n",
       "      <td>http://en.wikipedia.org/wiki/Erin_Hay</td>\n",
       "    </tr>\n",
       "  </tbody>\n",
       "</table>\n",
       "</div>"
      ],
      "text/plain": [
       "                 ID                        ...                                                                        URL\n",
       "0   development-636                        ...                                 http://en.wikipedia.org/wiki/George_Stiles\n",
       "1         test-1300                        ...                          http://en.wikipedia.org/wiki/Charles_Hay,_20th...\n",
       "2  development-1247                        ...                                  http://en.wikipedia.org/wiki/Bruce_Lester\n",
       "3  development-1559                        ...                                     http://en.wikipedia.org/wiki/Stevenote\n",
       "4  development-1957                        ...                                      http://en.wikipedia.org/wiki/Erin_Hay\n",
       "\n",
       "[5 rows x 11 columns]"
      ]
     },
     "execution_count": 5,
     "metadata": {},
     "output_type": "execute_result"
    }
   ],
   "source": [
    "print(df.shape)\n",
    "df.head()"
   ]
  },
  {
   "cell_type": "code",
   "execution_count": 6,
   "metadata": {},
   "outputs": [
    {
     "name": "stdout",
     "output_type": "stream",
     "text": [
      "(4000, 12)\n"
     ]
    },
    {
     "data": {
      "text/html": [
       "<div>\n",
       "<style scoped>\n",
       "    .dataframe tbody tr th:only-of-type {\n",
       "        vertical-align: middle;\n",
       "    }\n",
       "\n",
       "    .dataframe tbody tr th {\n",
       "        vertical-align: top;\n",
       "    }\n",
       "\n",
       "    .dataframe thead th {\n",
       "        text-align: right;\n",
       "    }\n",
       "</style>\n",
       "<table border=\"1\" class=\"dataframe\">\n",
       "  <thead>\n",
       "    <tr style=\"text-align: right;\">\n",
       "      <th></th>\n",
       "      <th>index</th>\n",
       "      <th>ID</th>\n",
       "      <th>Text</th>\n",
       "      <th>Pronoun</th>\n",
       "      <th>Pronoun-offset</th>\n",
       "      <th>A</th>\n",
       "      <th>A-offset</th>\n",
       "      <th>A-coref</th>\n",
       "      <th>B</th>\n",
       "      <th>B-offset</th>\n",
       "      <th>B-coref</th>\n",
       "      <th>URL</th>\n",
       "    </tr>\n",
       "  </thead>\n",
       "  <tbody>\n",
       "    <tr>\n",
       "      <th>0</th>\n",
       "      <td>454</td>\n",
       "      <td>validation-222</td>\n",
       "      <td>She informs Will and Roz Washington (NeNe Leak...</td>\n",
       "      <td>his</td>\n",
       "      <td>367</td>\n",
       "      <td>John</td>\n",
       "      <td>241</td>\n",
       "      <td>False</td>\n",
       "      <td>Bob</td>\n",
       "      <td>334</td>\n",
       "      <td>True</td>\n",
       "      <td>http://en.wikipedia.org/wiki/Love,_Love,_Love_...</td>\n",
       "    </tr>\n",
       "    <tr>\n",
       "      <th>1</th>\n",
       "      <td>455</td>\n",
       "      <td>development-1069</td>\n",
       "      <td>It is generally accepted that he was the first...</td>\n",
       "      <td>he</td>\n",
       "      <td>359</td>\n",
       "      <td>John</td>\n",
       "      <td>300</td>\n",
       "      <td>True</td>\n",
       "      <td>Bob</td>\n",
       "      <td>323</td>\n",
       "      <td>False</td>\n",
       "      <td>http://en.wikipedia.org/wiki/Carl_Wilhelm_Scheele</td>\n",
       "    </tr>\n",
       "    <tr>\n",
       "      <th>2</th>\n",
       "      <td>456</td>\n",
       "      <td>validation-360</td>\n",
       "      <td>The two women are shocked to see each other an...</td>\n",
       "      <td>her</td>\n",
       "      <td>277</td>\n",
       "      <td>John</td>\n",
       "      <td>243</td>\n",
       "      <td>True</td>\n",
       "      <td>Bob</td>\n",
       "      <td>256</td>\n",
       "      <td>False</td>\n",
       "      <td>http://en.wikipedia.org/wiki/Aventurera</td>\n",
       "    </tr>\n",
       "    <tr>\n",
       "      <th>3</th>\n",
       "      <td>457</td>\n",
       "      <td>development-1831</td>\n",
       "      <td>The film was Fox's first real talkie, using th...</td>\n",
       "      <td>her</td>\n",
       "      <td>259</td>\n",
       "      <td>John</td>\n",
       "      <td>241</td>\n",
       "      <td>True</td>\n",
       "      <td>Bob</td>\n",
       "      <td>252</td>\n",
       "      <td>False</td>\n",
       "      <td>http://en.wikipedia.org/wiki/Mother_Knows_Best...</td>\n",
       "    </tr>\n",
       "    <tr>\n",
       "      <th>4</th>\n",
       "      <td>458</td>\n",
       "      <td>development-1735</td>\n",
       "      <td>In what she describes as ``a moment of artisti...</td>\n",
       "      <td>her</td>\n",
       "      <td>277</td>\n",
       "      <td>John</td>\n",
       "      <td>291</td>\n",
       "      <td>True</td>\n",
       "      <td>Bob</td>\n",
       "      <td>319</td>\n",
       "      <td>False</td>\n",
       "      <td>http://en.wikipedia.org/wiki/Maisie_Dobbs_(novel)</td>\n",
       "    </tr>\n",
       "  </tbody>\n",
       "</table>\n",
       "</div>"
      ],
      "text/plain": [
       "   index                        ...                                                                        URL\n",
       "0    454                        ...                          http://en.wikipedia.org/wiki/Love,_Love,_Love_...\n",
       "1    455                        ...                          http://en.wikipedia.org/wiki/Carl_Wilhelm_Scheele\n",
       "2    456                        ...                                    http://en.wikipedia.org/wiki/Aventurera\n",
       "3    457                        ...                          http://en.wikipedia.org/wiki/Mother_Knows_Best...\n",
       "4    458                        ...                          http://en.wikipedia.org/wiki/Maisie_Dobbs_(novel)\n",
       "\n",
       "[5 rows x 12 columns]"
      ]
     },
     "execution_count": 6,
     "metadata": {},
     "output_type": "execute_result"
    }
   ],
   "source": [
    "print(train_df.shape)\n",
    "train_df.head()"
   ]
  },
  {
   "cell_type": "markdown",
   "metadata": {
    "_uuid": "d60addb918fc181bd736f5497c3114dbf3d3bfd4"
   },
   "source": [
    "# Explore Features for Building Mention-Pair Distributed Representation"
   ]
  },
  {
   "cell_type": "markdown",
   "metadata": {
    "_uuid": "29aa143f16f3aa13fc8b6bdc6bd785c05a3059da"
   },
   "source": [
    "## Embedding Features"
   ]
  },
  {
   "cell_type": "markdown",
   "metadata": {
    "_uuid": "f8cef73c1ec7c1cb47bd0471cda9a31c3c297f20"
   },
   "source": [
    "Follow the idea from the work by Clark and Manning, extract word embedding of head word, dependency parent, first word, last word, two preceding words and two following words of the mention.  Average word embeding of the five preceding words, five following words, all words in the mention, all words in the sentences."
   ]
  },
  {
   "cell_type": "code",
   "execution_count": 7,
   "metadata": {},
   "outputs": [],
   "source": [
    "nlp = spacy.load('en_core_web_lg', disable=['tagger', 'ner', 'textcat'])"
   ]
  },
  {
   "cell_type": "markdown",
   "metadata": {
    "_uuid": "c89b58ad8418cb71f6bec672e5787c71b4905ea9"
   },
   "source": [
    "### Parse Text"
   ]
  },
  {
   "cell_type": "code",
   "execution_count": 8,
   "metadata": {
    "_uuid": "fb35c0c194fc8520601cdc6385d523109f91a563"
   },
   "outputs": [],
   "source": [
    "def bs_(list_, target_):\n",
    "    lo, hi = 0, len(list_) -1\n",
    "    \n",
    "    while lo < hi:\n",
    "        mid = lo + int((hi - lo) / 2)\n",
    "        \n",
    "        if target_ < list_[mid]:\n",
    "            hi = mid\n",
    "        elif target_ > list_[mid]:\n",
    "            lo = mid + 1\n",
    "        else:\n",
    "            return mid\n",
    "    return lo\n",
    "\n",
    "def ohe_dist(dist, buckets):\n",
    "    idx = bs_(buckets, dist)\n",
    "    oh = np.zeros(shape=(len(buckets),), dtype=np.float32)\n",
    "    oh[idx] = 1\n",
    "    \n",
    "    return oh"
   ]
  },
  {
   "cell_type": "code",
   "execution_count": 9,
   "metadata": {
    "_uuid": "d6b32ea0633dd9cceb551115f56f0ef94ee5b91c"
   },
   "outputs": [],
   "source": [
    "def to_nltk_tree(node):\n",
    "    if node.n_lefts + node.n_rights > 0:\n",
    "        return Tree(node.orth_, [to_nltk_tree(child) for child in node.children])\n",
    "    else:\n",
    "        return node.orth_\n",
    "\n",
    "def bs(list_, target_):\n",
    "    lo, hi = 0, len(list_) -1\n",
    "    \n",
    "    while lo < hi:\n",
    "        mid = lo + int((hi - lo) / 2)\n",
    "        \n",
    "        if target_ < list_[mid]:\n",
    "            hi = mid\n",
    "        elif target_ > list_[mid]:\n",
    "            lo = mid + 1\n",
    "        else:\n",
    "            return mid + 1\n",
    "    return lo\n",
    "\n",
    "def _get_preceding_words(tokens, offset, k):\n",
    "    start = offset - k\n",
    "    \n",
    "    precedings = [None] * max(0, 0-start)\n",
    "    start = max(0, start)\n",
    "    precedings += tokens[start: offset]\n",
    "    \n",
    "    return precedings\n",
    "\n",
    "def _get_following_words(tokens, offset, k):\n",
    "    end = offset + k\n",
    "    \n",
    "    followings = [None] * max(0, end - len(tokens))\n",
    "    end = min(len(tokens), end)\n",
    "    followings += tokens[offset: end]\n",
    "    \n",
    "    return followings\n",
    "        \n",
    "\n",
    "def extrac_embed_features_tokens(text, char_offset):\n",
    "    doc = nlp(text)\n",
    "    \n",
    "    # char offset to token offset\n",
    "    lens = [token.idx for token in doc]\n",
    "    mention_offset = bs(lens, char_offset) - 1\n",
    "    # mention_word\n",
    "    mention = doc[mention_offset]\n",
    "    \n",
    "    # token offset to sentence offset\n",
    "    lens = [len(sent) for sent in doc.sents]\n",
    "    acc_lens = [len_ for len_ in lens]\n",
    "    pre_len = 0\n",
    "    for i in range(0, len(acc_lens)):\n",
    "        pre_len += acc_lens[i]\n",
    "        acc_lens[i] = pre_len\n",
    "    sent_index = bs(acc_lens, mention_offset)\n",
    "    # mention sentence\n",
    "    sent = list(doc.sents)[sent_index]\n",
    "    \n",
    "    # dependency parent\n",
    "    head = mention.head\n",
    "    \n",
    "    # last word and first word\n",
    "    first_word, last_word = sent[0], sent[-2]\n",
    "    \n",
    "    assert mention_offset >= 0\n",
    "    \n",
    "    # two preceding words and two following words\n",
    "    tokens = list(doc)\n",
    "    precedings2 = _get_preceding_words(tokens, mention_offset, 2)\n",
    "    followings2 = _get_following_words(tokens, mention_offset, 2)\n",
    "    \n",
    "    # five preceding words and five following words\n",
    "    precedings5 = _get_preceding_words(tokens, mention_offset, 5)\n",
    "    followings5 = _get_following_words(tokens, mention_offset, 5)\n",
    "    \n",
    "    # sentence words\n",
    "    sent_tokens = [token for token in sent]\n",
    "    \n",
    "     # buckets\n",
    "    bucket_pos = [0, 1, 2, 3, 4, 5, 8, 16, 32]\n",
    "    # absolute position in the sentence\n",
    "    sent_pos = mention_offset\n",
    "    if sent_index > 0:\n",
    "        sent_pos = mention_offset - acc_lens[sent_index-1]\n",
    "    sent_pos_oh = ohe_dist(sent_pos, bucket_pos)\n",
    "    sent_pos_inv = len(sent) - sent_pos - 1\n",
    "    assert sent_pos_inv >= 0\n",
    "    sent_pos_inv_oh = ohe_dist(sent_pos_inv, bucket_pos)\n",
    "    \n",
    "    return mention, head, first_word, last_word, precedings2, followings2, precedings5, followings5, sent_tokens, sent_pos_oh, sent_pos_inv_oh"
   ]
  },
  {
   "cell_type": "markdown",
   "metadata": {
    "_uuid": "2b791ce0f258c4dbdd1cd2d58b1d0a102a1ab3cc"
   },
   "source": [
    "Example:"
   ]
  },
  {
   "cell_type": "code",
   "execution_count": 10,
   "metadata": {
    "_uuid": "ec45a77382b6840d6986589300efabbbc7d1eb69",
    "scrolled": true
   },
   "outputs": [
    {
     "name": "stdout",
     "output_type": "stream",
     "text": [
      "Texts: \n",
      "Zoe Telford -- played the police officer girlfriend of Simon, Maggie. Dumped by Simon in the final episode of series 1, after he slept with Jenny, and is not seen again. Phoebe Thomas played John, Bob's friend and also a year 11 pupil in Simon's class. Dumped her boyfriend following Simon's advice after he wouldn't have sex with her but later realised this was due to him catching crabs off her friend Bob.\n",
      "\n",
      "Features:\n",
      "(300,)\n"
     ]
    }
   ],
   "source": [
    "print(\"Texts: \")\n",
    "text = test_df.iloc[0]['Text']\n",
    "print(text)\n",
    "\n",
    "print(\"\\nFeatures:\")\n",
    "mention, parent, first_word, last_word, precedings2, followings2, precedings5, followings5, sent_tokens, sent_pos_oh, sent_pos_inv_oh = extrac_embed_features_tokens(text, test_df.iloc[0]['A-offset'])\n",
    "features = pd.Series([str(feature) for feature in (mention, parent, first_word, last_word, precedings2, followings2, precedings5, followings5, sent_tokens, sent_pos_oh, sent_pos_inv_oh)], index=['mention', 'parent', 'first_word', 'last_word', 'precedings2', 'followings2', 'precedings5', 'followings5', 'sent_tokens', 'sent_pos_oh', 'sent_pos_inv_oh'])\n",
    "features\n",
    "\n",
    "print(mention.vector.shape)"
   ]
  },
  {
   "cell_type": "markdown",
   "metadata": {
    "_uuid": "bfcd994bd7d0e7ec44248efb5370fe69fb201040"
   },
   "source": [
    "### Generate Embedding Features"
   ]
  },
  {
   "cell_type": "code",
   "execution_count": 11,
   "metadata": {
    "_uuid": "0207e42f6dfaf422c1af0494a314fe8c2d78e21a"
   },
   "outputs": [],
   "source": [
    "num_embed_features = 11\n",
    "embed_dim = 300"
   ]
  },
  {
   "cell_type": "code",
   "execution_count": 12,
   "metadata": {
    "_uuid": "c9704c8a0b69ffe9ddd011190e738084101c1da9"
   },
   "outputs": [],
   "source": [
    "def spacy_feats(tokens):\n",
    "    feats = list()\n",
    "    for token in tokens:\n",
    "        if token is None:\n",
    "            feats += [\"na\", \"na\", \"na\", \"na\"]\n",
    "            continue\n",
    "        feats += [token.dep_, token.shape_, str(token.is_alpha), str(token.is_stop)]\n",
    "    return feats\n",
    "\n",
    "def token_vector(token):\n",
    "    return token.vector if token.has_vector else np.zeros((embed_dim,))\n",
    "\n",
    "def token_vector_mean(tokens):\n",
    "    if len(tokens) == 0:\n",
    "        return np.zeros((embed_dim,))\n",
    "    \n",
    "    x_ = np.zeros((embed_dim,))\n",
    "    num = 0\n",
    "    for token in tokens:\n",
    "        if token is not None and token.has_vector:\n",
    "            x_ += token.vector\n",
    "            num += 1\n",
    "    return x_ if num <= 1 else x_ / num\n",
    "\n",
    "def create_embedding_features(df, text_column, offset_column):\n",
    "    text_offset_list = df[[text_column, offset_column]].values.tolist()\n",
    "    num_features = num_embed_features\n",
    "    \n",
    "    embed_feature_matrix_list = list()\n",
    "    other_features = list()\n",
    "    pos_features = list()\n",
    "    for text_offset_index in range(len(text_offset_list)):\n",
    "        text_offset = text_offset_list[text_offset_index]\n",
    "        mention, parent, first_word, last_word, precedings2, followings2, precedings5, followings5, sent_tokens, sent_pos_oh, sent_pos_inv_oh = extrac_embed_features_tokens(text_offset[0], text_offset[1])\n",
    "        \n",
    "        embed_feature_matrix_list.append(list())\n",
    "        embed_feature_matrix_list[-1].append(token_vector(mention))\n",
    "        embed_feature_matrix_list[-1].append(token_vector(parent))\n",
    "        embed_feature_matrix_list[-1].append(token_vector(first_word))\n",
    "        embed_feature_matrix_list[-1].append(token_vector(last_word))\n",
    "        embed_feature_matrix_list[-1] += [token_vector(token) if token is not None else np.zeros((embed_dim,)) for token in precedings2]\n",
    "        embed_feature_matrix_list[-1] += [token_vector(token) if token is not None else np.zeros((embed_dim,)) for token in followings2]\n",
    "        embed_feature_matrix_list[-1].append(token_vector_mean(precedings5))\n",
    "        embed_feature_matrix_list[-1].append(token_vector_mean(followings5))\n",
    "        embed_feature_matrix_list[-1].append(token_vector_mean(sent_tokens))\n",
    "        embed_feature_matrix_list[-1] = np.stack(tuple(embed_feature_matrix_list[-1]))\n",
    "        \n",
    "        other_features.append(list())\n",
    "        other_features[-1] += spacy_feats([mention, parent, first_word, last_word])\n",
    "        other_features[-1] += spacy_feats(precedings2)\n",
    "        other_features[-1] += spacy_feats(followings2)\n",
    "        \n",
    "        pos_features.append(np.concatenate((sent_pos_oh, sent_pos_inv_oh)))\n",
    "    \n",
    "    return np.stack(tuple(embed_feature_matrix_list)), other_features, np.asarray(pos_features)"
   ]
  },
  {
   "cell_type": "markdown",
   "metadata": {
    "_uuid": "2755927ba88262427347c567ae777c92510ffa68"
   },
   "source": [
    " ##  Position Features"
   ]
  },
  {
   "cell_type": "markdown",
   "metadata": {
    "_uuid": "15165f2b90503a90de589b37558ebcea28daa867"
   },
   "source": [
    "Encode the absolute positions in the sentence and the relative position between the pronoun and the entities."
   ]
  },
  {
   "cell_type": "code",
   "execution_count": 13,
   "metadata": {
    "_uuid": "9f3d21e9a626a3290c81c6bc98b817c3e47275be"
   },
   "outputs": [],
   "source": [
    "def extrac_positional_features(text, char_offset1, char_offset2):\n",
    "    doc = nlp(text)\n",
    "    max_len = 64\n",
    "    \n",
    "    # char offset to token offset\n",
    "    lens = [token.idx for token in doc]\n",
    "    mention_offset1 = bs(lens, char_offset1) - 1\n",
    "    mention_offset2 = bs(lens, char_offset2) - 1\n",
    "    \n",
    "    # token offset to sentence offset\n",
    "    lens = [len(sent) for sent in doc.sents]\n",
    "    acc_lens = [len_ for len_ in lens]\n",
    "    pre_len = 0\n",
    "    for i in range(0, len(acc_lens)):\n",
    "        pre_len += acc_lens[i]\n",
    "        acc_lens[i] = pre_len\n",
    "    sent_index1 = bs(acc_lens, mention_offset1)\n",
    "    sent_index2 = bs(acc_lens, mention_offset2)\n",
    "    \n",
    "    sent1 = list(doc.sents)[sent_index1]\n",
    "    sent2 = list(doc.sents)[sent_index2]\n",
    "    \n",
    "    # buckets\n",
    "    bucket_dist = [1, 2, 3, 4, 5, 8, 16, 32, 64]\n",
    "    \n",
    "    # relative distance\n",
    "    dist = mention_offset2 - mention_offset1\n",
    "    dist_oh = ohe_dist(dist, bucket_dist)\n",
    "    \n",
    "    return dist_oh"
   ]
  },
  {
   "cell_type": "code",
   "execution_count": 14,
   "metadata": {
    "_uuid": "c1c14436f57e74e80ac4425f77df98768c71f7b9"
   },
   "outputs": [],
   "source": [
    "num_pos_features = 9"
   ]
  },
  {
   "cell_type": "code",
   "execution_count": 15,
   "metadata": {
    "_uuid": "4a9ec346bff260b62ebea6d9223c6a11e683a9ee"
   },
   "outputs": [],
   "source": [
    "def create_dist_features(df, text_column, pronoun_offset_column, name_offset_column):\n",
    "    text_offset_list = df[[text_column, pronoun_offset_column, name_offset_column]].values.tolist()\n",
    "    num_features = num_pos_features\n",
    "    \n",
    "    pos_feature_matrix = np.zeros(shape=(len(text_offset_list), num_features))\n",
    "    for text_offset_index in range(len(text_offset_list)):\n",
    "        text_offset = text_offset_list[text_offset_index]\n",
    "        dist_oh = extrac_positional_features(text_offset[0], text_offset[1], text_offset[2])\n",
    "        \n",
    "        feature_index = 0\n",
    "        pos_feature_matrix[text_offset_index, feature_index:feature_index+len(dist_oh)] = np.asarray(dist_oh)\n",
    "        feature_index += len(dist_oh)\n",
    "    \n",
    "    return pos_feature_matrix"
   ]
  },
  {
   "cell_type": "markdown",
   "metadata": {
    "_uuid": "89203775726cd6d361161680c83a278717fd926e"
   },
   "source": [
    "### Generate Training, Validation and Testing Data"
   ]
  },
  {
   "cell_type": "code",
   "execution_count": 16,
   "metadata": {
    "_uuid": "a6cd42d52bda7aaa12654031ec335c827cc104b2"
   },
   "outputs": [],
   "source": [
    "p_emb_tra, p_feats_tra, p_pos_tra = create_embedding_features(train_df, 'Text', 'Pronoun-offset')\n",
    "p_emb_dev, p_feats_dev, p_pos_dev = create_embedding_features(dev_df, 'Text', 'Pronoun-offset')\n",
    "p_emb_test, p_feats_test, p_pos_test = create_embedding_features(test_df, 'Text', 'Pronoun-offset')\n",
    "\n",
    "a_emb_tra, a_feats_tra, a_pos_tra = create_embedding_features(train_df, 'Text', 'A-offset')\n",
    "a_emb_dev, a_feats_dev, a_pos_dev = create_embedding_features(dev_df, 'Text', 'A-offset')\n",
    "a_emb_test, a_feats_test, a_pos_test = create_embedding_features(test_df, 'Text', 'A-offset')\n",
    "\n",
    "b_emb_tra, b_feats_tra, b_pos_tra = create_embedding_features(train_df, 'Text', 'B-offset')\n",
    "b_emb_dev, b_feats_dev, b_pos_dev = create_embedding_features(dev_df, 'Text', 'B-offset')\n",
    "b_emb_test, b_feats_test, b_pos_test = create_embedding_features(test_df, 'Text', 'B-offset')\n",
    "\n",
    "pa_dist_tra = create_dist_features(train_df, 'Text', 'Pronoun-offset', 'A-offset')\n",
    "pa_dist_dev = create_dist_features(dev_df, 'Text', 'Pronoun-offset', 'A-offset')\n",
    "pa_dist_test = create_dist_features(test_df, 'Text', 'Pronoun-offset', 'A-offset')\n",
    "\n",
    "pb_dist_tra = create_dist_features(train_df, 'Text', 'Pronoun-offset', 'B-offset')\n",
    "pb_dist_dev = create_dist_features(dev_df, 'Text', 'Pronoun-offset', 'B-offset')\n",
    "pb_dist_test = create_dist_features(test_df, 'Text', 'Pronoun-offset', 'B-offset')"
   ]
  },
  {
   "cell_type": "code",
   "execution_count": 17,
   "metadata": {
    "_uuid": "46d7c4f9c36e8c3a4354b55e63b75b9d5c1a3572"
   },
   "outputs": [],
   "source": [
    "# One hot encode other features\n",
    "feats_encoder = OneHotEncoder(return_df=False)\n",
    "feats_encoder.fit(\n",
    "    p_feats_tra + p_feats_dev + p_feats_test + a_feats_tra + a_feats_dev + a_feats_test + b_feats_tra + b_feats_dev + b_feats_test\n",
    ")\n",
    "\n",
    "p_encode_tra = np.concatenate((feats_encoder.transform(p_feats_tra), p_pos_tra), axis=1)\n",
    "a_encode_tra = np.concatenate((feats_encoder.transform(a_feats_tra), a_pos_tra), axis=1)\n",
    "b_encode_tra = np.concatenate((feats_encoder.transform(b_feats_tra), b_pos_tra), axis=1)\n",
    "\n",
    "p_encode_test = np.concatenate((feats_encoder.transform(p_feats_test), p_pos_test), axis=1)\n",
    "a_encode_test = np.concatenate((feats_encoder.transform(a_feats_test), a_pos_test), axis=1)\n",
    "b_encode_test = np.concatenate((feats_encoder.transform(b_feats_test), b_pos_test), axis=1)\n",
    "\n",
    "p_encode_dev = np.concatenate((feats_encoder.transform(p_feats_dev), p_pos_dev), axis=1)\n",
    "a_encode_dev = np.concatenate((feats_encoder.transform(a_feats_dev), a_pos_dev), axis=1)\n",
    "b_encode_dev = np.concatenate((feats_encoder.transform(b_feats_dev), b_pos_dev), axis=1)"
   ]
  },
  {
   "cell_type": "code",
   "execution_count": 18,
   "metadata": {
    "_uuid": "a9c813e2dcddb0c4746f72b4521263ff9737669d"
   },
   "outputs": [],
   "source": [
    "def _row_to_y(row):\n",
    "    if row.loc['A-coref']:\n",
    "        return 0\n",
    "    if row.loc['B-coref']:\n",
    "        return 1\n",
    "    return 2\n",
    "\n",
    "y_train = train_df.apply(_row_to_y, axis=1)\n",
    "y_dev = dev_df.apply(_row_to_y, axis=1)\n",
    "y_test = test_df.apply(_row_to_y, axis=1)"
   ]
  },
  {
   "cell_type": "code",
   "execution_count": 19,
   "metadata": {
    "_uuid": "dcf1a4a4d3deb6710d3e099e91279fb1392921af"
   },
   "outputs": [],
   "source": [
    "X_train = [p_emb_tra, a_emb_tra, b_emb_tra, p_encode_tra, a_encode_tra, b_encode_tra, pa_dist_tra, pb_dist_tra]\n",
    "X_dev = [p_emb_dev, a_emb_dev, b_emb_dev, p_encode_dev, a_encode_dev, b_encode_dev, pa_dist_dev, pb_dist_dev]\n",
    "X_test = [p_emb_test, a_emb_test, b_emb_test, p_encode_test, a_encode_test, b_encode_test, pa_dist_test, pb_dist_test]"
   ]
  },
  {
   "cell_type": "markdown",
   "metadata": {
    "_uuid": "bf87bf600dac037777be8e3dda560ec65b6640a2"
   },
   "source": [
    "# Build and Train Model"
   ]
  },
  {
   "cell_type": "markdown",
   "metadata": {},
   "source": [
    "## Flat MLP"
   ]
  },
  {
   "cell_type": "code",
   "execution_count": 20,
   "metadata": {},
   "outputs": [],
   "source": [
    "model_name = \"flatmlp_glove\""
   ]
  },
  {
   "cell_type": "code",
   "execution_count": 21,
   "metadata": {
    "_uuid": "f955f5dd9603b4148ab3054aafa0ff0caeea7eeb"
   },
   "outputs": [],
   "source": [
    "def build_flatmlp_model(\n",
    "    num_channels1, num_channels2, num_channels3, \n",
    "    num_features1, num_features2, num_features3, \n",
    "    feature_dim1, output_dim, model_dim, mlp_dim, \n",
    "    mlp_depth=1, embed_dropout=0.5, drop_out=0.2, \n",
    "    return_customized_layers=False):\n",
    "\n",
    "    # inputs\n",
    "    inputs1 = list()\n",
    "    for fi in range(num_channels1):\n",
    "        inputs1.append(models.Input(shape=(num_features1, feature_dim1), dtype='float32', name='input1_' + str(fi)))\n",
    "        \n",
    "    inputs2 = list()\n",
    "    for fi in range(num_channels2):\n",
    "        inputs2.append(models.Input(shape=(num_features2,), dtype='float32', name='input2_' + str(fi)))\n",
    "        \n",
    "    inputs3 = list()\n",
    "    for fi in range(num_channels3):\n",
    "        inputs3.append(models.Input(shape=(num_features3,), dtype='float32', name='input3_' + str(fi)))\n",
    "        \n",
    "    features1_pip = models.Sequential()\n",
    "    #features1_pip.add(layers.TimeDistributed(layers.Dropout(rate=embed_dropout, name=\"embed_dropout_layer\")))\n",
    "    features1_pip.add(layers.Flatten(name=\"embed_flatten_layer\"))\n",
    "    x1 = [features1_pip(input_) for input_ in inputs1]\n",
    "    x2 = inputs2\n",
    "    x3 = inputs3\n",
    "    \n",
    "    concate_layer = layers.Concatenate(axis=1, name=\"concate_layer\")\n",
    "    xpa = concate_layer([x1[0], x1[1], x2[0], x2[1], x3[0]])\n",
    "    xpb = concate_layer([x1[0], x1[2], x2[0], x2[2], x3[1]])\n",
    "    \n",
    "    # MLP Layers\n",
    "    dropout_layer = layers.Dropout(rate=embed_dropout, name=\"dropout_layer\")\n",
    "    map_layer = layers.Dense(model_dim, activation='relu', kernel_initializer='lecun_normal', name='relu_layer')\n",
    "    xpa = dropout_layer(xpa)\n",
    "    xpa = map_layer(xpa)\n",
    "    xpb = dropout_layer(xpb)\n",
    "    xpb = map_layer(xpb)\n",
    "    \n",
    "    x = layers.Concatenate(axis=1, name=\"embed_concate_layer\")([xpa, xpb])\n",
    "    x = layers.Dropout(rate=drop_out, name=\"embed_dropout_layer\")(x)\n",
    "        \n",
    "    for i in range(mlp_depth - 1):\n",
    "        x = layers.Dense(mlp_dim, activation='selu', kernel_initializer='lecun_normal', name='selu_layer' + str(i))(x)\n",
    "        x = layers.AlphaDropout(drop_out, name='alpha_layer' + str(i))(x)\n",
    "\n",
    "    outputs = layers.Dense(output_dim, activation=\"softmax\", name=\"softmax_layer0\")(x)\n",
    "\n",
    "    model = models.Model(inputs1 + inputs2 + inputs3, outputs)\n",
    "\n",
    "    if return_customized_layers:\n",
    "        return model, {}\n",
    "\n",
    "    return model"
   ]
  },
  {
   "cell_type": "markdown",
   "metadata": {
    "_uuid": "fba6b5bd600789437a97bfafde4a68b76eaac03b"
   },
   "source": [
    "### Build Model "
   ]
  },
  {
   "cell_type": "code",
   "execution_count": 22,
   "metadata": {
    "_uuid": "569aa2476fe1cf893ba878b5c83cc37713f2460a"
   },
   "outputs": [],
   "source": [
    "num_channels1 = 3\n",
    "num_channels2 = 3\n",
    "num_channels3 = 2\n",
    "num_features1 = p_emb_tra.shape[1]\n",
    "num_features2 = p_encode_tra.shape[1]\n",
    "#num_features2 = p_pos_tra.shape[1]\n",
    "num_features3 = pa_dist_tra.shape[1]\n",
    "feature_dim1 = p_emb_tra.shape[2]\n",
    "output_dim = 3\n",
    "model_dim = 12\n",
    "mlp_dim = 12\n",
    "mlp_depth=1\n",
    "embed_dropout=0.6\n",
    "drop_out=0.0\n",
    "return_customized_layers=False\n",
    "n_fold = 5\n",
    "epochs = 1000"
   ]
  },
  {
   "cell_type": "code",
   "execution_count": 23,
   "metadata": {
    "_uuid": "13dc8379c35b5b5cf24ee5a32a7358b934ce56ce"
   },
   "outputs": [
    {
     "name": "stdout",
     "output_type": "stream",
     "text": [
      "Fold 0 started at Thu Apr 11 08:57:03 2019\n",
      "WARNING:tensorflow:From /opt/conda/lib/python3.6/site-packages/tensorflow/python/ops/control_flow_ops.py:423: colocate_with (from tensorflow.python.framework.ops) is deprecated and will be removed in a future version.\n",
      "Instructions for updating:\n",
      "Colocations handled automatically by placer.\n",
      "WARNING:tensorflow:From /opt/conda/lib/python3.6/site-packages/keras/backend/tensorflow_backend.py:3445: calling dropout (from tensorflow.python.ops.nn_ops) with keep_prob is deprecated and will be removed in a future version.\n",
      "Instructions for updating:\n",
      "Please use `rate` instead of `keep_prob`. Rate should be set to `rate = 1 - keep_prob`.\n",
      "WARNING:tensorflow:From /opt/conda/lib/python3.6/site-packages/tensorflow/python/ops/math_ops.py:3066: to_int32 (from tensorflow.python.ops.math_ops) is deprecated and will be removed in a future version.\n",
      "Instructions for updating:\n",
      "Use tf.cast instead.\n",
      "single model train loss: \n",
      "0.49591844737529756\n",
      "single model validation loss: \n",
      "0.6749488700638594\n",
      "single model dev loss: \n",
      "0.6570429825191484\n",
      "Fold 1 started at Thu Apr 11 08:57:12 2019\n",
      "single model train loss: \n",
      "0.4424515211582184\n",
      "single model validation loss: \n",
      "0.6344608131527979\n",
      "single model dev loss: \n",
      "0.6331661897295825\n",
      "Fold 2 started at Thu Apr 11 08:57:17 2019\n",
      "single model train loss: \n",
      "0.5219307124614716\n",
      "single model validation loss: \n",
      "0.680560342796911\n",
      "single model dev loss: \n",
      "0.6586009870673192\n",
      "Fold 3 started at Thu Apr 11 08:57:21 2019\n",
      "single model train loss: \n",
      "0.45024380266666414\n",
      "single model validation loss: \n",
      "0.648848530971577\n",
      "single model dev loss: \n",
      "0.6479055217436238\n",
      "Fold 4 started at Thu Apr 11 08:57:26 2019\n",
      "single model train loss: \n",
      "0.438876414000988\n",
      "single model validation loss: \n",
      "0.6489386510325192\n",
      "single model dev loss: \n",
      "0.6558980214409376\n",
      "cv model accuracy: \n",
      "0.6220863647230337\n"
     ]
    },
    {
     "name": "stderr",
     "output_type": "stream",
     "text": [
      "/opt/conda/lib/python3.6/site-packages/pandas/core/indexing.py:543: SettingWithCopyWarning: \n",
      "A value is trying to be set on a copy of a slice from a DataFrame.\n",
      "Try using .loc[row_indexer,col_indexer] = value instead\n",
      "\n",
      "See the caveats in the documentation: http://pandas.pydata.org/pandas-docs/stable/indexing.html#indexing-view-versus-copy\n",
      "  self.obj[item] = s\n",
      "/opt/conda/lib/python3.6/site-packages/pandas/core/indexing.py:362: SettingWithCopyWarning: \n",
      "A value is trying to be set on a copy of a slice from a DataFrame.\n",
      "Try using .loc[row_indexer,col_indexer] = value instead\n",
      "\n",
      "See the caveats in the documentation: http://pandas.pydata.org/pandas-docs/stable/indexing.html#indexing-view-versus-copy\n",
      "  self.obj[key] = _infer_fill_value(value)\n",
      "/opt/conda/lib/python3.6/site-packages/pandas/core/frame.py:3697: SettingWithCopyWarning: \n",
      "A value is trying to be set on a copy of a slice from a DataFrame\n",
      "\n",
      "See the caveats in the documentation: http://pandas.pydata.org/pandas-docs/stable/indexing.html#indexing-view-versus-copy\n",
      "  errors=errors)\n"
     ]
    }
   ],
   "source": [
    "# Training and cross-validation\n",
    "dummy_X = np.zeros(shape=(train_df.shape[0], 1))\n",
    "\n",
    "folds = KFold(n_splits=n_fold, shuffle=False, random_state=3)\n",
    "is_first_fold = True\n",
    "preds_train = list()\n",
    "preds_dev = None\n",
    "preds_test = None\n",
    "for fold_n, (train_index, val_index) in enumerate(folds.split(dummy_X)):\n",
    "    # split training and validation data\n",
    "    print('Fold', fold_n, 'started at', time.ctime())\n",
    "    \n",
    "    Xt = [XX[train_index] for XX in X_train]\n",
    "    Xv = [XX[val_index] for XX in X_train]\n",
    "    \n",
    "    yt = y_train.values[train_index]\n",
    "    yv = y_train.values[val_index]\n",
    "    \n",
    "    model = build_flatmlp_model(\n",
    "    num_channels1, num_channels2, num_channels3, \n",
    "    num_features1, num_features2, num_features3, \n",
    "    feature_dim1, output_dim, model_dim, mlp_dim, \n",
    "    mlp_depth=mlp_depth, embed_dropout=embed_dropout, drop_out=drop_out, \n",
    "    return_customized_layers=return_customized_layers\n",
    "    )\n",
    "    \n",
    "    adam = ko.Nadam()\n",
    "    model.compile(adam, loss=\"sparse_categorical_crossentropy\", metrics=[\"sparse_categorical_accuracy\"])\n",
    "\n",
    "    early_stop = kc.EarlyStopping(monitor = \"val_loss\", mode = \"min\", patience=3, restore_best_weights=True)\n",
    "    history = model.fit(Xt, yt, epochs=epochs, validation_data=(Xv, yv), callbacks = [early_stop], verbose=0, batch_size=32)\n",
    "    \n",
    "    preds_train_tmp = model.predict(Xv)\n",
    "    preds_dev_tmp = model.predict(X_dev)\n",
    "    preds_test_tmp = model.predict(X_test)\n",
    "    \n",
    "    print(\"single model train loss: \")\n",
    "    print(history.history['loss'][-1])\n",
    "    print(\"single model validation loss: \")\n",
    "    print(measure_log_loss(yv, preds_train_tmp))\n",
    "    print(\"single model dev loss: \")\n",
    "    print(measure_log_loss(y_dev.values, preds_dev_tmp))\n",
    "    \n",
    "    \n",
    "    fig = plt.figure()\n",
    "    plt.plot(history.history['loss'])\n",
    "    plt.plot(history.history['val_loss'])\n",
    "    plt.title('model loss')\n",
    "    plt.ylabel('loss')\n",
    "    plt.xlabel('epoch')\n",
    "    plt.legend(['train', 'test'], loc='upper left')\n",
    "    #plt.show()\n",
    "    fig.savefig(model_name + '_lossplot.png')\n",
    "    plt.close(fig)\n",
    "    \n",
    "    if is_first_fold:\n",
    "        preds_train.append(preds_train_tmp)\n",
    "        preds_dev = preds_dev_tmp\n",
    "        preds_test = preds_test_tmp\n",
    "    else:\n",
    "        preds_train.append(preds_train_tmp)\n",
    "        preds_dev += preds_dev_tmp\n",
    "        preds_test += preds_test_tmp\n",
    "        \n",
    "    is_first_fold = False\n",
    "\n",
    "preds_train = np.concatenate(preds_train)\n",
    "preds_dev /= n_fold\n",
    "preds_test /= n_fold\n",
    "print(\"cv model accuracy: \")\n",
    "print(measure_log_loss(y_dev.values, preds_dev))\n",
    "\n",
    "add_results(train_df, preds_train)\n",
    "add_results(dev_df, preds_dev)\n",
    "add_results(test_df, preds_test)\n",
    "train_file_name = model_name + \"_train.csv\"\n",
    "dev_file_name = model_name + \"_dev.csv\"\n",
    "test_file_name = model_name + \"_test.csv\"\n",
    "\n",
    "train_df.to_csv(train_file_name, index=False)\n",
    "dev_df.to_csv(dev_file_name, index=False)\n",
    "test_df.to_csv(test_file_name, index=False)\n",
    "\n",
    "drop_results(train_df)\n",
    "drop_results(dev_df)\n",
    "drop_results(test_df)"
   ]
  },
  {
   "cell_type": "markdown",
   "metadata": {},
   "source": [
    "## Mapped MLP"
   ]
  },
  {
   "cell_type": "code",
   "execution_count": 24,
   "metadata": {},
   "outputs": [],
   "source": [
    "model_name = \"mapmlp_glove\""
   ]
  },
  {
   "cell_type": "code",
   "execution_count": 25,
   "metadata": {},
   "outputs": [],
   "source": [
    "def build_mapmlp_model(\n",
    "    num_channels1, num_channels2, num_channels3, \n",
    "    num_features1, num_features2, num_features3, \n",
    "    feature_dim1, output_dim, model_dim1, model_dim2, mlp_dim, \n",
    "    mlp_depth=1, embed_dropout1=0.5, embed_dropout2=0.5, drop_out=0.2, \n",
    "    return_customized_layers=False):\n",
    "\n",
    "    # inputs\n",
    "    inputs1 = list()\n",
    "    for fi in range(num_channels1):\n",
    "        inputs1.append(models.Input(shape=(num_features1, feature_dim1), dtype='float32', name='input1_' + str(fi)))\n",
    "        \n",
    "    inputs2 = list()\n",
    "    for fi in range(num_channels2):\n",
    "        inputs2.append(models.Input(shape=(num_features2,), dtype='float32', name='input2_' + str(fi)))\n",
    "        \n",
    "    inputs3 = list()\n",
    "    for fi in range(num_channels3):\n",
    "        inputs3.append(models.Input(shape=(num_features3,), dtype='float32', name='input3_' + str(fi)))\n",
    "        \n",
    "    features1_pip = models.Sequential()\n",
    "    features1_pip.add(layers.TimeDistributed(layers.Dropout(rate=embed_dropout1, name=\"embed_dropout_layer1\")))\n",
    "    features1_pip.add(layers.TimeDistributed(layers.Dense(model_dim, activation='relu', kernel_initializer='lecun_normal', name='relu_layer1')))\n",
    "    features1_pip.add(layers.Flatten(name=\"embed_flatten_layer\"))\n",
    "    x1 = [features1_pip(input_) for input_ in inputs1]\n",
    "    \n",
    "    concate_layer = layers.Concatenate(axis=1, name=\"concate_layer\")\n",
    "    x23 = concate_layer(inputs2 + inputs3)\n",
    "    \n",
    "    features2_pip = models.Sequential()\n",
    "    features2_pip.add(layers.Dropout(rate=embed_dropout2, name=\"embed_dropout_layer2\"))\n",
    "    features2_pip.add(layers.Dense(model_dim, activation='relu', kernel_initializer='lecun_normal', name='relu_layer2'))\n",
    "    x23 = features2_pip(x23)\n",
    "    \n",
    "    x = layers.Concatenate(axis=1, name=\"embed_concate_layer\")(x1 + [x23,])\n",
    "    x = layers.Dropout(rate=drop_out, name=\"embed_dropout_layer\")(x)\n",
    "        \n",
    "    for i in range(mlp_depth - 1):\n",
    "        x = layers.Dense(mlp_dim, activation='selu', kernel_initializer='lecun_normal', name='selu_layer' + str(i))(x)\n",
    "        x = layers.AlphaDropout(drop_out, name='alpha_layer' + str(i))(x)\n",
    "\n",
    "    outputs = layers.Dense(output_dim, activation=\"softmax\", name=\"softmax_layer0\")(x)\n",
    "\n",
    "    model = models.Model(inputs1 + inputs2 + inputs3, outputs)\n",
    "\n",
    "    if return_customized_layers:\n",
    "        return model, {}\n",
    "\n",
    "    return model"
   ]
  },
  {
   "cell_type": "code",
   "execution_count": 26,
   "metadata": {},
   "outputs": [],
   "source": [
    "num_channels1 = 3\n",
    "num_channels2 = 3\n",
    "num_channels3 = 2\n",
    "num_features1 = p_emb_tra.shape[1]\n",
    "num_features2 = p_encode_tra.shape[1]\n",
    "#num_features2 = p_pos_tra.shape[1]\n",
    "num_features3 = pa_dist_tra.shape[1]\n",
    "feature_dim1 = p_emb_tra.shape[2]\n",
    "output_dim = 3\n",
    "model_dim1 = 10\n",
    "model_dim2 = 20\n",
    "mlp_dim = 12\n",
    "mlp_depth=1\n",
    "embed_dropout1=0.6\n",
    "embed_dropout2=0.6\n",
    "drop_out=0.1\n",
    "return_customized_layers=False\n",
    "n_fold = 5\n",
    "epochs = 1000"
   ]
  },
  {
   "cell_type": "code",
   "execution_count": 27,
   "metadata": {},
   "outputs": [
    {
     "name": "stdout",
     "output_type": "stream",
     "text": [
      "Fold 0 started at Thu Apr 11 08:57:32 2019\n",
      "single model train loss: \n",
      "0.5462740111351013\n",
      "single model validation loss: \n",
      "0.66107965694602\n",
      "single model dev loss: \n",
      "0.649046494175064\n"
     ]
    },
    {
     "data": {
      "image/png": "[encoded data removed]",
      "text/plain": [
       "<Figure size 432x288 with 1 Axes>"
      ]
     },
     "metadata": {},
     "output_type": "display_data"
    },
    {
     "name": "stdout",
     "output_type": "stream",
     "text": [
      "Fold 1 started at Thu Apr 11 08:57:40 2019\n",
      "single model train loss: \n",
      "0.5551864898204804\n",
      "single model validation loss: \n",
      "0.6284896684291058\n",
      "single model dev loss: \n",
      "0.6403082400273308\n"
     ]
    },
    {
     "data": {
      "image/png": "[encoded data removed]",
      "text/plain": [
       "<Figure size 432x288 with 1 Axes>"
      ]
     },
     "metadata": {},
     "output_type": "display_data"
    },
    {
     "name": "stdout",
     "output_type": "stream",
     "text": [
      "Fold 2 started at Thu Apr 11 08:57:49 2019\n",
      "single model train loss: \n",
      "0.5663361710309982\n",
      "single model validation loss: \n",
      "0.6958751396730084\n",
      "single model dev loss: \n",
      "0.6448832212626392\n"
     ]
    },
    {
     "data": {
      "image/png": "[encoded data removed]",
      "text/plain": [
       "<Figure size 432x288 with 1 Axes>"
      ]
     },
     "metadata": {},
     "output_type": "display_data"
    },
    {
     "name": "stdout",
     "output_type": "stream",
     "text": [
      "Fold 3 started at Thu Apr 11 08:57:57 2019\n",
      "single model train loss: \n",
      "0.5513182091712951\n",
      "single model validation loss: \n",
      "0.6369707501117213\n",
      "single model dev loss: \n",
      "0.6302565334919235\n"
     ]
    },
    {
     "data": {
      "image/png": "[encoded data removed]",
      "text/plain": [
       "<Figure size 432x288 with 1 Axes>"
      ]
     },
     "metadata": {},
     "output_type": "display_data"
    },
    {
     "name": "stdout",
     "output_type": "stream",
     "text": [
      "Fold 4 started at Thu Apr 11 08:58:06 2019\n",
      "single model train loss: \n",
      "0.5492246323823928\n",
      "single model validation loss: \n",
      "0.6345237191597096\n",
      "single model dev loss: \n",
      "0.6342708733051319\n"
     ]
    },
    {
     "data": {
      "image/png": "[encoded data removed]",
      "text/plain": [
       "<Figure size 432x288 with 1 Axes>"
      ]
     },
     "metadata": {},
     "output_type": "display_data"
    },
    {
     "name": "stdout",
     "output_type": "stream",
     "text": [
      "cv model accuracy: \n",
      "0.6206922321353556\n"
     ]
    },
    {
     "name": "stderr",
     "output_type": "stream",
     "text": [
      "/opt/conda/lib/python3.6/site-packages/pandas/core/indexing.py:362: SettingWithCopyWarning: \n",
      "A value is trying to be set on a copy of a slice from a DataFrame.\n",
      "Try using .loc[row_indexer,col_indexer] = value instead\n",
      "\n",
      "See the caveats in the documentation: http://pandas.pydata.org/pandas-docs/stable/indexing.html#indexing-view-versus-copy\n",
      "  self.obj[key] = _infer_fill_value(value)\n",
      "/opt/conda/lib/python3.6/site-packages/pandas/core/indexing.py:543: SettingWithCopyWarning: \n",
      "A value is trying to be set on a copy of a slice from a DataFrame.\n",
      "Try using .loc[row_indexer,col_indexer] = value instead\n",
      "\n",
      "See the caveats in the documentation: http://pandas.pydata.org/pandas-docs/stable/indexing.html#indexing-view-versus-copy\n",
      "  self.obj[item] = s\n",
      "/opt/conda/lib/python3.6/site-packages/pandas/core/frame.py:3697: SettingWithCopyWarning: \n",
      "A value is trying to be set on a copy of a slice from a DataFrame\n",
      "\n",
      "See the caveats in the documentation: http://pandas.pydata.org/pandas-docs/stable/indexing.html#indexing-view-versus-copy\n",
      "  errors=errors)\n"
     ]
    }
   ],
   "source": [
    "# Training and cross-validation\n",
    "dummy_X = np.zeros(shape=(train_df.shape[0], 1))\n",
    "\n",
    "folds = KFold(n_splits=n_fold, shuffle=False, random_state=3)\n",
    "is_first_fold = True\n",
    "preds_train = list()\n",
    "preds_dev = None\n",
    "preds_test = None\n",
    "for fold_n, (train_index, val_index) in enumerate(folds.split(dummy_X)):\n",
    "    # split training and validation data\n",
    "    print('Fold', fold_n, 'started at', time.ctime())\n",
    "    \n",
    "    Xt = [XX[train_index] for XX in X_train]\n",
    "    Xv = [XX[val_index] for XX in X_train]\n",
    "    \n",
    "    yt = y_train.values[train_index]\n",
    "    yv = y_train.values[val_index]\n",
    "    \n",
    "    model = build_mapmlp_model(\n",
    "    num_channels1, num_channels2, num_channels3, \n",
    "    num_features1, num_features2, num_features3, \n",
    "    feature_dim1, output_dim, model_dim1, model_dim2, mlp_dim, \n",
    "    mlp_depth=mlp_depth, embed_dropout1=embed_dropout1, embed_dropout2=embed_dropout2, drop_out=drop_out, \n",
    "    return_customized_layers=return_customized_layers\n",
    "    )\n",
    "    \n",
    "    adam = ko.Nadam()\n",
    "    model.compile(adam, loss=\"sparse_categorical_crossentropy\", metrics=[\"sparse_categorical_accuracy\"])\n",
    "\n",
    "    early_stop = kc.EarlyStopping(monitor = \"val_loss\", mode = \"min\", patience=3, restore_best_weights=True)\n",
    "    history = model.fit(Xt, yt, epochs=epochs, validation_data=(Xv, yv), callbacks = [early_stop], verbose=0, batch_size=32)\n",
    "    \n",
    "    preds_train_tmp = model.predict(Xv)\n",
    "    preds_dev_tmp = model.predict(X_dev)\n",
    "    preds_test_tmp = model.predict(X_test)\n",
    "    \n",
    "    print(\"single model train loss: \")\n",
    "    print(history.history['loss'][-1])\n",
    "    print(\"single model validation loss: \")\n",
    "    print(measure_log_loss(yv, preds_train_tmp))\n",
    "    print(\"single model dev loss: \")\n",
    "    print(measure_log_loss(y_dev.values, preds_dev_tmp))\n",
    "    \n",
    "    \n",
    "    fig = plt.figure()\n",
    "    plt.plot(history.history['loss'])\n",
    "    plt.plot(history.history['val_loss'])\n",
    "    plt.title('model loss')\n",
    "    plt.ylabel('loss')\n",
    "    plt.xlabel('epoch')\n",
    "    plt.legend(['train', 'test'], loc='upper left')\n",
    "    plt.show()\n",
    "    fig.savefig(model_name + '_lossplot.png')\n",
    "    #plt.close(fig)\n",
    "    \n",
    "    if is_first_fold:\n",
    "        preds_train.append(preds_train_tmp)\n",
    "        preds_dev = preds_dev_tmp\n",
    "        preds_test = preds_test_tmp\n",
    "    else:\n",
    "        preds_train.append(preds_train_tmp)\n",
    "        preds_dev += preds_dev_tmp\n",
    "        preds_test += preds_test_tmp\n",
    "        \n",
    "    is_first_fold = False\n",
    "\n",
    "preds_train = np.concatenate(preds_train)\n",
    "preds_dev /= n_fold\n",
    "preds_test /= n_fold\n",
    "print(\"cv model accuracy: \")\n",
    "print(measure_log_loss(y_dev.values, preds_dev))\n",
    "\n",
    "add_results(train_df, preds_train)\n",
    "add_results(dev_df, preds_dev)\n",
    "add_results(test_df, preds_test)\n",
    "train_file_name = model_name + \"_train.csv\"\n",
    "dev_file_name = model_name + \"_dev.csv\"\n",
    "test_file_name = model_name + \"_test.csv\"\n",
    "\n",
    "train_df.to_csv(train_file_name, index=False)\n",
    "dev_df.to_csv(dev_file_name, index=False)\n",
    "test_df.to_csv(test_file_name, index=False)\n",
    "\n",
    "drop_results(train_df)\n",
    "drop_results(dev_df)\n",
    "drop_results(test_df)"
   ]
  }
 ],
 "metadata": {
  "kernelspec": {
   "display_name": "Python 3",
   "language": "python",
   "name": "python3"
  },
  "language_info": {
   "codemirror_mode": {
    "name": "ipython",
    "version": 3
   },
   "file_extension": ".py",
   "mimetype": "text/x-python",
   "name": "python",
   "nbconvert_exporter": "python",
   "pygments_lexer": "ipython3",
   "version": "3.6.0"
  }
 },
 "nbformat": 4,
 "nbformat_minor": 1
}
