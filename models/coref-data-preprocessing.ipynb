{
 "cells": [
  {
   "cell_type": "code",
   "execution_count": 1,
   "metadata": {
    "_cell_guid": "b1076dfc-b9ad-4769-8c92-a6c4dae69d19",
    "_uuid": "8f2839f25d086af736a60e9eeb907d3b93b6e0e5"
   },
   "outputs": [
    {
     "name": "stdout",
     "output_type": "stream",
     "text": [
      "['gap-coreference', 'gendered-pronoun-resolution']\n"
     ]
    }
   ],
   "source": [
    "# This Python 3 environment comes with many helpful analytics libraries installed\n",
    "# It is defined by the kaggle/python docker image: https://github.com/kaggle/docker-python\n",
    "# For example, here's several helpful packages to load in \n",
    "\n",
    "import numpy as np # linear algebra\n",
    "import pandas as pd # data processing, CSV file I/O (e.g. pd.read_csv)\n",
    "\n",
    "# Input data files are available in the \"../input/\" directory.\n",
    "# For example, running this (by clicking run or pressing Shift+Enter) will list the files in the input directory\n",
    "\n",
    "import os\n",
    "import gc\n",
    "print(os.listdir(\"../input\"))\n",
    "\n",
    "import spacy\n",
    "\n",
    "# Any results you write to the current directory are saved as output."
   ]
  },
  {
   "cell_type": "code",
   "execution_count": 2,
   "metadata": {
    "_cell_guid": "79c7e3d0-c299-4dcb-8224-4455121ee9b0",
    "_uuid": "d629ff2d2480ee46fbb7e2d37f6b5fab8052498a"
   },
   "outputs": [],
   "source": [
    "DATA_ROOT = '../input/'\n",
    "GAP_DATA_FOLDER = os.path.join(DATA_ROOT, 'gap-coreference')\n",
    "SUB_DATA_FOLDER = os.path.join(DATA_ROOT, 'gendered-pronoun-resolution')"
   ]
  },
  {
   "cell_type": "markdown",
   "metadata": {
    "_uuid": "461cb23b791e2d210e712c933e62de59d19aa20d"
   },
   "source": [
    "# Import Data"
   ]
  },
  {
   "cell_type": "code",
   "execution_count": 3,
   "metadata": {
    "_uuid": "e42e2e7f636cf0702cc472f3d855b451554927dd"
   },
   "outputs": [],
   "source": [
    "test_df_path = os.path.join(GAP_DATA_FOLDER, 'gap-development.tsv')\n",
    "train_df_path = os.path.join(GAP_DATA_FOLDER, 'gap-test.tsv')\n",
    "dev_df_path = os.path.join(GAP_DATA_FOLDER, 'gap-validation.tsv')\n",
    "\n",
    "train_df = pd.read_csv(train_df_path, sep='\\t')\n",
    "test_df = pd.read_csv(test_df_path, sep='\\t')\n",
    "dev_df = pd.read_csv(dev_df_path, sep='\\t')\n",
    "\n",
    "df = pd.concat([train_df, dev_df, test_df], axis=0, ignore_index=True)\n",
    "train_df.reset_index(drop=True, inplace=True)\n",
    "\n",
    "del train_df, test_df, dev_df\n",
    "gc.collect()\n",
    "\n",
    "df = df.sample(frac=1).reset_index(drop=True)"
   ]
  },
  {
   "cell_type": "markdown",
   "metadata": {},
   "source": [
    "## TODO: Load Test Data in The Second Phase"
   ]
  },
  {
   "cell_type": "code",
   "execution_count": 4,
   "metadata": {},
   "outputs": [],
   "source": [
    "test_df_path2 = os.path.join(GAP_DATA_FOLDER, 'gap-development.tsv')\n",
    "test_df = pd.read_csv(test_df_path2, sep='\\t')"
   ]
  },
  {
   "cell_type": "markdown",
   "metadata": {
    "_uuid": "d60addb918fc181bd736f5497c3114dbf3d3bfd4"
   },
   "source": [
    "# Preprocessing"
   ]
  },
  {
   "cell_type": "code",
   "execution_count": 5,
   "metadata": {
    "_uuid": "076788ce7be4a701d22cbf36e054f86d5f73a9d5"
   },
   "outputs": [],
   "source": [
    "nlp = spacy.load('en_core_web_sm', disable=['parser', 'tagger', 'ner', 'textcat'])"
   ]
  },
  {
   "cell_type": "markdown",
   "metadata": {
    "_uuid": "1c8b363cd5401b2693fead76b18157e82996c543"
   },
   "source": [
    "## Clean Text"
   ]
  },
  {
   "cell_type": "markdown",
   "metadata": {
    "_uuid": "f0792301d7952c11af76ad9f67373ecd54d0deef"
   },
   "source": [
    "### Clean up Entity Names\n",
    "Replace Entity Names A and B by Alice and Bob."
   ]
  },
  {
   "cell_type": "code",
   "execution_count": 6,
   "metadata": {
    "_uuid": "3c822c0bbebcd4c4483cc6f01bed38dd08fb8f98"
   },
   "outputs": [],
   "source": [
    "AT_NAME = \"AAAAAAXXXXXXXXX\"\n",
    "BT_NAME = \"BBBBBBXXXXXXXXX\"\n",
    "A_NAME = 'John'\n",
    "B_NAME = 'Bob'\n",
    "\n",
    "def find_all_substring(a_str, sub):\n",
    "    start = 0\n",
    "    result = list()\n",
    "    while True:\n",
    "        start = a_str.find(sub, start)\n",
    "        if start == -1:\n",
    "            return result\n",
    "        result.append(start)\n",
    "        start += len(sub) # use start += 1 to find overlapping matches\n",
    "\n",
    "def _update_offset(text, old_, new_, offset):\n",
    "    len_in = len(new_) - len(old_)\n",
    "    text_ = text[0:offset]\n",
    "    return offset + len_in * len(find_all_substring(text_, old_))\n",
    "    \n",
    "def replace_entity_name(text, a_name, b_name, a_offset, b_offset, p_offset):\n",
    "    a_name = a_name.strip()\n",
    "    b_name = b_name.strip()\n",
    "    \n",
    "    if len(a_name) < len(b_name):\n",
    "        a_name, b_name = b_name, a_name\n",
    "        AT_NAME_, BT_NAME_ = BT_NAME, AT_NAME\n",
    "        A_NAME_, B_NAME_ = B_NAME, A_NAME\n",
    "    else:\n",
    "        AT_NAME_, BT_NAME_ = AT_NAME, BT_NAME\n",
    "        A_NAME_, B_NAME_ = A_NAME, B_NAME\n",
    "    \n",
    "    # replace the whole name\n",
    "    a_offset = _update_offset(text, a_name, AT_NAME_, a_offset)\n",
    "    b_offset = _update_offset(text, a_name, AT_NAME_, b_offset)\n",
    "    p_offset = _update_offset(text, a_name, AT_NAME_, p_offset)\n",
    "    text = text.replace(a_name, AT_NAME_)\n",
    "\n",
    "    a_offset = _update_offset(text, b_name, BT_NAME_, a_offset)\n",
    "    b_offset = _update_offset(text, b_name, BT_NAME_, b_offset)\n",
    "    p_offset = _update_offset(text, b_name, BT_NAME_, p_offset)\n",
    "    text = text.replace(b_name, BT_NAME_)\n",
    "    \n",
    "    # replace sub name\n",
    "    a_name_list = a_name.split(\" \")\n",
    "    b_name_list = b_name.split(\" \")\n",
    "    for a_subname in a_name_list:\n",
    "        a_offset = _update_offset(text, a_subname, AT_NAME_, a_offset)\n",
    "        b_offset = _update_offset(text, a_subname, AT_NAME_, b_offset)\n",
    "        p_offset = _update_offset(text, a_subname, AT_NAME_, p_offset)\n",
    "        text = text.replace(a_subname, AT_NAME_)\n",
    "    for b_subname in b_name_list:\n",
    "        a_offset = _update_offset(text, b_subname, BT_NAME_, a_offset)\n",
    "        b_offset = _update_offset(text, b_subname, BT_NAME_, b_offset)\n",
    "        p_offset = _update_offset(text, b_subname, BT_NAME_, p_offset)\n",
    "        text = text.replace(b_subname, BT_NAME_)\n",
    "    \n",
    "    # remove suffix\n",
    "    # replace the whole name\n",
    "    a_offset = _update_offset(text, AT_NAME_, A_NAME_, a_offset)\n",
    "    b_offset = _update_offset(text, AT_NAME_, A_NAME_, b_offset)\n",
    "    p_offset = _update_offset(text, AT_NAME_, A_NAME_, p_offset)\n",
    "    text = text.replace(AT_NAME_, A_NAME_)\n",
    "\n",
    "    a_offset = _update_offset(text, BT_NAME_, B_NAME_, a_offset)\n",
    "    b_offset = _update_offset(text, BT_NAME_, B_NAME_, b_offset)\n",
    "    p_offset = _update_offset(text, BT_NAME_, B_NAME_, p_offset)\n",
    "    text = text.replace(BT_NAME_, B_NAME_)\n",
    "    \n",
    "    if len(a_name) < len(b_name):\n",
    "        a_offset, b_offset = b_offset, a_offset\n",
    "    \n",
    "    return text, a_offset, b_offset, p_offset"
   ]
  },
  {
   "cell_type": "code",
   "execution_count": 7,
   "metadata": {
    "_uuid": "ad665933d75682de36494c845f079aaa34ba58af"
   },
   "outputs": [],
   "source": [
    "def entity_replace_func(row):\n",
    "    text, a_offset, b_offset, p_offset = replace_entity_name(\n",
    "        row['Text'], row['A'], row['B'], row['A-offset'], row['B-offset'], row['Pronoun-offset']\n",
    "    )\n",
    "    \n",
    "    row_ = row.copy()\n",
    "    row_['Text'] = text\n",
    "    row_['A'] = A_NAME\n",
    "    row_['B'] = B_NAME\n",
    "    row_['A-offset'] = a_offset\n",
    "    row_['B-offset'] = b_offset\n",
    "    row_['Pronoun-offset'] = p_offset\n",
    "    \n",
    "    return row_"
   ]
  },
  {
   "cell_type": "code",
   "execution_count": 8,
   "metadata": {},
   "outputs": [],
   "source": [
    "df = df.apply(entity_replace_func, axis=1)\n",
    "test_df = test_df.apply(entity_replace_func, axis=1)"
   ]
  },
  {
   "cell_type": "code",
   "execution_count": 9,
   "metadata": {
    "_uuid": "6cfa1933801af3de8d5d6cfc1cd9c3e23481e0bd"
   },
   "outputs": [],
   "source": [
    "df.to_csv(\"gap-phase1.csv\", index=False)\n",
    "test_df.to_csv(\"gap-phase2.csv\", index=False)"
   ]
  }
 ],
 "metadata": {
  "kernelspec": {
   "display_name": "Python 3",
   "language": "python",
   "name": "python3"
  },
  "language_info": {
   "codemirror_mode": {
    "name": "ipython",
    "version": 3
   },
   "file_extension": ".py",
   "mimetype": "text/x-python",
   "name": "python",
   "nbconvert_exporter": "python",
   "pygments_lexer": "ipython3",
   "version": "3.6.0"
  }
 },
 "nbformat": 4,
 "nbformat_minor": 1
}
