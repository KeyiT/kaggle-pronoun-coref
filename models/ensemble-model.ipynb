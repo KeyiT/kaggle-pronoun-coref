{
 "cells": [
  {
   "cell_type": "code",
   "execution_count": 1,
   "metadata": {
    "_cell_guid": "b1076dfc-b9ad-4769-8c92-a6c4dae69d19",
    "_uuid": "8f2839f25d086af736a60e9eeb907d3b93b6e0e5"
   },
   "outputs": [
    {
     "name": "stderr",
     "output_type": "stream",
     "text": [
      "Using TensorFlow backend.\n"
     ]
    },
    {
     "name": "stdout",
     "output_type": "stream",
     "text": [
      "['coref-by-mlp-on-glove', 'gendered-pronoun-resolution', 'coref-by-mapped-mlp-model-on-layerwise-lbert', 'coref-by-flat-pair-mlp-model-on-layerwise-lbert3', 'coref-by-mapped-mlp-model-on-layerwise-lbert3', 'coref-by-flat-pair-mlp-model-on-layerwise-bert', 'coref-by-mapped-mlp-model-on-layerwise-lbert2', 'coref-by-flat-pair-mlp-model-on-layerwise-lbert', 'coref-by-mapped-mlp-model-on-layerwise-bert', 'coref-by-flat-pair-mlp-model-on-layerwise-lbert2', 'coref-by-rnn-attention-on-glove']\n"
     ]
    }
   ],
   "source": [
    "# This Python 3 environment comes with many helpful analytics libraries installed\n",
    "# It is defined by the kaggle/python docker image: https://github.com/kaggle/docker-python\n",
    "# For example, here's several helpful packages to load in \n",
    "\n",
    "import numpy as np # linear algebra\n",
    "import pandas as pd # data processing, CSV file I/O (e.g. pd.read_csv)\n",
    "\n",
    "# Input data files are available in the \"../input/\" directory.\n",
    "# For example, running this (by clicking run or pressing Shift+Enter) will list the files in the input directory\n",
    "\n",
    "import os\n",
    "import gc\n",
    "\n",
    "from sklearn import metrics as skm\n",
    "from sklearn.model_selection import train_test_split\n",
    "from scipy.optimize import differential_evolution\n",
    "from keras import backend\n",
    "from keras import layers\n",
    "from keras import models\n",
    "from keras import callbacks as kc\n",
    "from keras import optimizers as ko\n",
    "from keras import initializers, regularizers, constraints, activations\n",
    "from keras.engine import Layer\n",
    "import keras.backend as K\n",
    "from keras.layers import merge\n",
    "import matplotlib.pyplot as plt\n",
    "\n",
    "print(os.listdir(\"../input\"))\n",
    "\n",
    "# Any results you write to the current directory are saved as output."
   ]
  },
  {
   "cell_type": "code",
   "execution_count": 2,
   "metadata": {
    "_cell_guid": "79c7e3d0-c299-4dcb-8224-4455121ee9b0",
    "_uuid": "d629ff2d2480ee46fbb7e2d37f6b5fab8052498a"
   },
   "outputs": [],
   "source": [
    "DATA_ROOT = '../input/'\n",
    "SUB_DATA_FOLDER = os.path.join(DATA_ROOT, 'gendered-pronoun-resolution')\n",
    "MLPGLOVE_DATA_FOLDER = os.path.join(DATA_ROOT, 'coref-by-mlp-on-glove')\n",
    "RNNGLOVE_DATA_FOLDER = os.path.join(DATA_ROOT, 'coref-by-rnn-attention-on-glove')\n",
    "\n",
    "PAIRBERT_DATA_FOLDER = os.path.join(DATA_ROOT, 'coref-by-flat-pair-mlp-model-on-layerwise-bert')\n",
    "TripletBERT_DATA_FOLDER = os.path.join(DATA_ROOT, 'coref-by-mapped-mlp-model-on-layerwise-bert')\n",
    "\n",
    "PAIRLBERT_DATA_FOLDER = os.path.join(DATA_ROOT, 'coref-by-flat-pair-mlp-model-on-layerwise-lbert')\n",
    "TripletLBERT_DATA_FOLDER = os.path.join(DATA_ROOT, 'coref-by-mapped-mlp-model-on-layerwise-lbert')\n",
    "PAIRLBERT2_DATA_FOLDER = os.path.join(DATA_ROOT, 'coref-by-flat-pair-mlp-model-on-layerwise-lbert2')\n",
    "TripletLBERT2_DATA_FOLDER = os.path.join(DATA_ROOT, 'coref-by-mapped-mlp-model-on-layerwise-lbert2')\n",
    "PAIRLBERT3_DATA_FOLDER = os.path.join(DATA_ROOT, 'coref-by-flat-pair-mlp-model-on-layerwise-lbert3')\n",
    "TripletLBERT3_DATA_FOLDER = os.path.join(DATA_ROOT, 'coref-by-mapped-mlp-model-on-layerwise-lbert3')"
   ]
  },
  {
   "cell_type": "markdown",
   "metadata": {
    "_uuid": "461cb23b791e2d210e712c933e62de59d19aa20d"
   },
   "source": [
    "# Import Data"
   ]
  },
  {
   "cell_type": "markdown",
   "metadata": {},
   "source": [
    "## Train Data"
   ]
  },
  {
   "cell_type": "code",
   "execution_count": 3,
   "metadata": {},
   "outputs": [],
   "source": [
    "base_name_list = list()\n",
    "\n",
    "# mention-pair glove\n",
    "base_name = os.path.join(MLPGLOVE_DATA_FOLDER, \"flatmlp_glove\")\n",
    "base_name_list.append(base_name)\n",
    "\n",
    "# mention-triplet glove\n",
    "base_name = os.path.join(MLPGLOVE_DATA_FOLDER, \"mapmlp_glove\")\n",
    "base_name_list.append(base_name)\n",
    "\n",
    "# rnn glove\n",
    "base_name = os.path.join(RNNGLOVE_DATA_FOLDER, \"rnnattetion_glove\")\n",
    "base_name_list.append(base_name)\n",
    "\n",
    "# mention-pair bert\n",
    "base_name = os.path.join(PAIRBERT_DATA_FOLDER, \"flatpairmlp_layer\")\n",
    "for i in range(12):\n",
    "    base_name_list.append(base_name + str(i))\n",
    "    \n",
    "# mention-triplet bert\n",
    "base_name = os.path.join(TripletBERT_DATA_FOLDER, \"mappedmlp_layer\")\n",
    "for i in range(12):\n",
    "    base_name_list.append(base_name + str(i))\n",
    "    \n",
    "# mention-pair large bert\n",
    "base_name = os.path.join(PAIRLBERT_DATA_FOLDER, \"flatpairmlp_layer\")\n",
    "for i in range(6):\n",
    "    base_name_list.append(base_name + str(i))\n",
    "\n",
    "# mention-triplet large bert\n",
    "base_name = os.path.join(TripletLBERT_DATA_FOLDER, \"mappedmlp_layer\")\n",
    "for i in range(6):\n",
    "    base_name_list.append(base_name + str(i))\n",
    "    \n",
    "# mention-pair large bert2\n",
    "base_name = os.path.join(PAIRLBERT2_DATA_FOLDER, \"flatpairmlp_layer\")\n",
    "for i in range(6):\n",
    "    base_name_list.append(base_name + str(i))\n",
    "    \n",
    "# mention-triplet large bert2\n",
    "base_name = os.path.join(TripletLBERT2_DATA_FOLDER, \"mappedmlp_layer\")\n",
    "for i in range(6):\n",
    "    base_name_list.append(base_name + str(i))\n",
    "    \n",
    "# mention-pair large bert3\n",
    "base_name = os.path.join(PAIRLBERT3_DATA_FOLDER, \"flatpairmlp_layer\")\n",
    "for i in range(6):\n",
    "    base_name_list.append(base_name + str(i))\n",
    "\n",
    "# mention-triplet large bert3\n",
    "base_name = os.path.join(TripletLBERT3_DATA_FOLDER, \"mappedmlp_layer\")\n",
    "for i in range(6):\n",
    "    base_name_list.append(base_name + str(i))\n"
   ]
  },
  {
   "cell_type": "code",
   "execution_count": 4,
   "metadata": {},
   "outputs": [],
   "source": [
    "train_file_names = list()\n",
    "dev_file_names = list()\n",
    "test_file_names = list()\n",
    "\n",
    "train_file_names = [file_name + \"_train.csv\" for file_name in base_name_list]\n",
    "dev_file_names = [file_name + \"_dev.csv\" for file_name in base_name_list]\n",
    "test_file_names = [file_name + \"_test.csv\" for file_name in base_name_list]"
   ]
  },
  {
   "cell_type": "code",
   "execution_count": 5,
   "metadata": {},
   "outputs": [],
   "source": [
    "train_dfs = [\n",
    "    pd.read_csv(file_path).dropna() for file_path in train_file_names\n",
    "]\n",
    "\n",
    "dev_dfs = [\n",
    "    pd.read_csv(file_path) for file_path in dev_file_names\n",
    "]\n",
    "\n",
    "test_dfs = [\n",
    "    pd.read_csv(file_path) for file_path in test_file_names\n",
    "]"
   ]
  },
  {
   "cell_type": "code",
   "execution_count": 6,
   "metadata": {},
   "outputs": [
    {
     "name": "stdout",
     "output_type": "stream",
     "text": [
      "(4000, 13)\n",
      "(4000, 13)\n"
     ]
    }
   ],
   "source": [
    "print(train_dfs[0].shape)\n",
    "print(train_dfs[1].shape)"
   ]
  },
  {
   "cell_type": "markdown",
   "metadata": {},
   "source": [
    "# Encode Data"
   ]
  },
  {
   "cell_type": "code",
   "execution_count": 7,
   "metadata": {},
   "outputs": [],
   "source": [
    "def _ground_row_to_y(row):\n",
    "    if row.loc['A-coref']:\n",
    "        return 0\n",
    "    if row.loc['B-coref']:\n",
    "        return 1\n",
    "    return 2\n",
    "\n",
    "def df_to_x(df):\n",
    "    return df[['A', 'B', 'NEITHER']].values"
   ]
  },
  {
   "cell_type": "code",
   "execution_count": 8,
   "metadata": {},
   "outputs": [],
   "source": [
    "# ground\n",
    "y_train = train_dfs[0].apply(_ground_row_to_y, axis=1)\n",
    "y_dev = dev_dfs[0].apply(_ground_row_to_y, axis=1)\n",
    "\n",
    "# x\n",
    "X_train = np.stack([df_to_x(df_) for df_ in train_dfs], axis=1)\n",
    "X_dev = np.stack([df_to_x(df_) for df_ in dev_dfs], axis=1)\n",
    "X_test = np.stack([df_to_x(df_) for df_ in test_dfs], axis=1)"
   ]
  },
  {
   "cell_type": "markdown",
   "metadata": {},
   "source": [
    "# Log Loss"
   ]
  },
  {
   "cell_type": "code",
   "execution_count": 9,
   "metadata": {},
   "outputs": [],
   "source": [
    "def measure_log_loss(ground, preds):\n",
    "    preds = preds.tolist()\n",
    "    return skm.log_loss(ground, preds, labels=[0, 1, 2], eps=10**-15)"
   ]
  },
  {
   "cell_type": "code",
   "execution_count": 10,
   "metadata": {},
   "outputs": [
    {
     "name": "stdout",
     "output_type": "stream",
     "text": [
      "0.5769689700224185\n"
     ]
    }
   ],
   "source": [
    "print(measure_log_loss(y_train, X_train[:,-5,:]))"
   ]
  },
  {
   "cell_type": "markdown",
   "metadata": {},
   "source": [
    "# Ensemble Models"
   ]
  },
  {
   "cell_type": "markdown",
   "metadata": {},
   "source": [
    "## Ensemble Baseline"
   ]
  },
  {
   "cell_type": "code",
   "execution_count": 11,
   "metadata": {},
   "outputs": [],
   "source": [
    "y_preds = np.mean(X_dev, axis=1)"
   ]
  },
  {
   "cell_type": "code",
   "execution_count": 12,
   "metadata": {},
   "outputs": [
    {
     "name": "stdout",
     "output_type": "stream",
     "text": [
      "0.4305603135202857\n"
     ]
    }
   ],
   "source": [
    "print(measure_log_loss(y_dev, y_preds))"
   ]
  },
  {
   "cell_type": "markdown",
   "metadata": {},
   "source": [
    "## Weighted Average By Stochastic Global Search "
   ]
  },
  {
   "cell_type": "code",
   "execution_count": 13,
   "metadata": {},
   "outputs": [],
   "source": [
    "# normalize a vector to have unit norm\n",
    "def normalize(weights):\n",
    "    # calculate l1 vector norm\n",
    "    #print(weights.shape)\n",
    "    result = np.linalg.norm(weights, 1)\n",
    "    # check for a vector of all zeros\n",
    "    if result == 0.0:\n",
    "        return weights\n",
    "    # return normalized vector (unit norm)\n",
    "    return weights / result\n",
    "\n",
    "def wa_model(weights, X_meta_list):\n",
    "    # normalize weights\n",
    "    normalized = normalize(weights)\n",
    "    \n",
    "    X_meta = np.array(X_meta_list)\n",
    "    # weighted sum across ensemble members\n",
    "    summed = np.tensordot(X_meta, normalized, axes=((0),(0)))\n",
    "    return summed\n",
    "    \n",
    "def loss_function(weights, X_meta_list, y):\n",
    "    y_pred_ = wa_model(weights, X_meta_list)\n",
    "    \n",
    "    return measure_log_loss(y, y_pred_)"
   ]
  },
  {
   "cell_type": "code",
   "execution_count": 14,
   "metadata": {},
   "outputs": [],
   "source": [
    "def ensemble(X_meta_list, y, X_test_meta_list):\n",
    "    # define bounds on each weight\n",
    "    bound_w = [(0.0, 1.0)  for _ in range(len(X_meta_list))]\n",
    "    # arguments to the loss function\n",
    "    search_arg = (X_meta_list, y)\n",
    "    # global optimization of ensemble weights\n",
    "    weights = differential_evolution(loss_function, bound_w, search_arg, maxiter=1000, tol=1e-7)['x']\n",
    "    \n",
    "    print(normalize(weights))\n",
    "    \n",
    "    return wa_model(weights, X_test_meta_list)"
   ]
  },
  {
   "cell_type": "code",
   "execution_count": 15,
   "metadata": {},
   "outputs": [],
   "source": [
    "# y_preds = ensemble(x_trains, y_train, x_trains)"
   ]
  },
  {
   "cell_type": "code",
   "execution_count": 16,
   "metadata": {},
   "outputs": [],
   "source": [
    "# print(measure_log_loss(y_test, y_preds))"
   ]
  },
  {
   "cell_type": "markdown",
   "metadata": {},
   "source": [
    "## Weighted Average By Keras"
   ]
  },
  {
   "cell_type": "code",
   "execution_count": 17,
   "metadata": {},
   "outputs": [],
   "source": [
    "class WeightedAverage(Layer):\n",
    "\n",
    "    def __init__(self,**kwargs):\n",
    "\n",
    "        self.supports_masking = False\n",
    "        self.init = initializers.get('lecun_normal')\n",
    "        \n",
    "        self.w_regularizer = regularizers.get(None)\n",
    "        self.w_constraint = constraints.get(None)\n",
    "        \n",
    "        super(WeightedAverage, self).__init__(**kwargs)\n",
    "\n",
    "    def build(self, input_shape):\n",
    "\n",
    "        self.w = self.add_weight((input_shape[1], ),\n",
    "                                 initializer=self.init,\n",
    "                                 name='{}_ww'.format(self.name),\n",
    "                                 regularizer=self.w_regularizer,\n",
    "                                 constraint=self.w_constraint)\n",
    "\n",
    "    def compute_mask(self, input, input_mask=None):\n",
    "        # do not pass the mask to the next layers\n",
    "        return None\n",
    "\n",
    "    def call(self, inputs, mask=None):\n",
    "        x = inputs\n",
    "        \n",
    "        w = activations.sigmoid(self.w)\n",
    "        w = w / (K.sum(w) + K.epsilon())\n",
    "        w = K.expand_dims(w)\n",
    "        print(w.shape)\n",
    "        weighted_input = x * w\n",
    "        return K.sum(weighted_input, axis=1)\n",
    "\n",
    "    def compute_output_shape(self, input_shape):\n",
    "        return input_shape[0], input_shape[-1]\n",
    "\n",
    "    def get_config(self):\n",
    "        config = {\n",
    "        }\n",
    "        base_config = super(WeightedAverage, self).get_config()\n",
    "        return dict(list(base_config.items()) + list(config.items()))"
   ]
  },
  {
   "cell_type": "code",
   "execution_count": 18,
   "metadata": {},
   "outputs": [],
   "source": [
    "def build_ensemble_model(num_models, input_dims, output_dims):\n",
    "    \n",
    "    # inputs\n",
    "    inputs = models.Input(shape=(num_models, input_dims), dtype='float32', name='input')\n",
    "    \n",
    "    x = inputs\n",
    "    \n",
    "    outputs = WeightedAverage(name=\"softmax_layer\")(x)\n",
    "    \n",
    "    model = models.Model(inputs, outputs)\n",
    "    return model"
   ]
  },
  {
   "cell_type": "code",
   "execution_count": 19,
   "metadata": {},
   "outputs": [],
   "source": [
    "def ensemble(X_, y, X_test_):\n",
    "    en_model = build_ensemble_model(X_.shape[1], 3, 3)\n",
    "    adam = ko.Adam()\n",
    "    early_stop = kc.EarlyStopping(monitor = \"loss\", mode = \"min\", patience=5)\n",
    "    en_model.compile(adam, loss=\"sparse_categorical_crossentropy\")\n",
    "    \n",
    "    print(en_model.summary())\n",
    "    \n",
    "    history = en_model.fit(X_, y, batch_size=32, epochs=5000, callbacks = [early_stop], verbose=0)\n",
    "    \n",
    "    print(\"train loss: \")\n",
    "    print(history.history['loss'][-1])\n",
    "    plt.plot(history.history['loss'])\n",
    "    plt.title('train loss')\n",
    "    plt.ylabel('loss')\n",
    "    plt.xlabel('epoch')\n",
    "    plt.show()\n",
    "    \n",
    "    return en_model.predict(X_test_), en_model"
   ]
  },
  {
   "cell_type": "code",
   "execution_count": 20,
   "metadata": {},
   "outputs": [
    {
     "name": "stdout",
     "output_type": "stream",
     "text": [
      "WARNING:tensorflow:From /opt/conda/lib/python3.6/site-packages/tensorflow/python/framework/op_def_library.py:263: colocate_with (from tensorflow.python.framework.ops) is deprecated and will be removed in a future version.\n",
      "Instructions for updating:\n",
      "Colocations handled automatically by placer.\n",
      "(63, 1)\n",
      "_________________________________________________________________\n",
      "Layer (type)                 Output Shape              Param #   \n",
      "=================================================================\n",
      "input (InputLayer)           (None, 63, 3)             0         \n",
      "_________________________________________________________________\n",
      "softmax_layer (WeightedAvera (None, 3)                 63        \n",
      "=================================================================\n",
      "Total params: 63\n",
      "Trainable params: 63\n",
      "Non-trainable params: 0\n",
      "_________________________________________________________________\n",
      "None\n",
      "WARNING:tensorflow:From /opt/conda/lib/python3.6/site-packages/tensorflow/python/ops/math_ops.py:3066: to_int32 (from tensorflow.python.ops.math_ops) is deprecated and will be removed in a future version.\n",
      "Instructions for updating:\n",
      "Use tf.cast instead.\n",
      "train loss: \n",
      "0.33232274985313415\n"
     ]
    },
    {
     "data": {
      "image/png": "[encoded data removed]",
      "text/plain": [
       "<Figure size 432x288 with 1 Axes>"
      ]
     },
     "metadata": {},
     "output_type": "display_data"
    }
   ],
   "source": [
    "y_preds, model1 = ensemble(X_train, y_train, X_dev)"
   ]
  },
  {
   "cell_type": "code",
   "execution_count": 21,
   "metadata": {},
   "outputs": [
    {
     "name": "stdout",
     "output_type": "stream",
     "text": [
      "0.31434844520399874\n"
     ]
    }
   ],
   "source": [
    "print(measure_log_loss(y_dev, y_preds))"
   ]
  },
  {
   "cell_type": "markdown",
   "metadata": {},
   "source": [
    "## Linear Regression By Keras"
   ]
  },
  {
   "cell_type": "code",
   "execution_count": 22,
   "metadata": {},
   "outputs": [],
   "source": [
    "def build_ensemble_model(num_models, input_dims, output_dims):\n",
    "    \n",
    "    # inputs\n",
    "    inputs = models.Input(shape=(num_models, input_dims), dtype='float32', name='input')\n",
    "    x = inputs\n",
    "    \n",
    "    x = layers.Flatten(name='flatten_layer')(x)\n",
    "    outputs = layers.Dense(3, activation='softmax')(x)\n",
    "    \n",
    "    model = models.Model(inputs, outputs)\n",
    "    return model"
   ]
  },
  {
   "cell_type": "code",
   "execution_count": 23,
   "metadata": {},
   "outputs": [
    {
     "name": "stdout",
     "output_type": "stream",
     "text": [
      "_________________________________________________________________\n",
      "Layer (type)                 Output Shape              Param #   \n",
      "=================================================================\n",
      "input (InputLayer)           (None, 63, 3)             0         \n",
      "_________________________________________________________________\n",
      "flatten_layer (Flatten)      (None, 189)               0         \n",
      "_________________________________________________________________\n",
      "dense_1 (Dense)              (None, 3)                 570       \n",
      "=================================================================\n",
      "Total params: 570\n",
      "Trainable params: 570\n",
      "Non-trainable params: 0\n",
      "_________________________________________________________________\n",
      "None\n",
      "train loss: \n",
      "0.31779979664087293\n"
     ]
    },
    {
     "data": {
      "image/png": "[encoded data removed]",
      "text/plain": [
       "<Figure size 432x288 with 1 Axes>"
      ]
     },
     "metadata": {},
     "output_type": "display_data"
    }
   ],
   "source": [
    "y_preds, model2 = ensemble(X_train, y_train, X_dev)"
   ]
  },
  {
   "cell_type": "code",
   "execution_count": 24,
   "metadata": {},
   "outputs": [
    {
     "name": "stdout",
     "output_type": "stream",
     "text": [
      "0.31651661631181927\n"
     ]
    }
   ],
   "source": [
    "print(measure_log_loss(y_dev, y_preds))"
   ]
  },
  {
   "cell_type": "markdown",
   "metadata": {},
   "source": [
    "# Save Results"
   ]
  },
  {
   "cell_type": "code",
   "execution_count": 25,
   "metadata": {},
   "outputs": [],
   "source": [
    "pred1 = model1.predict(X_test)\n",
    "sub_df_path = os.path.join(SUB_DATA_FOLDER, 'sample_submission_stage_1.csv')\n",
    "sub_df = pd.read_csv(sub_df_path)\n",
    "sub_df.loc[:, 'A'] = pd.Series(pred1[:, 0])\n",
    "sub_df.loc[:, 'B'] = pd.Series(pred1[:, 1])\n",
    "sub_df.loc[:, 'NEITHER'] = pd.Series(pred1[:, 2])\n",
    "sub_df.to_csv(\"submission1.csv\", index=False)"
   ]
  },
  {
   "cell_type": "code",
   "execution_count": 26,
   "metadata": {},
   "outputs": [],
   "source": [
    "pred2 = model2.predict(X_test)\n",
    "sub_df_path = os.path.join(SUB_DATA_FOLDER, 'sample_submission_stage_1.csv')\n",
    "sub_df = pd.read_csv(sub_df_path)\n",
    "sub_df.loc[:, 'A'] = pd.Series(pred2[:, 0])\n",
    "sub_df.loc[:, 'B'] = pd.Series(pred2[:, 1])\n",
    "sub_df.loc[:, 'NEITHER'] = pd.Series(pred2[:, 2])\n",
    "sub_df.to_csv(\"submission2.csv\", index=False)"
   ]
  }
 ],
 "metadata": {
  "kernelspec": {
   "display_name": "Python 3",
   "language": "python",
   "name": "python3"
  },
  "language_info": {
   "codemirror_mode": {
    "name": "ipython",
    "version": 3
   },
   "file_extension": ".py",
   "mimetype": "text/x-python",
   "name": "python",
   "nbconvert_exporter": "python",
   "pygments_lexer": "ipython3",
   "version": "3.6.0"
  }
 },
 "nbformat": 4,
 "nbformat_minor": 1
}
